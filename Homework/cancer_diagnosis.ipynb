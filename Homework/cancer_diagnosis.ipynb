{
 "cells": [
  {
   "cell_type": "markdown",
   "metadata": {},
   "source": [
    "### I- Read the dataset file “Cancer.csv” (from github using the following command), and assign it to a Pandas DataFrame:"
   ]
  },
  {
   "cell_type": "code",
   "execution_count": 2,
   "metadata": {
    "collapsed": false,
    "ExecuteTime": {
     "end_time": "2024-02-25T07:35:55.221598400Z",
     "start_time": "2024-02-25T07:35:54.897193700Z"
    }
   },
   "outputs": [],
   "source": [
    "# Importing the required packages and libraries\n",
    "# we will need numpy and pandas later\n",
    "\n",
    "import numpy as np\n",
    "import pandas as pd"
   ]
  },
  {
   "cell_type": "code",
   "execution_count": 3,
   "metadata": {
    "collapsed": false,
    "ExecuteTime": {
     "end_time": "2024-02-25T07:35:55.882141800Z",
     "start_time": "2024-02-25T07:35:55.223598200Z"
    }
   },
   "outputs": [],
   "source": [
    "# reading a CSV file directly from Web, and store it in a pandas DataFrame:\n",
    "# \"read_csv\" is a pandas function to read csv files from web or local device:\n",
    "\n",
    "df  = pd.read_csv(\"https://github.com/mpourhoma/CS4662/raw/master/Cancer.csv\")"
   ]
  },
  {
   "cell_type": "markdown",
   "metadata": {
    "collapsed": false
   },
   "source": [
    "#### Check out the dataset. As you see, the dataset includes 9 numerical features. The last column is the binary label (“1” means it is a malignant cancer, “0” means it is a benign   tumor). You will use all 9 features in this homework."
   ]
  },
  {
   "cell_type": "code",
   "execution_count": 4,
   "metadata": {
    "collapsed": false,
    "ExecuteTime": {
     "end_time": "2024-02-25T07:35:55.904970900Z",
     "start_time": "2024-02-25T07:35:55.883141500Z"
    }
   },
   "outputs": [
    {
     "data": {
      "text/plain": "   Clump_Thickness  Uniformity_of_Cell_Size  Uniformity_of_Cell_Shape  \\\n0                5                        1                         1   \n1                5                        4                         4   \n2                3                        1                         1   \n3                6                        8                         8   \n4                4                        1                         1   \n\n   Marginal_Adhesion  Single_Epithelial_Cell_Size  Bare_Nuclei  \\\n0                  1                            2            1   \n1                  5                            7           10   \n2                  1                            2            2   \n3                  1                            3            4   \n4                  3                            2            1   \n\n   Bland_Chromatin  Normal_Nucleoli  Mitoses  Malignant_Cancer  \n0                3                1        1                 0  \n1                3                2        1                 0  \n2                3                1        1                 0  \n3                3                7        1                 0  \n4                3                1        1                 0  ",
      "text/html": "<div>\n<style scoped>\n    .dataframe tbody tr th:only-of-type {\n        vertical-align: middle;\n    }\n\n    .dataframe tbody tr th {\n        vertical-align: top;\n    }\n\n    .dataframe thead th {\n        text-align: right;\n    }\n</style>\n<table border=\"1\" class=\"dataframe\">\n  <thead>\n    <tr style=\"text-align: right;\">\n      <th></th>\n      <th>Clump_Thickness</th>\n      <th>Uniformity_of_Cell_Size</th>\n      <th>Uniformity_of_Cell_Shape</th>\n      <th>Marginal_Adhesion</th>\n      <th>Single_Epithelial_Cell_Size</th>\n      <th>Bare_Nuclei</th>\n      <th>Bland_Chromatin</th>\n      <th>Normal_Nucleoli</th>\n      <th>Mitoses</th>\n      <th>Malignant_Cancer</th>\n    </tr>\n  </thead>\n  <tbody>\n    <tr>\n      <th>0</th>\n      <td>5</td>\n      <td>1</td>\n      <td>1</td>\n      <td>1</td>\n      <td>2</td>\n      <td>1</td>\n      <td>3</td>\n      <td>1</td>\n      <td>1</td>\n      <td>0</td>\n    </tr>\n    <tr>\n      <th>1</th>\n      <td>5</td>\n      <td>4</td>\n      <td>4</td>\n      <td>5</td>\n      <td>7</td>\n      <td>10</td>\n      <td>3</td>\n      <td>2</td>\n      <td>1</td>\n      <td>0</td>\n    </tr>\n    <tr>\n      <th>2</th>\n      <td>3</td>\n      <td>1</td>\n      <td>1</td>\n      <td>1</td>\n      <td>2</td>\n      <td>2</td>\n      <td>3</td>\n      <td>1</td>\n      <td>1</td>\n      <td>0</td>\n    </tr>\n    <tr>\n      <th>3</th>\n      <td>6</td>\n      <td>8</td>\n      <td>8</td>\n      <td>1</td>\n      <td>3</td>\n      <td>4</td>\n      <td>3</td>\n      <td>7</td>\n      <td>1</td>\n      <td>0</td>\n    </tr>\n    <tr>\n      <th>4</th>\n      <td>4</td>\n      <td>1</td>\n      <td>1</td>\n      <td>3</td>\n      <td>2</td>\n      <td>1</td>\n      <td>3</td>\n      <td>1</td>\n      <td>1</td>\n      <td>0</td>\n    </tr>\n  </tbody>\n</table>\n</div>"
     },
     "execution_count": 4,
     "metadata": {},
     "output_type": "execute_result"
    }
   ],
   "source": [
    "# display the first 5 rows (default) of Dataframe data:\n",
    "\n",
    "df.head()"
   ]
  },
  {
   "cell_type": "code",
   "execution_count": 5,
   "metadata": {
    "collapsed": false,
    "ExecuteTime": {
     "end_time": "2024-02-25T07:35:55.924560Z",
     "start_time": "2024-02-25T07:35:55.904072500Z"
    }
   },
   "outputs": [
    {
     "name": "stdout",
     "output_type": "stream",
     "text": [
      "Index(['Clump_Thickness', 'Uniformity_of_Cell_Size',\n",
      "       'Uniformity_of_Cell_Shape', 'Marginal_Adhesion',\n",
      "       'Single_Epithelial_Cell_Size', 'Bare_Nuclei', 'Bland_Chromatin',\n",
      "       'Normal_Nucleoli', 'Mitoses', 'Malignant_Cancer'],\n",
      "      dtype='object')\n"
     ]
    }
   ],
   "source": [
    "print(df.columns)"
   ]
  },
  {
   "cell_type": "markdown",
   "metadata": {},
   "source": [
    "II- Use sklearn functions to split the dataset into testing and training sets with the following parameters: test_size=0.3, random_state=2."
   ]
  },
  {
   "cell_type": "code",
   "execution_count": 6,
   "metadata": {
    "ExecuteTime": {
     "end_time": "2024-02-25T07:35:55.952600700Z",
     "start_time": "2024-02-25T07:35:55.909485700Z"
    }
   },
   "outputs": [
    {
     "data": {
      "text/plain": "     Clump_Thickness  Uniformity_of_Cell_Size  Uniformity_of_Cell_Shape  \\\n0                  5                        1                         1   \n1                  5                        4                         4   \n2                  3                        1                         1   \n3                  6                        8                         8   \n4                  4                        1                         1   \n..               ...                      ...                       ...   \n145                3                        1                         1   \n146                9                        7                         7   \n147               10                        8                         8   \n148                1                        1                         1   \n149                5                        1                         1   \n\n     Marginal_Adhesion  Single_Epithelial_Cell_Size  Bare_Nuclei  \\\n0                    1                            2            1   \n1                    5                            7           10   \n2                    1                            2            2   \n3                    1                            3            4   \n4                    3                            2            1   \n..                 ...                          ...          ...   \n145                  1                            2            1   \n146                  5                            5           10   \n147                  4                           10           10   \n148                  1                            2            1   \n149                  1                            2            1   \n\n     Bland_Chromatin  Normal_Nucleoli  Mitoses  \n0                  3                1        1  \n1                  3                2        1  \n2                  3                1        1  \n3                  3                7        1  \n4                  3                1        1  \n..               ...              ...      ...  \n145                2                1        1  \n146                7                8        3  \n147                8                1        1  \n148                3                1        1  \n149                3                1        1  \n\n[150 rows x 9 columns]",
      "text/html": "<div>\n<style scoped>\n    .dataframe tbody tr th:only-of-type {\n        vertical-align: middle;\n    }\n\n    .dataframe tbody tr th {\n        vertical-align: top;\n    }\n\n    .dataframe thead th {\n        text-align: right;\n    }\n</style>\n<table border=\"1\" class=\"dataframe\">\n  <thead>\n    <tr style=\"text-align: right;\">\n      <th></th>\n      <th>Clump_Thickness</th>\n      <th>Uniformity_of_Cell_Size</th>\n      <th>Uniformity_of_Cell_Shape</th>\n      <th>Marginal_Adhesion</th>\n      <th>Single_Epithelial_Cell_Size</th>\n      <th>Bare_Nuclei</th>\n      <th>Bland_Chromatin</th>\n      <th>Normal_Nucleoli</th>\n      <th>Mitoses</th>\n    </tr>\n  </thead>\n  <tbody>\n    <tr>\n      <th>0</th>\n      <td>5</td>\n      <td>1</td>\n      <td>1</td>\n      <td>1</td>\n      <td>2</td>\n      <td>1</td>\n      <td>3</td>\n      <td>1</td>\n      <td>1</td>\n    </tr>\n    <tr>\n      <th>1</th>\n      <td>5</td>\n      <td>4</td>\n      <td>4</td>\n      <td>5</td>\n      <td>7</td>\n      <td>10</td>\n      <td>3</td>\n      <td>2</td>\n      <td>1</td>\n    </tr>\n    <tr>\n      <th>2</th>\n      <td>3</td>\n      <td>1</td>\n      <td>1</td>\n      <td>1</td>\n      <td>2</td>\n      <td>2</td>\n      <td>3</td>\n      <td>1</td>\n      <td>1</td>\n    </tr>\n    <tr>\n      <th>3</th>\n      <td>6</td>\n      <td>8</td>\n      <td>8</td>\n      <td>1</td>\n      <td>3</td>\n      <td>4</td>\n      <td>3</td>\n      <td>7</td>\n      <td>1</td>\n    </tr>\n    <tr>\n      <th>4</th>\n      <td>4</td>\n      <td>1</td>\n      <td>1</td>\n      <td>3</td>\n      <td>2</td>\n      <td>1</td>\n      <td>3</td>\n      <td>1</td>\n      <td>1</td>\n    </tr>\n    <tr>\n      <th>...</th>\n      <td>...</td>\n      <td>...</td>\n      <td>...</td>\n      <td>...</td>\n      <td>...</td>\n      <td>...</td>\n      <td>...</td>\n      <td>...</td>\n      <td>...</td>\n    </tr>\n    <tr>\n      <th>145</th>\n      <td>3</td>\n      <td>1</td>\n      <td>1</td>\n      <td>1</td>\n      <td>2</td>\n      <td>1</td>\n      <td>2</td>\n      <td>1</td>\n      <td>1</td>\n    </tr>\n    <tr>\n      <th>146</th>\n      <td>9</td>\n      <td>7</td>\n      <td>7</td>\n      <td>5</td>\n      <td>5</td>\n      <td>10</td>\n      <td>7</td>\n      <td>8</td>\n      <td>3</td>\n    </tr>\n    <tr>\n      <th>147</th>\n      <td>10</td>\n      <td>8</td>\n      <td>8</td>\n      <td>4</td>\n      <td>10</td>\n      <td>10</td>\n      <td>8</td>\n      <td>1</td>\n      <td>1</td>\n    </tr>\n    <tr>\n      <th>148</th>\n      <td>1</td>\n      <td>1</td>\n      <td>1</td>\n      <td>1</td>\n      <td>2</td>\n      <td>1</td>\n      <td>3</td>\n      <td>1</td>\n      <td>1</td>\n    </tr>\n    <tr>\n      <th>149</th>\n      <td>5</td>\n      <td>1</td>\n      <td>1</td>\n      <td>1</td>\n      <td>2</td>\n      <td>1</td>\n      <td>3</td>\n      <td>1</td>\n      <td>1</td>\n    </tr>\n  </tbody>\n</table>\n<p>150 rows × 9 columns</p>\n</div>"
     },
     "execution_count": 6,
     "metadata": {},
     "output_type": "execute_result"
    }
   ],
   "source": [
    "# Creating the Feature Matrix for the dataset:\n",
    "\n",
    "# create a python list of feature names that would like to pick from the dataset:\n",
    "#feature_cols = ['sepal_length','sepal_width','petal_length','petal_width']\n",
    "\n",
    "feature_cols = ['Clump_Thickness', 'Uniformity_of_Cell_Size',\n",
    "       'Uniformity_of_Cell_Shape', 'Marginal_Adhesion',\n",
    "       'Single_Epithelial_Cell_Size', 'Bare_Nuclei', 'Bland_Chromatin',\n",
    "       'Normal_Nucleoli', 'Mitoses']\n",
    "\n",
    "\n",
    "# use the above list to select the features from the original DataFrame\n",
    "X = df[feature_cols]\n",
    "y = df['Malignant_Cancer']\n",
    "X"
   ]
  },
  {
   "cell_type": "code",
   "execution_count": 7,
   "metadata": {
    "collapsed": false,
    "ExecuteTime": {
     "end_time": "2024-02-25T07:36:00.426121Z",
     "start_time": "2024-02-25T07:35:55.928077200Z"
    }
   },
   "outputs": [],
   "source": [
    "# Randomly splitting the original dataset into training set and testing set\n",
    "# The function\"train_test_split\" from \"sklearn.cross_validation\" library performs random splitting.\n",
    "# \"test_size=0.3\" means that pick 30% of data samples for testing set, and the rest (70%) for training set.\n",
    "\n",
    "from sklearn.model_selection import train_test_split\n",
    "\n",
    "X_train, X_test, y_train, y_test = train_test_split(X, y, test_size=0.3, random_state=2)"
   ]
  },
  {
   "cell_type": "markdown",
   "metadata": {},
   "source": [
    "III- Use “Decision Tree Classifier” to predict Cancer based on the training/testing datasets that you built in part (II). Use this command to define your tree: my_DecisionTree = DecisionTreeClassifier(random_state=2)."
   ]
  },
  {
   "cell_type": "code",
   "execution_count": 8,
   "metadata": {
    "ExecuteTime": {
     "end_time": "2024-02-25T07:36:01.075123900Z",
     "start_time": "2024-02-25T07:36:00.427117800Z"
    }
   },
   "outputs": [],
   "source": [
    "# The following line will import DecisionTreeClassifier \"Class\"\n",
    "# DecisionTreeClassifier is name of a \"sklearn class\" to perform \"Decision Tree Classification\" \n",
    "\n",
    "from sklearn.tree import DecisionTreeClassifier"
   ]
  },
  {
   "cell_type": "code",
   "execution_count": 9,
   "metadata": {
    "collapsed": false,
    "ExecuteTime": {
     "end_time": "2024-02-25T07:36:01.088104Z",
     "start_time": "2024-02-25T07:36:01.075123900Z"
    }
   },
   "outputs": [
    {
     "data": {
      "text/plain": "DecisionTreeClassifier(random_state=2)",
      "text/html": "<style>#sk-container-id-1 {color: black;}#sk-container-id-1 pre{padding: 0;}#sk-container-id-1 div.sk-toggleable {background-color: white;}#sk-container-id-1 label.sk-toggleable__label {cursor: pointer;display: block;width: 100%;margin-bottom: 0;padding: 0.3em;box-sizing: border-box;text-align: center;}#sk-container-id-1 label.sk-toggleable__label-arrow:before {content: \"▸\";float: left;margin-right: 0.25em;color: #696969;}#sk-container-id-1 label.sk-toggleable__label-arrow:hover:before {color: black;}#sk-container-id-1 div.sk-estimator:hover label.sk-toggleable__label-arrow:before {color: black;}#sk-container-id-1 div.sk-toggleable__content {max-height: 0;max-width: 0;overflow: hidden;text-align: left;background-color: #f0f8ff;}#sk-container-id-1 div.sk-toggleable__content pre {margin: 0.2em;color: black;border-radius: 0.25em;background-color: #f0f8ff;}#sk-container-id-1 input.sk-toggleable__control:checked~div.sk-toggleable__content {max-height: 200px;max-width: 100%;overflow: auto;}#sk-container-id-1 input.sk-toggleable__control:checked~label.sk-toggleable__label-arrow:before {content: \"▾\";}#sk-container-id-1 div.sk-estimator input.sk-toggleable__control:checked~label.sk-toggleable__label {background-color: #d4ebff;}#sk-container-id-1 div.sk-label input.sk-toggleable__control:checked~label.sk-toggleable__label {background-color: #d4ebff;}#sk-container-id-1 input.sk-hidden--visually {border: 0;clip: rect(1px 1px 1px 1px);clip: rect(1px, 1px, 1px, 1px);height: 1px;margin: -1px;overflow: hidden;padding: 0;position: absolute;width: 1px;}#sk-container-id-1 div.sk-estimator {font-family: monospace;background-color: #f0f8ff;border: 1px dotted black;border-radius: 0.25em;box-sizing: border-box;margin-bottom: 0.5em;}#sk-container-id-1 div.sk-estimator:hover {background-color: #d4ebff;}#sk-container-id-1 div.sk-parallel-item::after {content: \"\";width: 100%;border-bottom: 1px solid gray;flex-grow: 1;}#sk-container-id-1 div.sk-label:hover label.sk-toggleable__label {background-color: #d4ebff;}#sk-container-id-1 div.sk-serial::before {content: \"\";position: absolute;border-left: 1px solid gray;box-sizing: border-box;top: 0;bottom: 0;left: 50%;z-index: 0;}#sk-container-id-1 div.sk-serial {display: flex;flex-direction: column;align-items: center;background-color: white;padding-right: 0.2em;padding-left: 0.2em;position: relative;}#sk-container-id-1 div.sk-item {position: relative;z-index: 1;}#sk-container-id-1 div.sk-parallel {display: flex;align-items: stretch;justify-content: center;background-color: white;position: relative;}#sk-container-id-1 div.sk-item::before, #sk-container-id-1 div.sk-parallel-item::before {content: \"\";position: absolute;border-left: 1px solid gray;box-sizing: border-box;top: 0;bottom: 0;left: 50%;z-index: -1;}#sk-container-id-1 div.sk-parallel-item {display: flex;flex-direction: column;z-index: 1;position: relative;background-color: white;}#sk-container-id-1 div.sk-parallel-item:first-child::after {align-self: flex-end;width: 50%;}#sk-container-id-1 div.sk-parallel-item:last-child::after {align-self: flex-start;width: 50%;}#sk-container-id-1 div.sk-parallel-item:only-child::after {width: 0;}#sk-container-id-1 div.sk-dashed-wrapped {border: 1px dashed gray;margin: 0 0.4em 0.5em 0.4em;box-sizing: border-box;padding-bottom: 0.4em;background-color: white;}#sk-container-id-1 div.sk-label label {font-family: monospace;font-weight: bold;display: inline-block;line-height: 1.2em;}#sk-container-id-1 div.sk-label-container {text-align: center;}#sk-container-id-1 div.sk-container {/* jupyter's `normalize.less` sets `[hidden] { display: none; }` but bootstrap.min.css set `[hidden] { display: none !important; }` so we also need the `!important` here to be able to override the default hidden behavior on the sphinx rendered scikit-learn.org. See: https://github.com/scikit-learn/scikit-learn/issues/21755 */display: inline-block !important;position: relative;}#sk-container-id-1 div.sk-text-repr-fallback {display: none;}</style><div id=\"sk-container-id-1\" class=\"sk-top-container\"><div class=\"sk-text-repr-fallback\"><pre>DecisionTreeClassifier(random_state=2)</pre><b>In a Jupyter environment, please rerun this cell to show the HTML representation or trust the notebook. <br />On GitHub, the HTML representation is unable to render, please try loading this page with nbviewer.org.</b></div><div class=\"sk-container\" hidden><div class=\"sk-item\"><div class=\"sk-estimator sk-toggleable\"><input class=\"sk-toggleable__control sk-hidden--visually\" id=\"sk-estimator-id-1\" type=\"checkbox\" checked><label for=\"sk-estimator-id-1\" class=\"sk-toggleable__label sk-toggleable__label-arrow\">DecisionTreeClassifier</label><div class=\"sk-toggleable__content\"><pre>DecisionTreeClassifier(random_state=2)</pre></div></div></div></div></div>"
     },
     "execution_count": 9,
     "metadata": {},
     "output_type": "execute_result"
    }
   ],
   "source": [
    "# In the following line, \"my_decisiontree\" is instantiated as an \"object\" of DecisionTreeClassifier \"class\". \n",
    "\n",
    "my_decisiontree = DecisionTreeClassifier(random_state=2)\n",
    "\n",
    "# We can use the method \"fit\" of the \"object my_decisiontree\" along with training dataset and labels to train the model.\n",
    "\n",
    "my_decisiontree.fit(X_train, y_train)"
   ]
  },
  {
   "cell_type": "code",
   "execution_count": 10,
   "metadata": {
    "collapsed": false,
    "ExecuteTime": {
     "end_time": "2024-02-25T07:36:01.091521900Z",
     "start_time": "2024-02-25T07:36:01.089105500Z"
    }
   },
   "outputs": [
    {
     "name": "stdout",
     "output_type": "stream",
     "text": [
      "(105, 9)\n",
      "(105,)\n"
     ]
    }
   ],
   "source": [
    "# print the size of the traning set:\n",
    "print(X_train.shape)\n",
    "print(y_train.shape)"
   ]
  },
  {
   "cell_type": "code",
   "execution_count": 11,
   "metadata": {
    "collapsed": false,
    "ExecuteTime": {
     "end_time": "2024-02-25T07:36:01.138040900Z",
     "start_time": "2024-02-25T07:36:01.092522900Z"
    }
   },
   "outputs": [
    {
     "name": "stdout",
     "output_type": "stream",
     "text": [
      "(45, 9)\n",
      "(45,)\n"
     ]
    }
   ],
   "source": [
    "# print the size of the testing set:\n",
    "print(X_test.shape)\n",
    "print(y_test.shape)"
   ]
  },
  {
   "cell_type": "code",
   "execution_count": 12,
   "metadata": {
    "collapsed": false,
    "ExecuteTime": {
     "end_time": "2024-02-25T07:36:01.170911900Z",
     "start_time": "2024-02-25T07:36:01.103047100Z"
    }
   },
   "outputs": [
    {
     "name": "stdout",
     "output_type": "stream",
     "text": [
      "[0 1 1 1 1 1 1 1 0 0 1 1 1 1 1 1 0 1 0 1 0 0 0 0 0 1 0 0 0 1 0 1 1 0 1 0 0\n",
      " 1 1 0 1 1 0 1 1]\n"
     ]
    }
   ],
   "source": [
    "# Testing on the testing set:\n",
    "\n",
    "y_predict = my_decisiontree.predict(X_test)\n",
    "\n",
    "print(y_predict)"
   ]
  },
  {
   "cell_type": "markdown",
   "metadata": {
    "collapsed": false
   },
   "source": [
    "#### Then, calculate and report the accuracy and AUC of your classifier. Later in part (VII), you will plot the ROC curve as well."
   ]
  },
  {
   "cell_type": "code",
   "execution_count": 13,
   "metadata": {
    "collapsed": false,
    "ExecuteTime": {
     "end_time": "2024-02-25T07:36:01.171915100Z",
     "start_time": "2024-02-25T07:36:01.115829800Z"
    }
   },
   "outputs": [
    {
     "name": "stdout",
     "output_type": "stream",
     "text": [
      "[0 1 1 1 1 1 1 1 0 0 1 1 1 1 1 1 0 1 0 1 0 0 0 0 0 1 0 0 0 1 0 1 1 0 1 0 0\n",
      " 1 1 0 1 1 0 1 1]\n"
     ]
    }
   ],
   "source": [
    "from sklearn.metrics import accuracy_score, roc_auc_score, roc_curve\n",
    "from sklearn import metrics\n",
    "\n",
    "\n",
    "# Estimating the probability (likelihood) of Each Label: \n",
    "y_predict_prob = my_decisiontree.predict_proba(X_test)[:,1]\n",
    "\n",
    "# This line prints the \"predicted label\" for the testing set:\n",
    "print(y_predict)"
   ]
  },
  {
   "cell_type": "code",
   "execution_count": 14,
   "metadata": {
    "collapsed": false,
    "ExecuteTime": {
     "end_time": "2024-02-25T07:36:01.173914500Z",
     "start_time": "2024-02-25T07:36:01.127516200Z"
    }
   },
   "outputs": [
    {
     "name": "stdout",
     "output_type": "stream",
     "text": [
      "Single Tree Accuracy: 0.8666666666666667\n",
      "Single Tree AUC: 0.8697478991596639\n"
     ]
    }
   ],
   "source": [
    "# Calculate ROC curve\n",
    "single_tree_fpr, single_tree_tpr, thresholds = roc_curve(y_test, y_predict_prob)\n",
    "\n",
    "# Calculate AUC\n",
    "AUC_Single_Decision_Tree = metrics.auc(single_tree_fpr, single_tree_tpr)\n",
    "\n",
    "# Calculate accuracy\n",
    "single_tree_accuracy = accuracy_score(y_test, y_predict)\n",
    "\n",
    "# Report the results\n",
    "print(\"Single Tree Accuracy:\", single_tree_accuracy)\n",
    "print(\"Single Tree AUC:\", AUC_Single_Decision_Tree)"
   ]
  },
  {
   "cell_type": "markdown",
   "metadata": {},
   "source": [
    "IV- Now, we want to perform “Bagging” based on 29 “base decision tree classifiers”. Note: you should write your own code to perform Bagging (don’t use scikit-learn functions for Bagging!)\n",
    "\n",
    "To do so, you need to perform bootstrapping first. You can write a “for” loop with loop variable i=0…28.  In each iteration of the loop, you have to:\n",
    "\n",
    "1. make a bootstarp sample of the original “Training” Dataset (build in part(II)) with size of bootstarp_size = 0.8*(Size of the original dataset). \n",
    "\n",
    "2. Define and train a new base decision tree classifier on this dataset in each iteration:\n",
    "\n",
    "Base_DecisionTree = DecisionTreeClassifier(random_state=2).\n",
    "\n",
    "3. Perform prediction “this base classifier” on the original “Testing” Dataset build in part(II), and save the prediction results for all testing samples.\n",
    "\n",
    "Then, Perform Voting to make the final decision on each data sample based on the votes of all 29 classifiers. Finally, calculate and report the Accuracy and AUC of your Bagging method. "
   ]
  },
  {
   "cell_type": "code",
   "execution_count": 15,
   "metadata": {
    "ExecuteTime": {
     "end_time": "2024-02-25T07:36:01.287813600Z",
     "start_time": "2024-02-25T07:36:01.151912700Z"
    }
   },
   "outputs": [
    {
     "name": "stdout",
     "output_type": "stream",
     "text": [
      "[array([0, 1, 1, 1, 1, 1, 1, 0, 0, 1, 1, 1, 1, 1, 0, 0, 0, 1, 0, 1, 0, 0,\n",
      "       0, 1, 0, 1, 0, 0, 0, 1, 0, 1, 1, 0, 1, 1, 0, 0, 1, 0, 1, 1, 0, 1,\n",
      "       1], dtype=int64), array([0, 1, 1, 1, 1, 1, 1, 1, 0, 0, 1, 1, 1, 1, 1, 1, 0, 1, 0, 1, 0, 0,\n",
      "       0, 0, 1, 1, 0, 0, 0, 1, 0, 1, 1, 0, 1, 0, 1, 1, 1, 0, 1, 1, 0, 1,\n",
      "       1], dtype=int64), array([0, 1, 1, 1, 1, 1, 1, 1, 0, 0, 1, 1, 1, 1, 1, 1, 0, 1, 0, 1, 0, 0,\n",
      "       0, 0, 0, 1, 0, 0, 0, 1, 0, 1, 1, 0, 1, 0, 0, 1, 1, 0, 1, 1, 0, 1,\n",
      "       1], dtype=int64), array([0, 1, 1, 1, 1, 1, 1, 1, 0, 0, 1, 1, 1, 1, 0, 0, 0, 0, 0, 1, 0, 0,\n",
      "       0, 0, 1, 1, 0, 0, 0, 0, 0, 1, 1, 0, 1, 0, 1, 0, 1, 0, 1, 1, 0, 1,\n",
      "       1], dtype=int64), array([0, 1, 1, 0, 0, 1, 0, 1, 0, 0, 1, 1, 1, 1, 0, 0, 0, 0, 0, 1, 0, 0,\n",
      "       0, 0, 1, 1, 0, 0, 0, 0, 0, 1, 1, 0, 0, 0, 1, 0, 1, 0, 1, 1, 0, 1,\n",
      "       1], dtype=int64), array([0, 1, 1, 0, 0, 1, 0, 1, 0, 1, 1, 0, 1, 1, 1, 1, 0, 1, 0, 1, 0, 0,\n",
      "       0, 1, 1, 1, 0, 0, 0, 1, 0, 1, 1, 0, 1, 1, 1, 1, 1, 0, 1, 1, 0, 1,\n",
      "       1], dtype=int64), array([0, 1, 1, 1, 1, 1, 1, 1, 0, 1, 1, 1, 1, 1, 0, 0, 0, 0, 0, 1, 0, 0,\n",
      "       0, 0, 1, 1, 0, 0, 0, 1, 0, 1, 1, 0, 1, 1, 1, 1, 1, 0, 1, 1, 0, 1,\n",
      "       1], dtype=int64), array([0, 1, 1, 1, 0, 1, 1, 1, 0, 0, 1, 1, 1, 1, 1, 1, 0, 1, 0, 1, 0, 0,\n",
      "       0, 0, 0, 1, 0, 0, 0, 1, 0, 1, 1, 0, 1, 0, 0, 1, 1, 0, 1, 1, 0, 1,\n",
      "       1], dtype=int64), array([0, 1, 1, 1, 1, 1, 1, 1, 0, 0, 0, 1, 1, 1, 1, 1, 0, 1, 0, 1, 0, 0,\n",
      "       0, 0, 1, 1, 0, 0, 0, 1, 0, 1, 1, 0, 1, 0, 1, 1, 1, 0, 1, 1, 0, 1,\n",
      "       1], dtype=int64), array([0, 1, 1, 0, 0, 1, 0, 0, 0, 1, 1, 1, 1, 1, 1, 1, 0, 1, 0, 1, 0, 0,\n",
      "       0, 1, 1, 1, 0, 0, 0, 0, 0, 1, 1, 0, 0, 0, 1, 1, 0, 0, 1, 1, 0, 1,\n",
      "       1], dtype=int64), array([0, 1, 1, 1, 1, 1, 1, 1, 0, 0, 1, 1, 1, 1, 1, 0, 0, 0, 0, 1, 0, 0,\n",
      "       0, 0, 0, 1, 0, 0, 0, 1, 0, 1, 1, 0, 1, 0, 0, 0, 1, 0, 1, 1, 0, 1,\n",
      "       1], dtype=int64), array([1, 1, 1, 1, 1, 1, 1, 1, 0, 0, 1, 1, 1, 1, 0, 0, 0, 0, 0, 1, 0, 0,\n",
      "       0, 0, 1, 1, 0, 0, 0, 1, 0, 1, 1, 0, 1, 1, 1, 0, 1, 0, 1, 1, 0, 1,\n",
      "       1], dtype=int64), array([0, 1, 1, 1, 1, 1, 1, 1, 0, 1, 1, 1, 1, 1, 1, 1, 0, 1, 0, 1, 0, 0,\n",
      "       0, 1, 0, 1, 0, 0, 0, 1, 0, 1, 1, 0, 1, 0, 0, 1, 0, 0, 1, 1, 0, 1,\n",
      "       1], dtype=int64), array([0, 1, 1, 1, 1, 1, 1, 1, 0, 1, 1, 1, 1, 1, 0, 0, 0, 1, 0, 0, 0, 0,\n",
      "       0, 1, 1, 1, 0, 0, 0, 1, 0, 1, 1, 0, 1, 1, 1, 1, 1, 0, 1, 1, 0, 1,\n",
      "       1], dtype=int64), array([0, 1, 1, 1, 1, 1, 1, 1, 0, 1, 1, 1, 1, 1, 1, 1, 0, 1, 0, 1, 0, 0,\n",
      "       0, 1, 0, 1, 0, 0, 0, 1, 0, 1, 1, 0, 1, 1, 0, 1, 1, 0, 1, 1, 0, 1,\n",
      "       1], dtype=int64), array([0, 1, 1, 1, 1, 1, 1, 0, 0, 0, 1, 1, 1, 1, 0, 0, 0, 0, 0, 1, 0, 0,\n",
      "       0, 0, 1, 1, 0, 0, 0, 0, 0, 1, 1, 0, 1, 0, 1, 0, 1, 0, 1, 1, 0, 1,\n",
      "       1], dtype=int64), array([0, 1, 1, 1, 1, 1, 1, 1, 0, 0, 1, 1, 1, 1, 1, 0, 0, 0, 0, 1, 0, 0,\n",
      "       0, 1, 0, 1, 0, 0, 0, 1, 0, 1, 1, 0, 1, 1, 0, 0, 1, 0, 1, 1, 0, 1,\n",
      "       1], dtype=int64), array([0, 1, 1, 1, 1, 1, 1, 1, 0, 0, 1, 1, 1, 1, 1, 1, 0, 1, 0, 0, 0, 0,\n",
      "       0, 0, 1, 1, 0, 0, 0, 1, 0, 1, 1, 0, 1, 0, 1, 1, 1, 0, 1, 1, 0, 1,\n",
      "       1], dtype=int64), array([0, 1, 1, 0, 0, 1, 1, 1, 0, 0, 1, 1, 1, 1, 1, 1, 0, 0, 0, 1, 0, 0,\n",
      "       0, 1, 0, 1, 0, 0, 0, 1, 0, 1, 1, 0, 1, 1, 0, 1, 1, 0, 1, 1, 0, 1,\n",
      "       1], dtype=int64), array([0, 1, 1, 1, 0, 1, 1, 1, 0, 0, 1, 1, 1, 1, 1, 0, 0, 1, 0, 1, 0, 0,\n",
      "       0, 1, 0, 1, 1, 0, 0, 1, 0, 1, 1, 0, 1, 1, 0, 1, 1, 0, 1, 1, 0, 1,\n",
      "       1], dtype=int64), array([0, 1, 1, 1, 1, 1, 1, 1, 0, 1, 1, 1, 1, 1, 1, 1, 0, 1, 0, 1, 0, 0,\n",
      "       0, 1, 1, 1, 0, 0, 0, 1, 0, 1, 1, 0, 1, 1, 1, 1, 1, 0, 1, 1, 0, 1,\n",
      "       1], dtype=int64), array([0, 1, 1, 1, 1, 1, 1, 1, 0, 0, 1, 1, 1, 1, 0, 1, 0, 0, 0, 0, 0, 0,\n",
      "       0, 0, 1, 1, 0, 0, 0, 0, 0, 1, 1, 0, 1, 0, 1, 0, 1, 0, 1, 1, 0, 1,\n",
      "       1], dtype=int64), array([1, 1, 1, 1, 1, 1, 1, 1, 0, 1, 1, 1, 1, 1, 1, 1, 0, 1, 0, 1, 0, 0,\n",
      "       0, 0, 1, 1, 0, 0, 0, 1, 0, 1, 1, 0, 1, 1, 1, 1, 1, 0, 1, 1, 0, 1,\n",
      "       1], dtype=int64), array([0, 1, 1, 1, 1, 1, 1, 1, 0, 0, 1, 1, 1, 1, 1, 1, 0, 1, 0, 1, 0, 0,\n",
      "       0, 0, 1, 1, 0, 0, 0, 0, 0, 1, 1, 0, 1, 0, 1, 1, 1, 0, 1, 1, 0, 1,\n",
      "       1], dtype=int64), array([0, 1, 1, 1, 1, 1, 1, 0, 0, 1, 1, 1, 1, 1, 0, 0, 0, 1, 0, 0, 0, 0,\n",
      "       0, 1, 0, 1, 0, 0, 0, 1, 0, 1, 1, 0, 1, 1, 0, 0, 1, 0, 1, 1, 0, 1,\n",
      "       1], dtype=int64), array([0, 1, 1, 1, 1, 1, 1, 1, 0, 0, 1, 1, 1, 1, 1, 1, 0, 1, 0, 1, 0, 0,\n",
      "       0, 0, 0, 1, 0, 0, 0, 1, 0, 1, 1, 0, 1, 0, 0, 1, 1, 0, 1, 1, 0, 1,\n",
      "       1], dtype=int64), array([0, 1, 1, 1, 1, 1, 1, 1, 0, 0, 1, 1, 1, 1, 1, 1, 0, 1, 0, 1, 0, 0,\n",
      "       0, 0, 0, 1, 0, 0, 0, 1, 0, 1, 1, 0, 1, 0, 0, 1, 1, 0, 1, 1, 0, 1,\n",
      "       1], dtype=int64), array([0, 1, 1, 1, 1, 1, 1, 1, 0, 0, 1, 1, 1, 1, 1, 0, 0, 1, 0, 0, 0, 0,\n",
      "       0, 0, 0, 1, 0, 0, 0, 1, 0, 1, 1, 0, 1, 0, 0, 0, 1, 0, 1, 1, 0, 1,\n",
      "       1], dtype=int64), array([0, 1, 1, 1, 1, 1, 1, 1, 0, 1, 1, 1, 1, 1, 0, 1, 0, 0, 0, 0, 0, 0,\n",
      "       0, 0, 1, 1, 0, 0, 0, 1, 0, 1, 1, 0, 1, 1, 1, 0, 1, 0, 1, 1, 0, 1,\n",
      "       1], dtype=int64)]\n"
     ]
    }
   ],
   "source": [
    "from sklearn.utils import resample\n",
    "\n",
    "base_decision_tree_classifiers = []\n",
    "\n",
    "bootstrap_size = 0.8*len(X_train)\n",
    "\n",
    "predictions = []\n",
    "\n",
    "for i in range(29): \n",
    "       X_bootstrap, Y_bootstrap = resample(X_train, y_train, n_samples = int(bootstrap_size) , random_state=i , replace = True)\n",
    "       \n",
    "       base_decision = DecisionTreeClassifier(random_state=2)\n",
    "       base_decision.fit(X_bootstrap, Y_bootstrap)\n",
    "       \n",
    "       prediction = base_decision.predict(X_test)\n",
    "       \n",
    "       predictions.append(prediction)\n",
    "print(predictions)"
   ]
  },
  {
   "cell_type": "code",
   "execution_count": 16,
   "metadata": {
    "ExecuteTime": {
     "end_time": "2024-02-25T07:36:01.290814200Z",
     "start_time": "2024-02-25T07:36:01.238914900Z"
    }
   },
   "outputs": [
    {
     "name": "stdout",
     "output_type": "stream",
     "text": [
      "[0, 1, 1, 1, 1, 1, 1, 1, 0, 0, 1, 1, 1, 1, 1, 1, 0, 1, 0, 1, 0, 0, 0, 0, 1, 1, 0, 0, 0, 1, 0, 1, 1, 0, 1, 0, 1, 1, 1, 0, 1, 1, 0, 1, 1]\n",
      "[0.044444444444444446, 0.6444444444444445, 0.6444444444444445, 0.5555555555555556, 0.5111111111111111, 0.6444444444444445, 0.5777777777777777, 0.5555555555555556, 0.0, 0.24444444444444444, 0.6222222222222222, 0.6222222222222222, 0.6444444444444445, 0.6444444444444445, 0.4222222222222222, 0.37777777777777777, 0.0, 0.4222222222222222, 0.0, 0.5111111111111111, 0.0, 0.0, 0.0, 0.24444444444444444, 0.35555555555555557, 0.6444444444444445, 0.022222222222222223, 0.0, 0.0, 0.5111111111111111, 0.0, 0.6444444444444445, 0.6444444444444445, 0.0, 0.6, 0.28888888888888886, 0.35555555555555557, 0.4, 0.6, 0.0, 0.6444444444444445, 0.6444444444444445, 0.0, 0.6444444444444445, 0.6444444444444445]\n"
     ]
    }
   ],
   "source": [
    "votes = [None]*len(predictions[0])\n",
    "probability = [None] * len(predictions[0])\n",
    "\n",
    "for i in range(len(predictions[0])): \n",
    "       benign = 0\n",
    "       malignant = 0\n",
    "       for idx in range(len(predictions)):\n",
    "              if predictions[idx][i] == 0:\n",
    "                     benign += 1\n",
    "              else:\n",
    "                     malignant+= 1\n",
    "                  \n",
    "       if benign > malignant:\n",
    "              res = 0\n",
    "       else:\n",
    "              res = 1\n",
    "       votes[i] = res\n",
    "       probability[i] = malignant/len(predictions[0])\n",
    "print(votes)\n",
    "print(probability)"
   ]
  },
  {
   "cell_type": "code",
   "execution_count": 17,
   "metadata": {
    "collapsed": false,
    "ExecuteTime": {
     "end_time": "2024-02-25T07:36:01.292814400Z",
     "start_time": "2024-02-25T07:36:01.243435400Z"
    }
   },
   "outputs": [
    {
     "name": "stdout",
     "output_type": "stream",
     "text": [
      "Accuracy: 0.9111111111111111\n",
      "AUC Bagging: 0.9380252100840336\n"
     ]
    }
   ],
   "source": [
    "from sklearn import metrics\n",
    "\n",
    "# calculating accuracy\n",
    "bagging_score = accuracy_score(y_test, votes)\n",
    "print(\"Accuracy: \" + str(bagging_score))\n",
    "\n",
    "# Calculate ROC curve\n",
    "fpr_bagging, tpr_bagging, thresholds = roc_curve(y_test, probability)\n",
    "\n",
    "# Calculate AUC\n",
    "AUC_Bagging = metrics.auc(fpr_bagging, tpr_bagging)\n",
    "print(\"AUC Bagging: \" + str(AUC_Bagging))"
   ]
  },
  {
   "cell_type": "code",
   "execution_count": 18,
   "metadata": {
    "collapsed": false,
    "ExecuteTime": {
     "end_time": "2024-02-25T07:36:01.492326600Z",
     "start_time": "2024-02-25T07:36:01.257812400Z"
    }
   },
   "outputs": [
    {
     "data": {
      "text/plain": "<Figure size 640x480 with 1 Axes>",
      "image/png": "[encoded data removed]"
     },
     "metadata": {},
     "output_type": "display_data"
    }
   ],
   "source": [
    "# Importing the \"pyplot\" package of \"matplotlib\" library of python to generate \n",
    "# graphs and plot curves:\n",
    "import matplotlib.pyplot as plt\n",
    "\n",
    "# The following line will tell Jupyter Notebook to keep the figures inside the explorer page \n",
    "# rather than openng a new figure window:\n",
    "%matplotlib inline\n",
    "\n",
    "plt.figure()\n",
    "\n",
    "# Roc Curve:\n",
    "plt.plot(fpr_bagging, tpr_bagging, color='red', lw=2, \n",
    "         label='ROC Curve Bagging (area = %0.2f)' % AUC_Bagging)\n",
    "\n",
    "# Random Guess line:\n",
    "plt.plot([0, 1], [0, 1], color='blue', lw=1, linestyle='--')\n",
    "\n",
    "# Defining The Range of X-Axis and Y-Axis:\n",
    "plt.xlim([-0.005, 1.005])\n",
    "plt.ylim([0.0, 1.01])\n",
    "\n",
    "# Labels, Title, Legend:\n",
    "plt.xlabel('False Positive Rate')\n",
    "plt.ylabel('True Positive Rate')\n",
    "plt.title('Receiver operating characteristic')\n",
    "plt.legend(loc=\"lower right\")\n",
    "\n",
    "plt.show()"
   ]
  },
  {
   "cell_type": "markdown",
   "metadata": {
    "collapsed": false
   },
   "source": [
    "V- Use scikit-learn “Adaboost” classifier to predict Cancer based on the training/testing datasets that you built in part (b). Then, calculate and report the accuracy and AUC of your classifier."
   ]
  },
  {
   "cell_type": "code",
   "execution_count": 19,
   "metadata": {
    "ExecuteTime": {
     "end_time": "2024-02-25T07:36:01.904619800Z",
     "start_time": "2024-02-25T07:36:01.493325300Z"
    }
   },
   "outputs": [
    {
     "name": "stdout",
     "output_type": "stream",
     "text": [
      "Accuracy for AdaBoost: 0.9555555555555556\n"
     ]
    }
   ],
   "source": [
    "from sklearn.ensemble import AdaBoostClassifier\n",
    "\n",
    "my_AdaBoost = AdaBoostClassifier(n_estimators = 29,random_state=2)\n",
    "\n",
    "my_AdaBoost.fit(X_train, y_train)\n",
    "\n",
    "ada_predictions = my_AdaBoost.predict(X_test)\n",
    "\n",
    "ada_score = accuracy_score(y_test, ada_predictions)\n",
    "\n",
    "print(\"Accuracy for AdaBoost: \" + str(ada_score))"
   ]
  },
  {
   "cell_type": "code",
   "execution_count": 20,
   "metadata": {
    "collapsed": false,
    "ExecuteTime": {
     "end_time": "2024-02-25T07:36:01.916573700Z",
     "start_time": "2024-02-25T07:36:01.906620100Z"
    }
   },
   "outputs": [
    {
     "name": "stdout",
     "output_type": "stream",
     "text": [
      "AUC ADA: 0.9611344537815125\n"
     ]
    }
   ],
   "source": [
    "# Calculate ROC curve\n",
    "ADA_prob = my_AdaBoost.predict_proba(X_test)\n",
    "\n",
    "fpr_ada, tpr_ada, thresholds = roc_curve(y_test, ADA_prob[:,1])\n",
    "\n",
    "# Calculate AUC\n",
    "AUC_ADA = metrics.auc(fpr_ada, tpr_ada)\n",
    "print(\"AUC ADA: \" + str(AUC_ADA))"
   ]
  },
  {
   "cell_type": "markdown",
   "metadata": {
    "collapsed": false
   },
   "source": [
    "VI- In this section, we use another decision tree boosting technique called \"gradient boosting\" with its very popular and super efficient implementation “XGBoost” that stands for \"Extreme Gradient Boosting.\" This algorithm is not included in sklearn, so you need to install the XGBoost library."
   ]
  },
  {
   "cell_type": "code",
   "execution_count": 21,
   "metadata": {
    "ExecuteTime": {
     "end_time": "2024-02-25T07:36:02.294260Z",
     "start_time": "2024-02-25T07:36:01.917574800Z"
    }
   },
   "outputs": [
    {
     "name": "stdout",
     "output_type": "stream",
     "text": [
      "Accuracy for XGBoost: 0.9555555555555556\n"
     ]
    }
   ],
   "source": [
    "from xgboost import XGBClassifier\n",
    "\n",
    "my_XGBoost = XGBClassifier(n_estimators = 29,random_state=2)\n",
    "\n",
    "my_XGBoost.fit(X_train, y_train)\n",
    "\n",
    "XGBoost_predictions = my_XGBoost.predict(X_test)\n",
    "\n",
    "XGBoost_score = accuracy_score(y_test, XGBoost_predictions)\n",
    "\n",
    "print(\"Accuracy for XGBoost: \" + str(XGBoost_score))"
   ]
  },
  {
   "cell_type": "markdown",
   "metadata": {
    "collapsed": false
   },
   "source": [
    "Repeat part (e) with XGBoost. "
   ]
  },
  {
   "cell_type": "code",
   "execution_count": 22,
   "metadata": {
    "ExecuteTime": {
     "end_time": "2024-02-25T07:36:02.303206200Z",
     "start_time": "2024-02-25T07:36:02.294260Z"
    }
   },
   "outputs": [
    {
     "name": "stdout",
     "output_type": "stream",
     "text": [
      "XGBoost AUC: 0.963235294117647\n"
     ]
    }
   ],
   "source": [
    "# Calculate ROC curve\n",
    "XGBoost_prob = my_XGBoost.predict_proba(X_test)\n",
    "\n",
    "fpr_xgboost, tpr_xgboost, thresholds = roc_curve(y_test, XGBoost_prob[:,1])\n",
    "\n",
    "# Calculate AUC\n",
    "AUC_XGBoost = metrics.auc(fpr_xgboost, tpr_xgboost)\n",
    "print(\"XGBoost AUC: \" + str(AUC_XGBoost))"
   ]
  },
  {
   "cell_type": "markdown",
   "metadata": {
    "collapsed": false
   },
   "source": [
    "VII- Use scikit-learn “Random Forest” classifier to predict Cancer based on the training/testing datasets that you built in part (II). Then, calculate and report the accuracy and AUC of your classifier."
   ]
  },
  {
   "cell_type": "code",
   "execution_count": 23,
   "metadata": {
    "collapsed": false,
    "ExecuteTime": {
     "end_time": "2024-02-25T07:36:02.391798500Z",
     "start_time": "2024-02-25T07:36:02.303206200Z"
    }
   },
   "outputs": [
    {
     "name": "stdout",
     "output_type": "stream",
     "text": [
      "Accuracy for Random Forest: 0.9555555555555556\n"
     ]
    }
   ],
   "source": [
    "from sklearn.ensemble import RandomForestClassifier\n",
    "\n",
    "my_RandomForest = RandomForestClassifier(n_estimators = 29, bootstrap = True, random_state=2)\n",
    "\n",
    "my_RandomForest.fit(X_train, y_train)\n",
    "\n",
    "my_RandomForest_predictions = my_RandomForest.predict(X_test)\n",
    "\n",
    "my_RandomForest_score = accuracy_score(y_test, my_RandomForest_predictions)\n",
    "\n",
    "print(\"Accuracy for Random Forest: \" + str(my_RandomForest_score))"
   ]
  },
  {
   "cell_type": "code",
   "execution_count": 24,
   "metadata": {
    "collapsed": false,
    "ExecuteTime": {
     "end_time": "2024-02-25T07:36:02.391798500Z",
     "start_time": "2024-02-25T07:36:02.359130400Z"
    }
   },
   "outputs": [
    {
     "name": "stdout",
     "output_type": "stream",
     "text": [
      "Random Forest AUC: 0.9516806722689075\n"
     ]
    }
   ],
   "source": [
    "# Calculate ROC curve\n",
    "RandomForest_prob = my_RandomForest.predict_proba(X_test)\n",
    "\n",
    "fpr_RandomForest, tpr_RandomForest, thresholds = roc_curve(y_test, RandomForest_prob[:,1])\n",
    "\n",
    "# Calculate AUC\n",
    "AUC_RandomForest = metrics.auc(fpr_RandomForest, tpr_RandomForest)\n",
    "print(\"Random Forest AUC: \" + str(AUC_RandomForest))"
   ]
  },
  {
   "cell_type": "markdown",
   "metadata": {},
   "source": [
    "VIII- Now, plot the ROC curves of your algorithms in parts (III), (IV), (V), (VI), (VII) in a single plane with different colors along with the name of each method. Show the AUCs on the graph as well."
   ]
  },
  {
   "cell_type": "code",
   "execution_count": 25,
   "metadata": {
    "collapsed": false,
    "ExecuteTime": {
     "end_time": "2024-02-25T07:36:02.556799200Z",
     "start_time": "2024-02-25T07:36:02.377800900Z"
    }
   },
   "outputs": [
    {
     "data": {
      "text/plain": "<Figure size 640x480 with 1 Axes>",
      "image/png": "[encoded data removed]"
     },
     "metadata": {},
     "output_type": "display_data"
    }
   ],
   "source": [
    "# Importing the \"pyplot\" package of \"matplotlib\" library of python to generate \n",
    "# graphs and plot curves:\n",
    "import matplotlib.pyplot as plt\n",
    "\n",
    "# The following line will tell Jupyter Notebook to keep the figures inside the explorer page \n",
    "# rather than opening a new figure window:\n",
    "%matplotlib inline\n",
    "\n",
    "plt.figure()\n",
    "\n",
    "# Roc single tree Curve:\n",
    "plt.plot(single_tree_fpr, single_tree_tpr, color='cyan', lw=2, \n",
    "         label='Decision Tree ROC (area = %0.2f)' % AUC_Single_Decision_Tree)\n",
    "\n",
    "# Roc Bagging Curve:\n",
    "plt.plot(fpr_bagging, tpr_bagging, color='red', lw=2, \n",
    "         label='Decision Tree with Bagging ROC (area = %0.2f)' % AUC_Bagging)\n",
    "\n",
    "# Roc ada Curve:\n",
    "plt.plot(fpr_ada, tpr_ada, color='green', lw=2, \n",
    "         label='AdaBoost ROC (area = %0.2f)' % AUC_ADA)\n",
    "\n",
    "# Roc xgboost Curve:\n",
    "plt.plot(fpr_xgboost, tpr_xgboost, color='yellow', lw=2, \n",
    "         label='XGBoost ROC (area = %0.2f)' % AUC_XGBoost)\n",
    "\n",
    "# Roc random forest Curve:\n",
    "plt.plot(fpr_RandomForest, tpr_RandomForest, color='pink', lw=2, \n",
    "         label='Random Forest ROC (area = %0.2f)' % AUC_RandomForest)\n",
    "\n",
    "plt.axvline(x=0.07, color='red', linestyle='--')\n",
    "\n",
    "# Random Guess line:\n",
    "plt.plot([0, 1], [0, 1], color='blue', lw=1, linestyle='--')\n",
    "\n",
    "# Defining The Range of X-Axis and Y-Axis:\n",
    "plt.xlim([-0.005, 1.005])\n",
    "plt.ylim([0.0, 1.01])\n",
    "\n",
    "# Labels, Title, Legend:\n",
    "plt.xlabel('False Positive Rate')\n",
    "plt.ylabel('True Positive Rate')\n",
    "plt.title('Receiver operating characteristic')\n",
    "plt.legend(loc=\"lower right\")\n",
    "\n",
    "plt.show()"
   ]
  },
  {
   "cell_type": "code",
   "execution_count": 26,
   "metadata": {
    "collapsed": false,
    "ExecuteTime": {
     "end_time": "2024-02-25T07:36:02.565580Z",
     "start_time": "2024-02-25T07:36:02.558799200Z"
    }
   },
   "outputs": [
    {
     "name": "stdout",
     "output_type": "stream",
     "text": [
      "Single Tree Accuracy: 0.8666666666666667\n",
      "Single Tree AUC: 0.8697478991596639\n",
      "\n",
      "\n",
      "Bagging Accuracy: 0.9111111111111111\n",
      "AUC Bagging: 0.9380252100840336\n",
      "\n",
      "\n",
      "Accuracy for AdaBoost: 0.9555555555555556\n",
      "AUC ADA: 0.9611344537815125\n",
      "\n",
      "\n",
      "Accuracy for XGBoost: 0.9555555555555556\n",
      "XGBoost AUC: 0.963235294117647\n",
      "\n",
      "\n",
      "Accuracy for Random Forest: 0.9555555555555556\n",
      "Random Forest AUC: 0.9516806722689075\n"
     ]
    }
   ],
   "source": [
    "# Report the results\n",
    "print(\"Single Tree Accuracy:\", single_tree_accuracy)\n",
    "print(\"Single Tree AUC:\", AUC_Single_Decision_Tree)\n",
    "print(\"\\n\")\n",
    "# calculating accuracy\n",
    "print(\"Bagging Accuracy: \" + str(bagging_score))\n",
    "print(\"AUC Bagging: \" + str(AUC_Bagging))\n",
    "print(\"\\n\")\n",
    "\n",
    "print(\"Accuracy for AdaBoost: \" + str(ada_score))\n",
    "print(\"AUC ADA: \" + str(AUC_ADA))\n",
    "print(\"\\n\")\n",
    "\n",
    "print(\"Accuracy for XGBoost: \" + str(XGBoost_score))\n",
    "print(\"XGBoost AUC: \" + str(AUC_XGBoost))\n",
    "print(\"\\n\")\n",
    "\n",
    "print(\"Accuracy for Random Forest: \" + str(my_RandomForest_score))\n",
    "print(\"Random Forest AUC: \" + str(AUC_RandomForest))"
   ]
  },
  {
   "cell_type": "markdown",
   "metadata": {
    "collapsed": false
   },
   "source": [
    "Which algorithm is the best w.r.t the AUC value? \n",
    "XGBoost is the best since it has the highest AUC of 96.32% followed closely by AdaBoost which has AUC of 96.11%\n",
    "\n",
    "Which algorithm is the best w.r.t the Accuracy value?\n",
    "AdaBoost, XGBoost, and Random Forest all were equal in accuracy.\n",
    "\n",
    "Which algorithm is the best when we want a False Positive Rate of %7?\n",
    "Random forest and XGBoost would be the best models for 7% FPR since they both have a 100% TPR at that FPR."
   ]
  }
 ],
 "metadata": {
  "kernelspec": {
   "display_name": "base",
   "language": "python",
   "name": "python3"
  },
  "language_info": {
   "codemirror_mode": {
    "name": "ipython",
    "version": 3
   },
   "file_extension": ".py",
   "mimetype": "text/x-python",
   "name": "python",
   "nbconvert_exporter": "python",
   "pygments_lexer": "ipython3",
   "version": "3.11.4"
  }
 },
 "nbformat": 4,
 "nbformat_minor": 2
}
