{
 "cells": [
  {
   "cell_type": "code",
   "execution_count": 3,
   "outputs": [
    {
     "name": "stdout",
     "output_type": "stream",
     "text": [
      "numpy: 1.23.5\n",
      "keras: Not installed\n",
      "keras.layers: Dense(Not installed), Dropout(Not installed), Activation(Not installed), Flatten(Not installed)\n",
      "keras.utils: Not installed\n",
      "keras.datasets.mnist: Not installed\n",
      "scikeras.wrappers: KerasClassifier(Not installed)\n",
      "sklearn.model_selection: GridSearchCV(Not installed)\n"
     ]
    }
   ],
   "source": [
    "from scikeras.wrappers import KerasClassifier\n",
    "import pkg_resources\n",
    "from sklearn.model_selection import GridSearchCV\n",
    "from keras.layers import Dense, Dropout, Activation, Flatten\n",
    "import numpy as np\n",
    "from keras import utils as np_utils, Sequential\n",
    "from keras.datasets import mnist\n",
    "\n",
    "modules = {\n",
    "    'numpy': np,\n",
    "    'keras': Sequential,\n",
    "    'keras.layers': {'Dense': Dense, 'Dropout': Dropout, 'Activation': Activation, 'Flatten': Flatten},\n",
    "    'keras.utils': np_utils,\n",
    "    'keras.datasets.mnist': mnist,\n",
    "    'scikeras.wrappers': {'KerasClassifier': KerasClassifier},\n",
    "    'sklearn.model_selection': {'GridSearchCV': GridSearchCV}\n",
    "}\n",
    "\n",
    "for module_name, module_obj in modules.items():\n",
    "    version = ''\n",
    "    if isinstance(module_obj, dict):\n",
    "        for sub_module_name, sub_module_obj in module_obj.items():\n",
    "            try:\n",
    "                sub_version = pkg_resources.get_distribution(sub_module_obj.__module__).version\n",
    "                version += f'{sub_module_name}({sub_version}), '\n",
    "            except pkg_resources.DistributionNotFound:\n",
    "                version += f'{sub_module_name}(Not installed), '\n",
    "    else:\n",
    "        try:\n",
    "            version = pkg_resources.get_distribution(module_obj.__name__).version\n",
    "        except pkg_resources.DistributionNotFound:\n",
    "            version = 'Not installed'\n",
    "    print(f'{module_name}: {version.rstrip(\", \")}')"
   ],
   "metadata": {
    "collapsed": false,
    "ExecuteTime": {
     "end_time": "2024-03-18T06:12:21.952080100Z",
     "start_time": "2024-03-18T06:12:21.443669600Z"
    }
   },
   "id": "6e14826c1a0876d"
  }
 ],
 "metadata": {
  "kernelspec": {
   "name": "myenv",
   "language": "python",
   "display_name": "myenv"
  },
  "language_info": {
   "codemirror_mode": {
    "name": "ipython",
    "version": 2
   },
   "file_extension": ".py",
   "mimetype": "text/x-python",
   "name": "python",
   "nbconvert_exporter": "python",
   "pygments_lexer": "ipython2",
   "version": "2.7.6"
  }
 },
 "nbformat": 4,
 "nbformat_minor": 5
}
