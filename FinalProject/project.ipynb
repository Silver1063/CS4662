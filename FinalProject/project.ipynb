{
 "cells": [
  {
   "attachments": {},
   "cell_type": "markdown",
   "metadata": {},
   "source": [
    "## CS 4662: Group Project\n",
    "#### MoodReader: Facial Emotion Detection with Deep Learning\n",
    "#### Group: Alvin Lew, Ly Jacky Nhiayi, Fabio Carrasco, Diane Tabilas, Denise Tabilas"
   ]
  },
  {
   "attachments": {},
   "cell_type": "markdown",
   "metadata": {},
   "source": [
    "### 1. Reading Data\n",
    "- Read data retrieved from Kaggle (https://github.com/matiassingers/awesome-readme)"
   ]
  },
  {
   "cell_type": "code",
   "execution_count": 40,
   "metadata": {
    "ExecuteTime": {
     "end_time": "2024-04-01T22:14:53.087574900Z",
     "start_time": "2024-04-01T22:14:52.538148200Z"
    }
   },
   "outputs": [],
   "source": [
    "import numpy as np\n",
    "import pandas as pd\n",
    "import sklearn\n",
    "import matplotlib\n",
    "import tensorflow\n",
    "import keras"
   ]
  },
  {
   "cell_type": "code",
   "execution_count": 41,
   "metadata": {
    "ExecuteTime": {
     "end_time": "2024-04-01T22:14:53.348756600Z",
     "start_time": "2024-04-01T22:14:52.548202500Z"
    }
   },
   "outputs": [
    {
     "data": {
      "text/plain": "array([0.27450982, 0.3137255 , 0.32156864, ..., 0.41568628, 0.42745098,\n       0.32156864], dtype=float32)"
     },
     "execution_count": 41,
     "metadata": {},
     "output_type": "execute_result"
    }
   ],
   "source": [
    "# this is how you read an image\n",
    "import matplotlib.image as mpimg\n",
    "mpimg.imread('./train/angry/im0.png').flatten()"
   ]
  },
  {
   "cell_type": "code",
   "execution_count": 42,
   "metadata": {
    "ExecuteTime": {
     "end_time": "2024-04-01T22:14:55.296254500Z",
     "start_time": "2024-04-01T22:14:52.565236700Z"
    }
   },
   "outputs": [
    {
     "name": "stdout",
     "output_type": "stream",
     "text": [
      "  angry: 3995\n",
      "  disgusted: 436\n",
      "  fearful: 4097\n",
      "  happy: 7215\n",
      "  neutral: 4965\n",
      "  sad: 4830\n",
      "  surprised: 3171\n",
      "files in train: 28709\n"
     ]
    }
   ],
   "source": [
    "import os \n",
    "test_train = [\"train\"]\n",
    "emotions = [\"angry\", \"disgusted\", \"fearful\", \"happy\", \"neutral\", \"sad\", \"surprised\"]\n",
    "\n",
    "for tt in test_train:\n",
    "    count = 0\n",
    "\n",
    "    # iterate through each emotion folder containing images\n",
    "    for e in emotions:\n",
    "        path = f'./{tt}/{e}'\n",
    "        \n",
    "        # count the number of files inside the folder\n",
    "        file_count = len([name for name in os.listdir(path) if os.path.isfile(os.path.join(path, name))])\n",
    "        count += file_count\n",
    "        print(f'  {e}: {file_count}')\n",
    "\n",
    "    print(f'files in {tt}: {count}')\n",
    "    print()\n"
   ]
  },
  {
   "cell_type": "code",
   "execution_count": 43,
   "metadata": {
    "ExecuteTime": {
     "end_time": "2024-04-01T22:14:55.296254500Z",
     "start_time": "2024-04-01T22:14:55.208998100Z"
    }
   },
   "outputs": [],
   "source": [
    "# constants about our data\n",
    "TRAIN_SIZE = 28709\n",
    "TEST_SIZE = 7178\n",
    "IMAGE_LENGTH = 48\n",
    "\n",
    "DATASET_SIZE = TRAIN_SIZE+TEST_SIZE\n",
    "IMAGE_PIXELS = IMAGE_LENGTH ** 2"
   ]
  },
  {
   "cell_type": "code",
   "execution_count": 44,
   "metadata": {
    "ExecuteTime": {
     "end_time": "2024-04-01T22:15:03.594320600Z",
     "start_time": "2024-04-01T22:14:55.227031Z"
    }
   },
   "outputs": [],
   "source": [
    "# these are the directories that we read from\n",
    "test_train = [\"train\"]\n",
    "emotions = [\"angry\", \"disgusted\", \"fearful\", \"happy\", \"neutral\", \"sad\", \"surprised\"]\n",
    "\n",
    "# initialize empty arrays; data for the pixels and different labels\n",
    "data = np.empty((DATASET_SIZE, IMAGE_PIXELS))\n",
    "tt_labels = np.empty((DATASET_SIZE), dtype=object)\n",
    "emotion_labels = np.empty((DATASET_SIZE), dtype=object)\n",
    "\n",
    "i = 0\n",
    "for tt in test_train:\n",
    "    for emotion in emotions:\n",
    "        # iterate through all the folders\n",
    "        directory = f'./{tt}/{emotion}'\n",
    "        \n",
    "        for filename in os.listdir(directory):\n",
    "            fpath = os.path.join(directory, filename)\n",
    "            \n",
    "            # flatten the image into 1d and save it to our numpy data array\n",
    "            data[i] = mpimg.imread(fpath).flatten() \n",
    "\n",
    "            # mark the labels of the observation\n",
    "            tt_labels[i] = tt\n",
    "            emotion_labels[i] = emotion\n",
    "            i += 1"
   ]
  },
  {
   "cell_type": "code",
   "execution_count": 45,
   "metadata": {
    "ExecuteTime": {
     "end_time": "2024-04-01T22:15:03.611350900Z",
     "start_time": "2024-04-01T22:15:03.595332100Z"
    }
   },
   "outputs": [],
   "source": [
    "raw_data = data"
   ]
  },
  {
   "cell_type": "code",
   "execution_count": 46,
   "metadata": {
    "ExecuteTime": {
     "end_time": "2024-04-01T22:15:03.655916600Z",
     "start_time": "2024-04-01T22:15:03.611350900Z"
    }
   },
   "outputs": [
    {
     "data": {
      "text/plain": "array([[0.27450982, 0.3137255 , 0.32156864, ..., 0.41568628, 0.42745098,\n        0.32156864],\n       [0.59215689, 0.58823532, 0.57647061, ..., 0.75686276, 0.71764708,\n        0.72156864],\n       [0.45882353, 0.45490196, 0.44313726, ..., 0.18039216, 0.18431373,\n        0.19215687],\n       ...,\n       [0.        , 0.        , 0.        , ..., 0.        , 0.        ,\n        0.        ],\n       [0.        , 0.        , 0.        , ..., 0.        , 0.        ,\n        0.        ],\n       [0.        , 0.        , 0.        , ..., 0.        , 0.        ,\n        0.        ]])"
     },
     "execution_count": 46,
     "metadata": {},
     "output_type": "execute_result"
    }
   ],
   "source": [
    "data"
   ]
  },
  {
   "cell_type": "code",
   "execution_count": 47,
   "metadata": {
    "ExecuteTime": {
     "end_time": "2024-04-01T22:15:05.709901800Z",
     "start_time": "2024-04-01T22:15:03.627369800Z"
    }
   },
   "outputs": [
    {
     "data": {
      "text/plain": "array([[-0.29787667, -0.15949672, -0.110313  , ...,  0.19215365,\n         0.21894105, -0.11274792],\n       [ 0.62188984,  0.65142547,  0.65656543, ...,  1.24599895,\n         1.10806883,  1.10363699],\n       [ 0.23581496,  0.25754893,  0.25542898, ..., -0.53463619,\n        -0.52600381, -0.50628423],\n       ...,\n       [-1.09273663, -1.08626492, -1.07775963, ..., -1.09184175,\n        -1.09072009, -1.090626  ],\n       [-1.09273663, -1.08626492, -1.07775963, ..., -1.09184175,\n        -1.09072009, -1.090626  ],\n       [-1.09273663, -1.08626492, -1.07775963, ..., -1.09184175,\n        -1.09072009, -1.090626  ]])"
     },
     "execution_count": 47,
     "metadata": {},
     "output_type": "execute_result"
    }
   ],
   "source": [
    "from sklearn import preprocessing\n",
    "\n",
    "# normalize/scale the data\n",
    "data = preprocessing.scale(data)\n",
    "data"
   ]
  },
  {
   "cell_type": "code",
   "execution_count": 48,
   "metadata": {
    "ExecuteTime": {
     "end_time": "2024-04-01T22:15:05.751530500Z",
     "start_time": "2024-04-01T22:15:05.710906500Z"
    }
   },
   "outputs": [
    {
     "name": "stdout",
     "output_type": "stream",
     "text": [
      "['train' 'train' 'train' 'train' 'train']\n",
      "['angry' 'angry' 'angry' 'angry' 'angry']\n"
     ]
    }
   ],
   "source": [
    "print(tt_labels[:5])\n",
    "print(emotion_labels[:5])"
   ]
  },
  {
   "cell_type": "code",
   "execution_count": 49,
   "metadata": {
    "ExecuteTime": {
     "end_time": "2024-04-01T22:15:05.770556500Z",
     "start_time": "2024-04-01T22:15:05.725493600Z"
    }
   },
   "outputs": [],
   "source": [
    "# compile the numpy arrays into a dataframe\n",
    "df = pd.DataFrame(data=data)\n",
    "df['obs_type'] = tt_labels\n",
    "df['emotion'] = emotion_labels"
   ]
  },
  {
   "cell_type": "code",
   "execution_count": 50,
   "metadata": {
    "ExecuteTime": {
     "end_time": "2024-04-01T22:15:05.867121500Z",
     "start_time": "2024-04-01T22:15:05.742011500Z"
    }
   },
   "outputs": [
    {
     "data": {
      "text/plain": "              0         1         2         3         4         5         6  \\\n0     -0.297877 -0.159497 -0.110313 -0.209068 -0.364243 -0.355061 -0.326600   \n1      0.621890  0.651425  0.656565  0.790479  0.743287  0.587716  0.325817   \n2      0.235815  0.257549  0.255429  0.116086 -0.118125 -0.417912 -0.620827   \n3      0.712731  0.755687  0.632969  0.838650  0.977099  0.939686  1.029403   \n4      1.791469  1.856224  1.918965  1.958624  1.813899  1.253944  0.811931   \n...         ...       ...       ...       ...       ...       ...       ...   \n35882 -1.092737 -1.086265 -1.077760 -1.076145 -1.077984 -1.084141 -1.094149   \n35883 -1.092737 -1.086265 -1.077760 -1.076145 -1.077984 -1.084141 -1.094149   \n35884 -1.092737 -1.086265 -1.077760 -1.076145 -1.077984 -1.084141 -1.094149   \n35885 -1.092737 -1.086265 -1.077760 -1.076145 -1.077984 -1.084141 -1.094149   \n35886 -1.092737 -1.086265 -1.077760 -1.076145 -1.077984 -1.084141 -1.094149   \n\n              7         8         9  ...      2296      2297      2298  \\\n0     -0.290838 -0.418958 -0.384891  ...  1.216414  0.605536  0.218260   \n1      0.709769  1.103612  1.144367  ...  0.090358  0.251375  0.168286   \n2     -0.667690 -0.694596 -0.727656  ... -0.613427 -0.570783 -0.568826   \n3      0.982662  1.103612  1.328932  ...  0.077562  0.327267  0.455635   \n4      0.917688 -0.090818 -0.556273  ...  0.602202  0.175484  0.168286   \n...         ...       ...       ...  ...       ...       ...       ...   \n35882 -1.109516 -1.127741 -1.149520  ... -1.125270 -1.114673 -1.106043   \n35883 -1.109516 -1.127741 -1.149520  ... -1.125270 -1.114673 -1.106043   \n35884 -1.109516 -1.127741 -1.149520  ... -1.125270 -1.114673 -1.106043   \n35885 -1.109516 -1.127741 -1.149520  ... -1.125270 -1.114673 -1.106043   \n35886 -1.109516 -1.127741 -1.149520  ... -1.125270 -1.114673 -1.106043   \n\n           2299      2300      2301      2302      2303  obs_type  emotion  \n0      0.338074  0.070847  0.192154  0.218941 -0.112748     train    angry  \n1     -0.268572  1.002422  1.245999  1.108069  1.103637     train    angry  \n2     -0.528563 -0.529773 -0.534636 -0.526004 -0.506284     train    angry  \n3      0.548543  0.573407  0.604001  0.675520  0.423892     train    angry  \n4      0.598066  0.818558  0.700907  0.303048  0.221162     train    angry  \n...         ...       ...       ...       ...       ...       ...      ...  \n35882 -1.098067 -1.093621 -1.091842 -1.090720 -1.090626      None     None  \n35883 -1.098067 -1.093621 -1.091842 -1.090720 -1.090626      None     None  \n35884 -1.098067 -1.093621 -1.091842 -1.090720 -1.090626      None     None  \n35885 -1.098067 -1.093621 -1.091842 -1.090720 -1.090626      None     None  \n35886 -1.098067 -1.093621 -1.091842 -1.090720 -1.090626      None     None  \n\n[35887 rows x 2306 columns]",
      "text/html": "<div>\n<style scoped>\n    .dataframe tbody tr th:only-of-type {\n        vertical-align: middle;\n    }\n\n    .dataframe tbody tr th {\n        vertical-align: top;\n    }\n\n    .dataframe thead th {\n        text-align: right;\n    }\n</style>\n<table border=\"1\" class=\"dataframe\">\n  <thead>\n    <tr style=\"text-align: right;\">\n      <th></th>\n      <th>0</th>\n      <th>1</th>\n      <th>2</th>\n      <th>3</th>\n      <th>4</th>\n      <th>5</th>\n      <th>6</th>\n      <th>7</th>\n      <th>8</th>\n      <th>9</th>\n      <th>...</th>\n      <th>2296</th>\n      <th>2297</th>\n      <th>2298</th>\n      <th>2299</th>\n      <th>2300</th>\n      <th>2301</th>\n      <th>2302</th>\n      <th>2303</th>\n      <th>obs_type</th>\n      <th>emotion</th>\n    </tr>\n  </thead>\n  <tbody>\n    <tr>\n      <th>0</th>\n      <td>-0.297877</td>\n      <td>-0.159497</td>\n      <td>-0.110313</td>\n      <td>-0.209068</td>\n      <td>-0.364243</td>\n      <td>-0.355061</td>\n      <td>-0.326600</td>\n      <td>-0.290838</td>\n      <td>-0.418958</td>\n      <td>-0.384891</td>\n      <td>...</td>\n      <td>1.216414</td>\n      <td>0.605536</td>\n      <td>0.218260</td>\n      <td>0.338074</td>\n      <td>0.070847</td>\n      <td>0.192154</td>\n      <td>0.218941</td>\n      <td>-0.112748</td>\n      <td>train</td>\n      <td>angry</td>\n    </tr>\n    <tr>\n      <th>1</th>\n      <td>0.621890</td>\n      <td>0.651425</td>\n      <td>0.656565</td>\n      <td>0.790479</td>\n      <td>0.743287</td>\n      <td>0.587716</td>\n      <td>0.325817</td>\n      <td>0.709769</td>\n      <td>1.103612</td>\n      <td>1.144367</td>\n      <td>...</td>\n      <td>0.090358</td>\n      <td>0.251375</td>\n      <td>0.168286</td>\n      <td>-0.268572</td>\n      <td>1.002422</td>\n      <td>1.245999</td>\n      <td>1.108069</td>\n      <td>1.103637</td>\n      <td>train</td>\n      <td>angry</td>\n    </tr>\n    <tr>\n      <th>2</th>\n      <td>0.235815</td>\n      <td>0.257549</td>\n      <td>0.255429</td>\n      <td>0.116086</td>\n      <td>-0.118125</td>\n      <td>-0.417912</td>\n      <td>-0.620827</td>\n      <td>-0.667690</td>\n      <td>-0.694596</td>\n      <td>-0.727656</td>\n      <td>...</td>\n      <td>-0.613427</td>\n      <td>-0.570783</td>\n      <td>-0.568826</td>\n      <td>-0.528563</td>\n      <td>-0.529773</td>\n      <td>-0.534636</td>\n      <td>-0.526004</td>\n      <td>-0.506284</td>\n      <td>train</td>\n      <td>angry</td>\n    </tr>\n    <tr>\n      <th>3</th>\n      <td>0.712731</td>\n      <td>0.755687</td>\n      <td>0.632969</td>\n      <td>0.838650</td>\n      <td>0.977099</td>\n      <td>0.939686</td>\n      <td>1.029403</td>\n      <td>0.982662</td>\n      <td>1.103612</td>\n      <td>1.328932</td>\n      <td>...</td>\n      <td>0.077562</td>\n      <td>0.327267</td>\n      <td>0.455635</td>\n      <td>0.548543</td>\n      <td>0.573407</td>\n      <td>0.604001</td>\n      <td>0.675520</td>\n      <td>0.423892</td>\n      <td>train</td>\n      <td>angry</td>\n    </tr>\n    <tr>\n      <th>4</th>\n      <td>1.791469</td>\n      <td>1.856224</td>\n      <td>1.918965</td>\n      <td>1.958624</td>\n      <td>1.813899</td>\n      <td>1.253944</td>\n      <td>0.811931</td>\n      <td>0.917688</td>\n      <td>-0.090818</td>\n      <td>-0.556273</td>\n      <td>...</td>\n      <td>0.602202</td>\n      <td>0.175484</td>\n      <td>0.168286</td>\n      <td>0.598066</td>\n      <td>0.818558</td>\n      <td>0.700907</td>\n      <td>0.303048</td>\n      <td>0.221162</td>\n      <td>train</td>\n      <td>angry</td>\n    </tr>\n    <tr>\n      <th>...</th>\n      <td>...</td>\n      <td>...</td>\n      <td>...</td>\n      <td>...</td>\n      <td>...</td>\n      <td>...</td>\n      <td>...</td>\n      <td>...</td>\n      <td>...</td>\n      <td>...</td>\n      <td>...</td>\n      <td>...</td>\n      <td>...</td>\n      <td>...</td>\n      <td>...</td>\n      <td>...</td>\n      <td>...</td>\n      <td>...</td>\n      <td>...</td>\n      <td>...</td>\n      <td>...</td>\n    </tr>\n    <tr>\n      <th>35882</th>\n      <td>-1.092737</td>\n      <td>-1.086265</td>\n      <td>-1.077760</td>\n      <td>-1.076145</td>\n      <td>-1.077984</td>\n      <td>-1.084141</td>\n      <td>-1.094149</td>\n      <td>-1.109516</td>\n      <td>-1.127741</td>\n      <td>-1.149520</td>\n      <td>...</td>\n      <td>-1.125270</td>\n      <td>-1.114673</td>\n      <td>-1.106043</td>\n      <td>-1.098067</td>\n      <td>-1.093621</td>\n      <td>-1.091842</td>\n      <td>-1.090720</td>\n      <td>-1.090626</td>\n      <td>None</td>\n      <td>None</td>\n    </tr>\n    <tr>\n      <th>35883</th>\n      <td>-1.092737</td>\n      <td>-1.086265</td>\n      <td>-1.077760</td>\n      <td>-1.076145</td>\n      <td>-1.077984</td>\n      <td>-1.084141</td>\n      <td>-1.094149</td>\n      <td>-1.109516</td>\n      <td>-1.127741</td>\n      <td>-1.149520</td>\n      <td>...</td>\n      <td>-1.125270</td>\n      <td>-1.114673</td>\n      <td>-1.106043</td>\n      <td>-1.098067</td>\n      <td>-1.093621</td>\n      <td>-1.091842</td>\n      <td>-1.090720</td>\n      <td>-1.090626</td>\n      <td>None</td>\n      <td>None</td>\n    </tr>\n    <tr>\n      <th>35884</th>\n      <td>-1.092737</td>\n      <td>-1.086265</td>\n      <td>-1.077760</td>\n      <td>-1.076145</td>\n      <td>-1.077984</td>\n      <td>-1.084141</td>\n      <td>-1.094149</td>\n      <td>-1.109516</td>\n      <td>-1.127741</td>\n      <td>-1.149520</td>\n      <td>...</td>\n      <td>-1.125270</td>\n      <td>-1.114673</td>\n      <td>-1.106043</td>\n      <td>-1.098067</td>\n      <td>-1.093621</td>\n      <td>-1.091842</td>\n      <td>-1.090720</td>\n      <td>-1.090626</td>\n      <td>None</td>\n      <td>None</td>\n    </tr>\n    <tr>\n      <th>35885</th>\n      <td>-1.092737</td>\n      <td>-1.086265</td>\n      <td>-1.077760</td>\n      <td>-1.076145</td>\n      <td>-1.077984</td>\n      <td>-1.084141</td>\n      <td>-1.094149</td>\n      <td>-1.109516</td>\n      <td>-1.127741</td>\n      <td>-1.149520</td>\n      <td>...</td>\n      <td>-1.125270</td>\n      <td>-1.114673</td>\n      <td>-1.106043</td>\n      <td>-1.098067</td>\n      <td>-1.093621</td>\n      <td>-1.091842</td>\n      <td>-1.090720</td>\n      <td>-1.090626</td>\n      <td>None</td>\n      <td>None</td>\n    </tr>\n    <tr>\n      <th>35886</th>\n      <td>-1.092737</td>\n      <td>-1.086265</td>\n      <td>-1.077760</td>\n      <td>-1.076145</td>\n      <td>-1.077984</td>\n      <td>-1.084141</td>\n      <td>-1.094149</td>\n      <td>-1.109516</td>\n      <td>-1.127741</td>\n      <td>-1.149520</td>\n      <td>...</td>\n      <td>-1.125270</td>\n      <td>-1.114673</td>\n      <td>-1.106043</td>\n      <td>-1.098067</td>\n      <td>-1.093621</td>\n      <td>-1.091842</td>\n      <td>-1.090720</td>\n      <td>-1.090626</td>\n      <td>None</td>\n      <td>None</td>\n    </tr>\n  </tbody>\n</table>\n<p>35887 rows × 2306 columns</p>\n</div>"
     },
     "execution_count": 50,
     "metadata": {},
     "output_type": "execute_result"
    }
   ],
   "source": [
    "df"
   ]
  },
  {
   "cell_type": "code",
   "execution_count": 59,
   "metadata": {
    "ExecuteTime": {
     "end_time": "2024-04-02T03:46:51.963262400Z",
     "start_time": "2024-04-02T03:46:51.793044900Z"
    }
   },
   "outputs": [
    {
     "data": {
      "text/plain": "              0         1         2         3         4         5         6  \\\n0     -0.297877 -0.159497 -0.110313 -0.209068 -0.364243 -0.355061 -0.326600   \n1      0.621890  0.651425  0.656565  0.790479  0.743287  0.587716  0.325817   \n2      0.235815  0.257549  0.255429  0.116086 -0.118125 -0.417912 -0.620827   \n3      0.712731  0.755687  0.632969  0.838650  0.977099  0.939686  1.029403   \n4      1.791469  1.856224  1.918965  1.958624  1.813899  1.253944  0.811931   \n...         ...       ...       ...       ...       ...       ...       ...   \n28704  1.053385  0.767271  0.621171  0.597795  0.571005  0.612856  0.236269   \n28705  0.553759  1.022133  1.423444  0.597795 -0.831866 -0.908156 -0.940639   \n28706 -0.979185 -0.900911 -0.853595 -0.835290 -0.831866 -0.895586 -0.851092   \n28707  0.508338  0.628256  0.762749  0.886821  1.026323  1.115670  1.195706   \n28708  0.269880  0.303887  0.385208  0.453282  0.620228  0.637997  0.696799   \n\n              7         8         9  ...      2296      2297      2298  \\\n0     -0.290838 -0.418958 -0.384891  ...  1.216414  0.605536  0.218260   \n1      0.709769  1.103612  1.144367  ...  0.090358  0.251375  0.168286   \n2     -0.667690 -0.694596 -0.727656  ... -0.613427 -0.570783 -0.568826   \n3      0.982662  1.103612  1.328932  ...  0.077562  0.327267  0.455635   \n4      0.917688 -0.090818 -0.556273  ...  0.602202  0.175484  0.168286   \n...         ...       ...       ...  ...       ...       ...       ...   \n28704 -0.472766 -0.510838 -0.714472  ...  1.318783  1.301209  1.280201   \n28705 -0.940583 -0.615842 -0.569457  ...  1.433948  1.288560  1.080307   \n28706 -0.680685 -0.077693 -0.002577  ...  1.382763  1.339154  1.280201   \n28707  1.281545  1.313622  1.328932  ...  1.779442  1.731261  1.692484   \n28708  0.813729  0.801723  0.841152  ...  1.369967  1.301209  1.142774   \n\n           2299      2300      2301      2302      2303  obs_type    emotion  \n0      0.338074  0.070847  0.192154  0.218941 -0.112748     train      angry  \n1     -0.268572  1.002422  1.245999  1.108069  1.103637     train      angry  \n2     -0.528563 -0.529773 -0.534636 -0.526004 -0.506284     train      angry  \n3      0.548543  0.573407  0.604001  0.675520  0.423892     train      angry  \n4      0.598066  0.818558  0.700907  0.303048  0.221162     train      angry  \n...         ...       ...       ...       ...       ...       ...        ...  \n28704  1.266614  1.247573  1.233886  1.204191  1.187114     train  surprised  \n28705  0.870437  0.720498  0.264833 -0.033379  0.471594     train  surprised  \n28706  1.179950  1.063709  1.015849  0.819703  0.662399     train  surprised  \n28707  1.675172  1.639815  1.585168  1.528602  1.509099     train  surprised  \n28708  1.056145  1.088225  1.149094  1.072023  1.091712     train  surprised  \n\n[28709 rows x 2306 columns]",
      "text/html": "<div>\n<style scoped>\n    .dataframe tbody tr th:only-of-type {\n        vertical-align: middle;\n    }\n\n    .dataframe tbody tr th {\n        vertical-align: top;\n    }\n\n    .dataframe thead th {\n        text-align: right;\n    }\n</style>\n<table border=\"1\" class=\"dataframe\">\n  <thead>\n    <tr style=\"text-align: right;\">\n      <th></th>\n      <th>0</th>\n      <th>1</th>\n      <th>2</th>\n      <th>3</th>\n      <th>4</th>\n      <th>5</th>\n      <th>6</th>\n      <th>7</th>\n      <th>8</th>\n      <th>9</th>\n      <th>...</th>\n      <th>2296</th>\n      <th>2297</th>\n      <th>2298</th>\n      <th>2299</th>\n      <th>2300</th>\n      <th>2301</th>\n      <th>2302</th>\n      <th>2303</th>\n      <th>obs_type</th>\n      <th>emotion</th>\n    </tr>\n  </thead>\n  <tbody>\n    <tr>\n      <th>0</th>\n      <td>-0.297877</td>\n      <td>-0.159497</td>\n      <td>-0.110313</td>\n      <td>-0.209068</td>\n      <td>-0.364243</td>\n      <td>-0.355061</td>\n      <td>-0.326600</td>\n      <td>-0.290838</td>\n      <td>-0.418958</td>\n      <td>-0.384891</td>\n      <td>...</td>\n      <td>1.216414</td>\n      <td>0.605536</td>\n      <td>0.218260</td>\n      <td>0.338074</td>\n      <td>0.070847</td>\n      <td>0.192154</td>\n      <td>0.218941</td>\n      <td>-0.112748</td>\n      <td>train</td>\n      <td>angry</td>\n    </tr>\n    <tr>\n      <th>1</th>\n      <td>0.621890</td>\n      <td>0.651425</td>\n      <td>0.656565</td>\n      <td>0.790479</td>\n      <td>0.743287</td>\n      <td>0.587716</td>\n      <td>0.325817</td>\n      <td>0.709769</td>\n      <td>1.103612</td>\n      <td>1.144367</td>\n      <td>...</td>\n      <td>0.090358</td>\n      <td>0.251375</td>\n      <td>0.168286</td>\n      <td>-0.268572</td>\n      <td>1.002422</td>\n      <td>1.245999</td>\n      <td>1.108069</td>\n      <td>1.103637</td>\n      <td>train</td>\n      <td>angry</td>\n    </tr>\n    <tr>\n      <th>2</th>\n      <td>0.235815</td>\n      <td>0.257549</td>\n      <td>0.255429</td>\n      <td>0.116086</td>\n      <td>-0.118125</td>\n      <td>-0.417912</td>\n      <td>-0.620827</td>\n      <td>-0.667690</td>\n      <td>-0.694596</td>\n      <td>-0.727656</td>\n      <td>...</td>\n      <td>-0.613427</td>\n      <td>-0.570783</td>\n      <td>-0.568826</td>\n      <td>-0.528563</td>\n      <td>-0.529773</td>\n      <td>-0.534636</td>\n      <td>-0.526004</td>\n      <td>-0.506284</td>\n      <td>train</td>\n      <td>angry</td>\n    </tr>\n    <tr>\n      <th>3</th>\n      <td>0.712731</td>\n      <td>0.755687</td>\n      <td>0.632969</td>\n      <td>0.838650</td>\n      <td>0.977099</td>\n      <td>0.939686</td>\n      <td>1.029403</td>\n      <td>0.982662</td>\n      <td>1.103612</td>\n      <td>1.328932</td>\n      <td>...</td>\n      <td>0.077562</td>\n      <td>0.327267</td>\n      <td>0.455635</td>\n      <td>0.548543</td>\n      <td>0.573407</td>\n      <td>0.604001</td>\n      <td>0.675520</td>\n      <td>0.423892</td>\n      <td>train</td>\n      <td>angry</td>\n    </tr>\n    <tr>\n      <th>4</th>\n      <td>1.791469</td>\n      <td>1.856224</td>\n      <td>1.918965</td>\n      <td>1.958624</td>\n      <td>1.813899</td>\n      <td>1.253944</td>\n      <td>0.811931</td>\n      <td>0.917688</td>\n      <td>-0.090818</td>\n      <td>-0.556273</td>\n      <td>...</td>\n      <td>0.602202</td>\n      <td>0.175484</td>\n      <td>0.168286</td>\n      <td>0.598066</td>\n      <td>0.818558</td>\n      <td>0.700907</td>\n      <td>0.303048</td>\n      <td>0.221162</td>\n      <td>train</td>\n      <td>angry</td>\n    </tr>\n    <tr>\n      <th>...</th>\n      <td>...</td>\n      <td>...</td>\n      <td>...</td>\n      <td>...</td>\n      <td>...</td>\n      <td>...</td>\n      <td>...</td>\n      <td>...</td>\n      <td>...</td>\n      <td>...</td>\n      <td>...</td>\n      <td>...</td>\n      <td>...</td>\n      <td>...</td>\n      <td>...</td>\n      <td>...</td>\n      <td>...</td>\n      <td>...</td>\n      <td>...</td>\n      <td>...</td>\n      <td>...</td>\n    </tr>\n    <tr>\n      <th>28704</th>\n      <td>1.053385</td>\n      <td>0.767271</td>\n      <td>0.621171</td>\n      <td>0.597795</td>\n      <td>0.571005</td>\n      <td>0.612856</td>\n      <td>0.236269</td>\n      <td>-0.472766</td>\n      <td>-0.510838</td>\n      <td>-0.714472</td>\n      <td>...</td>\n      <td>1.318783</td>\n      <td>1.301209</td>\n      <td>1.280201</td>\n      <td>1.266614</td>\n      <td>1.247573</td>\n      <td>1.233886</td>\n      <td>1.204191</td>\n      <td>1.187114</td>\n      <td>train</td>\n      <td>surprised</td>\n    </tr>\n    <tr>\n      <th>28705</th>\n      <td>0.553759</td>\n      <td>1.022133</td>\n      <td>1.423444</td>\n      <td>0.597795</td>\n      <td>-0.831866</td>\n      <td>-0.908156</td>\n      <td>-0.940639</td>\n      <td>-0.940583</td>\n      <td>-0.615842</td>\n      <td>-0.569457</td>\n      <td>...</td>\n      <td>1.433948</td>\n      <td>1.288560</td>\n      <td>1.080307</td>\n      <td>0.870437</td>\n      <td>0.720498</td>\n      <td>0.264833</td>\n      <td>-0.033379</td>\n      <td>0.471594</td>\n      <td>train</td>\n      <td>surprised</td>\n    </tr>\n    <tr>\n      <th>28706</th>\n      <td>-0.979185</td>\n      <td>-0.900911</td>\n      <td>-0.853595</td>\n      <td>-0.835290</td>\n      <td>-0.831866</td>\n      <td>-0.895586</td>\n      <td>-0.851092</td>\n      <td>-0.680685</td>\n      <td>-0.077693</td>\n      <td>-0.002577</td>\n      <td>...</td>\n      <td>1.382763</td>\n      <td>1.339154</td>\n      <td>1.280201</td>\n      <td>1.179950</td>\n      <td>1.063709</td>\n      <td>1.015849</td>\n      <td>0.819703</td>\n      <td>0.662399</td>\n      <td>train</td>\n      <td>surprised</td>\n    </tr>\n    <tr>\n      <th>28707</th>\n      <td>0.508338</td>\n      <td>0.628256</td>\n      <td>0.762749</td>\n      <td>0.886821</td>\n      <td>1.026323</td>\n      <td>1.115670</td>\n      <td>1.195706</td>\n      <td>1.281545</td>\n      <td>1.313622</td>\n      <td>1.328932</td>\n      <td>...</td>\n      <td>1.779442</td>\n      <td>1.731261</td>\n      <td>1.692484</td>\n      <td>1.675172</td>\n      <td>1.639815</td>\n      <td>1.585168</td>\n      <td>1.528602</td>\n      <td>1.509099</td>\n      <td>train</td>\n      <td>surprised</td>\n    </tr>\n    <tr>\n      <th>28708</th>\n      <td>0.269880</td>\n      <td>0.303887</td>\n      <td>0.385208</td>\n      <td>0.453282</td>\n      <td>0.620228</td>\n      <td>0.637997</td>\n      <td>0.696799</td>\n      <td>0.813729</td>\n      <td>0.801723</td>\n      <td>0.841152</td>\n      <td>...</td>\n      <td>1.369967</td>\n      <td>1.301209</td>\n      <td>1.142774</td>\n      <td>1.056145</td>\n      <td>1.088225</td>\n      <td>1.149094</td>\n      <td>1.072023</td>\n      <td>1.091712</td>\n      <td>train</td>\n      <td>surprised</td>\n    </tr>\n  </tbody>\n</table>\n<p>28709 rows × 2306 columns</p>\n</div>"
     },
     "execution_count": 59,
     "metadata": {},
     "output_type": "execute_result"
    }
   ],
   "source": [
    "# here are the two final datasets that we will be working with\n",
    "test = df[df['obs_type'] == 'test']\n",
    "train = df[df['obs_type'] == 'train']\n",
    "\n",
    "train"
   ]
  },
  {
   "attachments": {},
   "cell_type": "markdown",
   "metadata": {},
   "source": [
    "### 2. Data Preprocessing\n",
    "- Separate features and labels on our datasets \n",
    "- Create a subset of the data with PCA"
   ]
  },
  {
   "cell_type": "code",
   "execution_count": 52,
   "metadata": {
    "ExecuteTime": {
     "end_time": "2024-04-01T22:15:06.085576600Z",
     "start_time": "2024-04-01T22:15:05.931752300Z"
    }
   },
   "outputs": [],
   "source": [
    "feature_cols = [x for x in range(48*48)]\n",
    "\n",
    "X_train =  train[feature_cols]\n",
    "X_test = test[feature_cols]\n",
    "y_train = train[\"emotion\"]\n",
    "y_test = test[\"emotion\"]"
   ]
  },
  {
   "cell_type": "code",
   "execution_count": 53,
   "metadata": {
    "ExecuteTime": {
     "end_time": "2024-04-01T22:15:06.132149300Z",
     "start_time": "2024-04-01T22:15:06.059012300Z"
    }
   },
   "outputs": [
    {
     "data": {
      "text/plain": "(28709,)"
     },
     "execution_count": 53,
     "metadata": {},
     "output_type": "execute_result"
    }
   ],
   "source": [
    "y_train.shape"
   ]
  },
  {
   "cell_type": "code",
   "execution_count": 54,
   "metadata": {
    "ExecuteTime": {
     "end_time": "2024-04-01T22:15:06.205534700Z",
     "start_time": "2024-04-01T22:15:06.071531500Z"
    }
   },
   "outputs": [
    {
     "data": {
      "text/plain": "           0         1         2         3         4         5         6     \\\n0     -0.297877 -0.159497 -0.110313 -0.209068 -0.364243 -0.355061 -0.326600   \n1      0.621890  0.651425  0.656565  0.790479  0.743287  0.587716  0.325817   \n2      0.235815  0.257549  0.255429  0.116086 -0.118125 -0.417912 -0.620827   \n3      0.712731  0.755687  0.632969  0.838650  0.977099  0.939686  1.029403   \n4      1.791469  1.856224  1.918965  1.958624  1.813899  1.253944  0.811931   \n...         ...       ...       ...       ...       ...       ...       ...   \n28704  1.053385  0.767271  0.621171  0.597795  0.571005  0.612856  0.236269   \n28705  0.553759  1.022133  1.423444  0.597795 -0.831866 -0.908156 -0.940639   \n28706 -0.979185 -0.900911 -0.853595 -0.835290 -0.831866 -0.895586 -0.851092   \n28707  0.508338  0.628256  0.762749  0.886821  1.026323  1.115670  1.195706   \n28708  0.269880  0.303887  0.385208  0.453282  0.620228  0.637997  0.696799   \n\n           7         8         9     ...      2294      2295      2296  \\\n0     -0.290838 -0.418958 -0.384891  ...  0.921590  1.212197  1.216414   \n1      0.709769  1.103612  1.144367  ...  0.216168  0.256862  0.090358   \n2     -0.667690 -0.694596 -0.727656  ... -0.789710 -0.698473 -0.613427   \n3      0.982662  1.103612  1.328932  ... -0.188796 -0.052976  0.077562   \n4      0.917688 -0.090818 -0.556273  ...  2.175673  1.676954  0.602202   \n...         ...       ...       ...  ...       ...       ...       ...   \n28704 -0.472766 -0.510838 -0.714472  ...  1.339618  1.328386  1.318783   \n28705 -0.940583 -0.615842 -0.569457  ...  1.653138  1.547855  1.433948   \n28706 -0.680685 -0.077693 -0.002577  ...  1.444125  1.405846  1.382763   \n28707  1.281545  1.313622  1.328932  ...  1.849089  1.831873  1.779442   \n28708  0.813729  0.801723  0.841152  ...  1.365744  1.354206  1.369967   \n\n           2297      2298      2299      2300      2301      2302      2303  \n0      0.605536  0.218260  0.338074  0.070847  0.192154  0.218941 -0.112748  \n1      0.251375  0.168286 -0.268572  1.002422  1.245999  1.108069  1.103637  \n2     -0.570783 -0.568826 -0.528563 -0.529773 -0.534636 -0.526004 -0.506284  \n3      0.327267  0.455635  0.548543  0.573407  0.604001  0.675520  0.423892  \n4      0.175484  0.168286  0.598066  0.818558  0.700907  0.303048  0.221162  \n...         ...       ...       ...       ...       ...       ...       ...  \n28704  1.301209  1.280201  1.266614  1.247573  1.233886  1.204191  1.187114  \n28705  1.288560  1.080307  0.870437  0.720498  0.264833 -0.033379  0.471594  \n28706  1.339154  1.280201  1.179950  1.063709  1.015849  0.819703  0.662399  \n28707  1.731261  1.692484  1.675172  1.639815  1.585168  1.528602  1.509099  \n28708  1.301209  1.142774  1.056145  1.088225  1.149094  1.072023  1.091712  \n\n[28709 rows x 2304 columns]",
      "text/html": "<div>\n<style scoped>\n    .dataframe tbody tr th:only-of-type {\n        vertical-align: middle;\n    }\n\n    .dataframe tbody tr th {\n        vertical-align: top;\n    }\n\n    .dataframe thead th {\n        text-align: right;\n    }\n</style>\n<table border=\"1\" class=\"dataframe\">\n  <thead>\n    <tr style=\"text-align: right;\">\n      <th></th>\n      <th>0</th>\n      <th>1</th>\n      <th>2</th>\n      <th>3</th>\n      <th>4</th>\n      <th>5</th>\n      <th>6</th>\n      <th>7</th>\n      <th>8</th>\n      <th>9</th>\n      <th>...</th>\n      <th>2294</th>\n      <th>2295</th>\n      <th>2296</th>\n      <th>2297</th>\n      <th>2298</th>\n      <th>2299</th>\n      <th>2300</th>\n      <th>2301</th>\n      <th>2302</th>\n      <th>2303</th>\n    </tr>\n  </thead>\n  <tbody>\n    <tr>\n      <th>0</th>\n      <td>-0.297877</td>\n      <td>-0.159497</td>\n      <td>-0.110313</td>\n      <td>-0.209068</td>\n      <td>-0.364243</td>\n      <td>-0.355061</td>\n      <td>-0.326600</td>\n      <td>-0.290838</td>\n      <td>-0.418958</td>\n      <td>-0.384891</td>\n      <td>...</td>\n      <td>0.921590</td>\n      <td>1.212197</td>\n      <td>1.216414</td>\n      <td>0.605536</td>\n      <td>0.218260</td>\n      <td>0.338074</td>\n      <td>0.070847</td>\n      <td>0.192154</td>\n      <td>0.218941</td>\n      <td>-0.112748</td>\n    </tr>\n    <tr>\n      <th>1</th>\n      <td>0.621890</td>\n      <td>0.651425</td>\n      <td>0.656565</td>\n      <td>0.790479</td>\n      <td>0.743287</td>\n      <td>0.587716</td>\n      <td>0.325817</td>\n      <td>0.709769</td>\n      <td>1.103612</td>\n      <td>1.144367</td>\n      <td>...</td>\n      <td>0.216168</td>\n      <td>0.256862</td>\n      <td>0.090358</td>\n      <td>0.251375</td>\n      <td>0.168286</td>\n      <td>-0.268572</td>\n      <td>1.002422</td>\n      <td>1.245999</td>\n      <td>1.108069</td>\n      <td>1.103637</td>\n    </tr>\n    <tr>\n      <th>2</th>\n      <td>0.235815</td>\n      <td>0.257549</td>\n      <td>0.255429</td>\n      <td>0.116086</td>\n      <td>-0.118125</td>\n      <td>-0.417912</td>\n      <td>-0.620827</td>\n      <td>-0.667690</td>\n      <td>-0.694596</td>\n      <td>-0.727656</td>\n      <td>...</td>\n      <td>-0.789710</td>\n      <td>-0.698473</td>\n      <td>-0.613427</td>\n      <td>-0.570783</td>\n      <td>-0.568826</td>\n      <td>-0.528563</td>\n      <td>-0.529773</td>\n      <td>-0.534636</td>\n      <td>-0.526004</td>\n      <td>-0.506284</td>\n    </tr>\n    <tr>\n      <th>3</th>\n      <td>0.712731</td>\n      <td>0.755687</td>\n      <td>0.632969</td>\n      <td>0.838650</td>\n      <td>0.977099</td>\n      <td>0.939686</td>\n      <td>1.029403</td>\n      <td>0.982662</td>\n      <td>1.103612</td>\n      <td>1.328932</td>\n      <td>...</td>\n      <td>-0.188796</td>\n      <td>-0.052976</td>\n      <td>0.077562</td>\n      <td>0.327267</td>\n      <td>0.455635</td>\n      <td>0.548543</td>\n      <td>0.573407</td>\n      <td>0.604001</td>\n      <td>0.675520</td>\n      <td>0.423892</td>\n    </tr>\n    <tr>\n      <th>4</th>\n      <td>1.791469</td>\n      <td>1.856224</td>\n      <td>1.918965</td>\n      <td>1.958624</td>\n      <td>1.813899</td>\n      <td>1.253944</td>\n      <td>0.811931</td>\n      <td>0.917688</td>\n      <td>-0.090818</td>\n      <td>-0.556273</td>\n      <td>...</td>\n      <td>2.175673</td>\n      <td>1.676954</td>\n      <td>0.602202</td>\n      <td>0.175484</td>\n      <td>0.168286</td>\n      <td>0.598066</td>\n      <td>0.818558</td>\n      <td>0.700907</td>\n      <td>0.303048</td>\n      <td>0.221162</td>\n    </tr>\n    <tr>\n      <th>...</th>\n      <td>...</td>\n      <td>...</td>\n      <td>...</td>\n      <td>...</td>\n      <td>...</td>\n      <td>...</td>\n      <td>...</td>\n      <td>...</td>\n      <td>...</td>\n      <td>...</td>\n      <td>...</td>\n      <td>...</td>\n      <td>...</td>\n      <td>...</td>\n      <td>...</td>\n      <td>...</td>\n      <td>...</td>\n      <td>...</td>\n      <td>...</td>\n      <td>...</td>\n      <td>...</td>\n    </tr>\n    <tr>\n      <th>28704</th>\n      <td>1.053385</td>\n      <td>0.767271</td>\n      <td>0.621171</td>\n      <td>0.597795</td>\n      <td>0.571005</td>\n      <td>0.612856</td>\n      <td>0.236269</td>\n      <td>-0.472766</td>\n      <td>-0.510838</td>\n      <td>-0.714472</td>\n      <td>...</td>\n      <td>1.339618</td>\n      <td>1.328386</td>\n      <td>1.318783</td>\n      <td>1.301209</td>\n      <td>1.280201</td>\n      <td>1.266614</td>\n      <td>1.247573</td>\n      <td>1.233886</td>\n      <td>1.204191</td>\n      <td>1.187114</td>\n    </tr>\n    <tr>\n      <th>28705</th>\n      <td>0.553759</td>\n      <td>1.022133</td>\n      <td>1.423444</td>\n      <td>0.597795</td>\n      <td>-0.831866</td>\n      <td>-0.908156</td>\n      <td>-0.940639</td>\n      <td>-0.940583</td>\n      <td>-0.615842</td>\n      <td>-0.569457</td>\n      <td>...</td>\n      <td>1.653138</td>\n      <td>1.547855</td>\n      <td>1.433948</td>\n      <td>1.288560</td>\n      <td>1.080307</td>\n      <td>0.870437</td>\n      <td>0.720498</td>\n      <td>0.264833</td>\n      <td>-0.033379</td>\n      <td>0.471594</td>\n    </tr>\n    <tr>\n      <th>28706</th>\n      <td>-0.979185</td>\n      <td>-0.900911</td>\n      <td>-0.853595</td>\n      <td>-0.835290</td>\n      <td>-0.831866</td>\n      <td>-0.895586</td>\n      <td>-0.851092</td>\n      <td>-0.680685</td>\n      <td>-0.077693</td>\n      <td>-0.002577</td>\n      <td>...</td>\n      <td>1.444125</td>\n      <td>1.405846</td>\n      <td>1.382763</td>\n      <td>1.339154</td>\n      <td>1.280201</td>\n      <td>1.179950</td>\n      <td>1.063709</td>\n      <td>1.015849</td>\n      <td>0.819703</td>\n      <td>0.662399</td>\n    </tr>\n    <tr>\n      <th>28707</th>\n      <td>0.508338</td>\n      <td>0.628256</td>\n      <td>0.762749</td>\n      <td>0.886821</td>\n      <td>1.026323</td>\n      <td>1.115670</td>\n      <td>1.195706</td>\n      <td>1.281545</td>\n      <td>1.313622</td>\n      <td>1.328932</td>\n      <td>...</td>\n      <td>1.849089</td>\n      <td>1.831873</td>\n      <td>1.779442</td>\n      <td>1.731261</td>\n      <td>1.692484</td>\n      <td>1.675172</td>\n      <td>1.639815</td>\n      <td>1.585168</td>\n      <td>1.528602</td>\n      <td>1.509099</td>\n    </tr>\n    <tr>\n      <th>28708</th>\n      <td>0.269880</td>\n      <td>0.303887</td>\n      <td>0.385208</td>\n      <td>0.453282</td>\n      <td>0.620228</td>\n      <td>0.637997</td>\n      <td>0.696799</td>\n      <td>0.813729</td>\n      <td>0.801723</td>\n      <td>0.841152</td>\n      <td>...</td>\n      <td>1.365744</td>\n      <td>1.354206</td>\n      <td>1.369967</td>\n      <td>1.301209</td>\n      <td>1.142774</td>\n      <td>1.056145</td>\n      <td>1.088225</td>\n      <td>1.149094</td>\n      <td>1.072023</td>\n      <td>1.091712</td>\n    </tr>\n  </tbody>\n</table>\n<p>28709 rows × 2304 columns</p>\n</div>"
     },
     "execution_count": 54,
     "metadata": {},
     "output_type": "execute_result"
    }
   ],
   "source": [
    "X_train"
   ]
  },
  {
   "cell_type": "code",
   "execution_count": 55,
   "metadata": {
    "ExecuteTime": {
     "end_time": "2024-04-01T22:15:11.142108500Z",
     "start_time": "2024-04-01T22:15:06.104602500Z"
    }
   },
   "outputs": [],
   "source": [
    "from  sklearn.decomposition  import  PCA\n",
    "\n",
    "k = 100\n",
    "pca = PCA(n_components=k)\n",
    "\n",
    "# new datasets for after PCA\n",
    "X_train_pca = pca.fit_transform(X_train)"
   ]
  },
  {
   "attachments": {},
   "cell_type": "markdown",
   "metadata": {},
   "source": [
    "### 3.1 SVM Model"
   ]
  },
  {
   "cell_type": "code",
   "execution_count": 56,
   "metadata": {
    "ExecuteTime": {
     "end_time": "2024-04-01T22:16:03.582999800Z",
     "start_time": "2024-04-01T22:15:11.143109100Z"
    }
   },
   "outputs": [],
   "source": [
    "from sklearn.svm import SVC\n",
    "\n",
    "svm = SVC(C=1, kernel='rbf', gamma=0.0005, random_state=1)\n",
    "svm = svm.fit(X_train_pca, y_train)"
   ]
  },
  {
   "cell_type": "code",
   "execution_count": 57,
   "metadata": {
    "ExecuteTime": {
     "end_time": "2024-04-01T22:16:03.606118700Z",
     "start_time": "2024-04-01T22:16:03.584001800Z"
    }
   },
   "outputs": [
    {
     "data": {
      "text/plain": "SVC(C=1, gamma=0.0005, random_state=1)",
      "text/html": "<style>#sk-container-id-1 {color: black;background-color: white;}#sk-container-id-1 pre{padding: 0;}#sk-container-id-1 div.sk-toggleable {background-color: white;}#sk-container-id-1 label.sk-toggleable__label {cursor: pointer;display: block;width: 100%;margin-bottom: 0;padding: 0.3em;box-sizing: border-box;text-align: center;}#sk-container-id-1 label.sk-toggleable__label-arrow:before {content: \"▸\";float: left;margin-right: 0.25em;color: #696969;}#sk-container-id-1 label.sk-toggleable__label-arrow:hover:before {color: black;}#sk-container-id-1 div.sk-estimator:hover label.sk-toggleable__label-arrow:before {color: black;}#sk-container-id-1 div.sk-toggleable__content {max-height: 0;max-width: 0;overflow: hidden;text-align: left;background-color: #f0f8ff;}#sk-container-id-1 div.sk-toggleable__content pre {margin: 0.2em;color: black;border-radius: 0.25em;background-color: #f0f8ff;}#sk-container-id-1 input.sk-toggleable__control:checked~div.sk-toggleable__content {max-height: 200px;max-width: 100%;overflow: auto;}#sk-container-id-1 input.sk-toggleable__control:checked~label.sk-toggleable__label-arrow:before {content: \"▾\";}#sk-container-id-1 div.sk-estimator input.sk-toggleable__control:checked~label.sk-toggleable__label {background-color: #d4ebff;}#sk-container-id-1 div.sk-label input.sk-toggleable__control:checked~label.sk-toggleable__label {background-color: #d4ebff;}#sk-container-id-1 input.sk-hidden--visually {border: 0;clip: rect(1px 1px 1px 1px);clip: rect(1px, 1px, 1px, 1px);height: 1px;margin: -1px;overflow: hidden;padding: 0;position: absolute;width: 1px;}#sk-container-id-1 div.sk-estimator {font-family: monospace;background-color: #f0f8ff;border: 1px dotted black;border-radius: 0.25em;box-sizing: border-box;margin-bottom: 0.5em;}#sk-container-id-1 div.sk-estimator:hover {background-color: #d4ebff;}#sk-container-id-1 div.sk-parallel-item::after {content: \"\";width: 100%;border-bottom: 1px solid gray;flex-grow: 1;}#sk-container-id-1 div.sk-label:hover label.sk-toggleable__label {background-color: #d4ebff;}#sk-container-id-1 div.sk-serial::before {content: \"\";position: absolute;border-left: 1px solid gray;box-sizing: border-box;top: 0;bottom: 0;left: 50%;z-index: 0;}#sk-container-id-1 div.sk-serial {display: flex;flex-direction: column;align-items: center;background-color: white;padding-right: 0.2em;padding-left: 0.2em;position: relative;}#sk-container-id-1 div.sk-item {position: relative;z-index: 1;}#sk-container-id-1 div.sk-parallel {display: flex;align-items: stretch;justify-content: center;background-color: white;position: relative;}#sk-container-id-1 div.sk-item::before, #sk-container-id-1 div.sk-parallel-item::before {content: \"\";position: absolute;border-left: 1px solid gray;box-sizing: border-box;top: 0;bottom: 0;left: 50%;z-index: -1;}#sk-container-id-1 div.sk-parallel-item {display: flex;flex-direction: column;z-index: 1;position: relative;background-color: white;}#sk-container-id-1 div.sk-parallel-item:first-child::after {align-self: flex-end;width: 50%;}#sk-container-id-1 div.sk-parallel-item:last-child::after {align-self: flex-start;width: 50%;}#sk-container-id-1 div.sk-parallel-item:only-child::after {width: 0;}#sk-container-id-1 div.sk-dashed-wrapped {border: 1px dashed gray;margin: 0 0.4em 0.5em 0.4em;box-sizing: border-box;padding-bottom: 0.4em;background-color: white;}#sk-container-id-1 div.sk-label label {font-family: monospace;font-weight: bold;display: inline-block;line-height: 1.2em;}#sk-container-id-1 div.sk-label-container {text-align: center;}#sk-container-id-1 div.sk-container {/* jupyter's `normalize.less` sets `[hidden] { display: none; }` but bootstrap.min.css set `[hidden] { display: none !important; }` so we also need the `!important` here to be able to override the default hidden behavior on the sphinx rendered scikit-learn.org. See: https://github.com/scikit-learn/scikit-learn/issues/21755 */display: inline-block !important;position: relative;}#sk-container-id-1 div.sk-text-repr-fallback {display: none;}</style><div id=\"sk-container-id-1\" class=\"sk-top-container\"><div class=\"sk-text-repr-fallback\"><pre>SVC(C=1, gamma=0.0005, random_state=1)</pre><b>In a Jupyter environment, please rerun this cell to show the HTML representation or trust the notebook. <br />On GitHub, the HTML representation is unable to render, please try loading this page with nbviewer.org.</b></div><div class=\"sk-container\" hidden><div class=\"sk-item\"><div class=\"sk-estimator sk-toggleable\"><input class=\"sk-toggleable__control sk-hidden--visually\" id=\"sk-estimator-id-1\" type=\"checkbox\" checked><label for=\"sk-estimator-id-1\" class=\"sk-toggleable__label sk-toggleable__label-arrow\">SVC</label><div class=\"sk-toggleable__content\"><pre>SVC(C=1, gamma=0.0005, random_state=1)</pre></div></div></div></div></div>"
     },
     "execution_count": 57,
     "metadata": {},
     "output_type": "execute_result"
    }
   ],
   "source": [
    "svm"
   ]
  },
  {
   "cell_type": "code",
   "execution_count": 58,
   "metadata": {
    "ExecuteTime": {
     "end_time": "2024-04-01T22:16:03.815788900Z",
     "start_time": "2024-04-01T22:16:03.598602500Z"
    }
   },
   "outputs": [
    {
     "ename": "NameError",
     "evalue": "name 'X_test_pca' is not defined",
     "output_type": "error",
     "traceback": [
      "\u001B[1;31m---------------------------------------------------------------------------\u001B[0m",
      "\u001B[1;31mNameError\u001B[0m                                 Traceback (most recent call last)",
      "Cell \u001B[1;32mIn[58], line 1\u001B[0m\n\u001B[1;32m----> 1\u001B[0m y_predict \u001B[38;5;241m=\u001B[39m svm\u001B[38;5;241m.\u001B[39mpredict(\u001B[43mX_test_pca\u001B[49m)\n",
      "\u001B[1;31mNameError\u001B[0m: name 'X_test_pca' is not defined"
     ]
    }
   ],
   "source": [
    "y_predict = svm.predict(X_test_pca)"
   ]
  },
  {
   "cell_type": "code",
   "execution_count": null,
   "metadata": {
    "ExecuteTime": {
     "start_time": "2024-04-01T22:16:03.634673600Z"
    }
   },
   "outputs": [],
   "source": [
    "from sklearn.metrics import accuracy_score\n",
    "\n",
    "def print_accuracy(test_labels, predict_labels, model_name=''):\n",
    "    print(f'{model_name} model accuracy:')\n",
    "    print(accuracy_score(test_labels, predict_labels))"
   ]
  },
  {
   "cell_type": "code",
   "execution_count": null,
   "metadata": {
    "ExecuteTime": {
     "start_time": "2024-04-01T22:16:03.635671300Z"
    }
   },
   "outputs": [],
   "source": [
    "print_accuracy(y_test, y_predict, 'SVM')"
   ]
  },
  {
   "cell_type": "code",
   "execution_count": null,
   "metadata": {
    "ExecuteTime": {
     "start_time": "2024-04-01T22:16:03.637671500Z"
    }
   },
   "outputs": [],
   "source": [
    "# pickle"
   ]
  },
  {
   "attachments": {},
   "cell_type": "markdown",
   "metadata": {},
   "source": [
    "### 3.2 Regular ANN"
   ]
  },
  {
   "cell_type": "code",
   "execution_count": null,
   "metadata": {
    "ExecuteTime": {
     "start_time": "2024-04-01T22:16:03.639673100Z"
    }
   },
   "outputs": [],
   "source": [
    "from keras.src.applications.densenet import layers\n",
    "from keras import models\n",
    "\n",
    "input_size = 2304\n",
    "hidden_neurons = 500\n",
    "out_size = 7\n",
    "\n",
    "model_ann = models.Sequential()\n",
    "model_ann.add(layers.Dense(hidden_neurons, input_dim = input_size))\n",
    "model_ann.add(layers.Activation('sigmoid'))\n",
    "\n",
    "model_ann.add(layers.Dense(hidden_neurons, input_dim = hidden_neurons))\n",
    "model_ann.add(layers.Activation('sigmoid'))\n",
    "\n",
    "model_ann.add(layers.Dense(hidden_neurons, input_dim = hidden_neurons))\n",
    "model_ann.add(layers.Activation('sigmoid'))\n",
    "\n",
    "model_ann.add(layers.Dense(out_size, input_dim = hidden_neurons))\n",
    "model_ann.add(layers.Activation('softmax'))\n"
   ]
  },
  {
   "cell_type": "code",
   "execution_count": null,
   "metadata": {
    "ExecuteTime": {
     "start_time": "2024-04-01T22:16:03.641673300Z"
    }
   },
   "outputs": [],
   "source": [
    "model_ann.compile(loss='categorical_crossentropy',\n",
    "              metrics=['accuracy'],\n",
    "              optimizer='adam')"
   ]
  },
  {
   "cell_type": "code",
   "execution_count": null,
   "metadata": {
    "ExecuteTime": {
     "start_time": "2024-04-01T22:16:03.644179700Z"
    }
   },
   "outputs": [],
   "source": [
    "X_train.shape"
   ]
  },
  {
   "cell_type": "code",
   "execution_count": null,
   "metadata": {
    "ExecuteTime": {
     "start_time": "2024-04-01T22:16:03.646197300Z"
    }
   },
   "outputs": [],
   "source": [
    "y_train_encoded.shape"
   ]
  },
  {
   "cell_type": "code",
   "execution_count": null,
   "metadata": {
    "ExecuteTime": {
     "start_time": "2024-04-01T22:16:03.649198600Z"
    }
   },
   "outputs": [],
   "source": [
    "from keras.utils import np_utils\n",
    "y_trainANN = y_train_encoded.values.argmax(1)\n",
    "y_testANN = y_test_encoded.values.argmax(1)"
   ]
  },
  {
   "cell_type": "code",
   "execution_count": null,
   "metadata": {
    "ExecuteTime": {
     "start_time": "2024-04-01T22:16:03.651197500Z"
    }
   },
   "outputs": [],
   "source": [
    "y_trainANN.shape"
   ]
  },
  {
   "cell_type": "code",
   "execution_count": null,
   "metadata": {
    "ExecuteTime": {
     "start_time": "2024-04-01T22:16:03.653703800Z"
    }
   },
   "outputs": [],
   "source": [
    "y_trainANN = np_utils.to_categorical(y_trainANN, 7)\n",
    "y_testANN = np_utils.to_categorical(y_testANN, 7)"
   ]
  },
  {
   "cell_type": "code",
   "execution_count": null,
   "metadata": {
    "ExecuteTime": {
     "start_time": "2024-04-01T22:16:03.655713Z"
    }
   },
   "outputs": [],
   "source": [
    "y_trainANN.shape"
   ]
  },
  {
   "cell_type": "code",
   "execution_count": null,
   "metadata": {
    "ExecuteTime": {
     "start_time": "2024-04-01T22:16:03.657720800Z"
    }
   },
   "outputs": [],
   "source": [
    "X_train.shape"
   ]
  },
  {
   "cell_type": "code",
   "execution_count": null,
   "metadata": {
    "ExecuteTime": {
     "start_time": "2024-04-01T22:16:03.659720800Z"
    }
   },
   "outputs": [],
   "source": [
    "fitted_model = model_ann.fit(X_train, y_trainANN, validation_split=0.33, batch_size=32, epochs=15, verbose=1)"
   ]
  },
  {
   "cell_type": "code",
   "execution_count": null,
   "metadata": {
    "ExecuteTime": {
     "start_time": "2024-04-01T22:16:03.661722300Z"
    }
   },
   "outputs": [],
   "source": [
    "fig = plt.figure(figsize=(4,4), dpi=250)\n",
    "plt.plot(fitted_model.history['accuracy'], label='accuracy')\n",
    "plt.plot(fitted_model.history['val_accuracy'], label = 'val_accuracy')\n",
    "plt.xlabel('Epoch')\n",
    "plt.ylabel('Accuracy')\n",
    "plt.ylim([0, 1])\n",
    "plt.legend(loc='lower right')"
   ]
  },
  {
   "cell_type": "code",
   "execution_count": null,
   "metadata": {
    "ExecuteTime": {
     "start_time": "2024-04-01T22:16:03.663721600Z"
    }
   },
   "outputs": [],
   "source": [
    "X_test_ANN = test[feature_cols]\n",
    "y_predict_ann = model_ann.predict(X_test_ANN, verbose=1)\n",
    "# print (y_predict_ann.shape)"
   ]
  },
  {
   "cell_type": "code",
   "execution_count": null,
   "metadata": {
    "ExecuteTime": {
     "start_time": "2024-04-01T22:16:03.664781300Z"
    }
   },
   "outputs": [],
   "source": [
    "score = model_ann.evaluate(X_test_ANN, y_testANN, verbose=1)\n",
    "print('The accuracy is: ', score[1])"
   ]
  },
  {
   "attachments": {},
   "cell_type": "markdown",
   "metadata": {},
   "source": [
    "### 3.3 Convolution Neural Network (CNN)"
   ]
  },
  {
   "cell_type": "code",
   "execution_count": null,
   "metadata": {
    "ExecuteTime": {
     "start_time": "2024-04-01T22:16:03.666287300Z"
    }
   },
   "outputs": [],
   "source": [
    "import tensorflow as tf\n",
    "\n",
    "from tensorflow.keras import datasets, layers, models\n",
    "from tensorflow.keras.optimizers import Adam"
   ]
  },
  {
   "cell_type": "code",
   "execution_count": null,
   "metadata": {
    "ExecuteTime": {
     "start_time": "2024-04-01T22:16:03.668293100Z"
    }
   },
   "outputs": [],
   "source": [
    "model_cnn = models.Sequential()\n",
    "model_cnn.add(layers.Conv2D(filters=32, kernel_size=(3, 3), activation='relu', input_shape=(IMAGE_LENGTH, IMAGE_LENGTH, 1)))\n",
    "\n",
    "model_cnn.add(layers.MaxPooling2D((2, 2)))\n",
    "model_cnn.add(layers.Conv2D(filters=64, kernel_size=(3, 3), activation='relu'))\n",
    "model_cnn.add(layers.Flatten())\n",
    "model_cnn.add(layers.Dense(48, activation='relu'))\n",
    "model_cnn.add(layers.Dense(7)) "
   ]
  },
  {
   "cell_type": "code",
   "execution_count": null,
   "metadata": {
    "ExecuteTime": {
     "start_time": "2024-04-01T22:16:03.670297400Z"
    }
   },
   "outputs": [],
   "source": [
    "model_cnn.summary()"
   ]
  },
  {
   "cell_type": "code",
   "execution_count": null,
   "metadata": {
    "ExecuteTime": {
     "start_time": "2024-04-01T22:16:03.672295800Z"
    }
   },
   "outputs": [],
   "source": [
    "X_train.values"
   ]
  },
  {
   "cell_type": "code",
   "execution_count": null,
   "metadata": {
    "ExecuteTime": {
     "start_time": "2024-04-01T22:16:03.673802100Z"
    }
   },
   "outputs": [],
   "source": [
    "X_train.values.shape"
   ]
  },
  {
   "cell_type": "code",
   "execution_count": null,
   "metadata": {
    "ExecuteTime": {
     "start_time": "2024-04-01T22:16:03.674808900Z"
    }
   },
   "outputs": [],
   "source": [
    "# we need to reshape this for keras\n",
    "X_train_cnn = X_train.values.reshape(TRAIN_SIZE, 48, 48, 1)\n",
    "X_test_cnn = X_test.values.reshape(TEST_SIZE, 48, 48, 1)\n",
    "\n",
    "X_train_cnn"
   ]
  },
  {
   "cell_type": "code",
   "execution_count": null,
   "metadata": {
    "ExecuteTime": {
     "start_time": "2024-04-01T22:16:03.676810400Z"
    }
   },
   "outputs": [],
   "source": [
    "# we need to encode this and reshape it as well\n",
    "y_train"
   ]
  },
  {
   "cell_type": "code",
   "execution_count": null,
   "metadata": {
    "ExecuteTime": {
     "start_time": "2024-04-01T22:16:03.678808100Z"
    }
   },
   "outputs": [],
   "source": [
    "y_train_encoded = pd.get_dummies(y_train)\n",
    "y_test_encoded = pd.get_dummies(y_test)\n",
    "\n",
    "y_train_encoded"
   ]
  },
  {
   "cell_type": "code",
   "execution_count": null,
   "metadata": {
    "ExecuteTime": {
     "start_time": "2024-04-01T22:16:03.680809Z"
    }
   },
   "outputs": [],
   "source": [
    "y_train_encoded.values.argmax(1)"
   ]
  },
  {
   "cell_type": "code",
   "execution_count": null,
   "metadata": {
    "ExecuteTime": {
     "start_time": "2024-04-01T22:16:03.681810300Z"
    }
   },
   "outputs": [],
   "source": [
    "y_train_cnn = y_train_encoded.values.argmax(1).reshape(TRAIN_SIZE, 1)\n",
    "y_test_cnn = y_test_encoded.values.argmax(1).reshape(TEST_SIZE, 1)\n",
    "\n",
    "y_train_cnn"
   ]
  },
  {
   "cell_type": "code",
   "execution_count": null,
   "metadata": {
    "ExecuteTime": {
     "start_time": "2024-04-01T22:16:03.683809600Z"
    }
   },
   "outputs": [],
   "source": [
    "print(X_train_cnn.shape)\n",
    "print(y_train_cnn.shape)\n",
    "print(X_test_cnn.shape)\n",
    "print(y_test_cnn.shape)"
   ]
  },
  {
   "cell_type": "code",
   "execution_count": null,
   "metadata": {
    "ExecuteTime": {
     "start_time": "2024-04-01T22:16:03.685856800Z"
    }
   },
   "outputs": [],
   "source": [
    "model_cnn.summary()"
   ]
  },
  {
   "cell_type": "code",
   "execution_count": null,
   "metadata": {
    "ExecuteTime": {
     "start_time": "2024-04-01T22:16:03.686857200Z"
    }
   },
   "outputs": [],
   "source": [
    "model_cnn.compile(optimizer=Adam(learning_rate=0.001),\n",
    "              loss=tf.keras.losses.SparseCategoricalCrossentropy(from_logits=True),\n",
    "              metrics=['accuracy'])\n",
    "history_cnn = model_cnn.fit(X_train_cnn, y_train_cnn, epochs=10, \n",
    "                    validation_data=(X_test_cnn, y_test_cnn))"
   ]
  },
  {
   "cell_type": "code",
   "execution_count": null,
   "metadata": {
    "ExecuteTime": {
     "start_time": "2024-04-01T22:16:03.688856100Z"
    }
   },
   "outputs": [],
   "source": [
    "model_cnn.save(\"models/CNN\")"
   ]
  },
  {
   "cell_type": "code",
   "execution_count": null,
   "metadata": {
    "ExecuteTime": {
     "start_time": "2024-04-01T22:16:03.690857600Z"
    }
   },
   "outputs": [],
   "source": [
    "import matplotlib.pyplot as plt\n",
    "\n",
    "fig = plt.figure(figsize=(4,4), dpi=250)\n",
    "plt.plot(history_cnn.history['accuracy'], label='accuracy')\n",
    "plt.plot(history_cnn.history['val_accuracy'], label = 'val_accuracy')\n",
    "plt.xlabel('Epoch')\n",
    "plt.ylabel('Accuracy')\n",
    "plt.ylim([0, 1])\n",
    "plt.legend(loc='lower right')"
   ]
  },
  {
   "cell_type": "code",
   "execution_count": null,
   "metadata": {
    "ExecuteTime": {
     "start_time": "2024-04-01T22:16:03.692857500Z"
    }
   },
   "outputs": [],
   "source": [
    "test_loss, test_acc = model_cnn.evaluate(X_test_cnn, y_test_cnn, verbose=2)"
   ]
  },
  {
   "cell_type": "code",
   "execution_count": null,
   "metadata": {
    "ExecuteTime": {
     "start_time": "2024-04-01T22:16:03.695366400Z"
    }
   },
   "outputs": [],
   "source": [
    "import pickle\n",
    "with open('./histories/cnnHistory.pickle', 'wb') as file_pi:\n",
    "    pickle.dump(history_cnn.history, file_pi)\n",
    "with open('./histories/cnnHistory.pickle', 'rb') as file_pi:\n",
    "    pickled_history = pickle.load(file_pi)"
   ]
  },
  {
   "attachments": {},
   "cell_type": "markdown",
   "metadata": {},
   "source": [
    "### 3.4 LeNet 5 (with data augmentation)"
   ]
  },
  {
   "cell_type": "code",
   "execution_count": null,
   "metadata": {
    "ExecuteTime": {
     "start_time": "2024-04-01T22:16:03.696371600Z"
    }
   },
   "outputs": [],
   "source": [
    "# LeNet5 Model\n",
    "model_LeNet = keras.Sequential()\n",
    "\n",
    "model_LeNet.add(layers.Conv2D(filters=6, kernel_size=(3, 3), activation='relu', input_shape=(48,48,1)))\n",
    "model_LeNet.add(layers.AveragePooling2D())\n",
    "\n",
    "model_LeNet.add(layers.Conv2D(filters=16, kernel_size=(3, 3), activation='relu'))\n",
    "model_LeNet.add(layers.AveragePooling2D())\n",
    "\n",
    "model_LeNet.add(layers.Flatten())\n",
    "\n",
    "model_LeNet.add(layers.Dense(units=120, activation='relu'))\n",
    "model_LeNet.add(layers.Dense(units=84, activation='relu'))\n",
    "model_LeNet.add(layers.Dense(units=10, activation = 'softmax'))"
   ]
  },
  {
   "cell_type": "code",
   "execution_count": null,
   "metadata": {
    "ExecuteTime": {
     "start_time": "2024-04-01T22:16:03.698370800Z"
    }
   },
   "outputs": [],
   "source": [
    "model_LeNet.summary()"
   ]
  },
  {
   "cell_type": "code",
   "execution_count": null,
   "metadata": {
    "ExecuteTime": {
     "start_time": "2024-04-01T22:16:03.700372100Z"
    }
   },
   "outputs": [],
   "source": [
    "model_LeNet.compile(optimizer=Adam(learning_rate=0.001),\n",
    "              loss=tf.keras.losses.SparseCategoricalCrossentropy(from_logits=True),\n",
    "              metrics=['accuracy'])"
   ]
  },
  {
   "cell_type": "code",
   "execution_count": null,
   "metadata": {
    "ExecuteTime": {
     "start_time": "2024-04-01T22:16:03.702371900Z"
    }
   },
   "outputs": [],
   "source": [
    "history_LeNet = model_LeNet.fit(X_train_cnn, y_train_cnn, epochs=10, \n",
    "                    validation_data=(X_test_cnn, y_test_cnn))"
   ]
  },
  {
   "cell_type": "code",
   "execution_count": null,
   "metadata": {
    "ExecuteTime": {
     "start_time": "2024-04-01T22:16:03.703877900Z"
    }
   },
   "outputs": [],
   "source": [
    "\n",
    "with open('./histories/history_LeNet.pickle', 'wb') as file_pi:\n",
    "    pickle.dump(history_LeNet.history, file_pi)\n",
    "with open('./histories/history_LeNet.pickle', 'rb') as file_pi:\n",
    "    pickled_history_LeNet = pickle.load(file_pi)"
   ]
  },
  {
   "cell_type": "code",
   "execution_count": null,
   "metadata": {
    "ExecuteTime": {
     "start_time": "2024-04-01T22:16:03.705886300Z"
    }
   },
   "outputs": [],
   "source": [
    "import matplotlib.pyplot as plt\n",
    "\n",
    "fig = plt.figure(figsize=(4,4), dpi=250)\n",
    "plt.plot(history_LeNet.history['accuracy'], label='Training Accuracy')\n",
    "plt.plot(history_LeNet.history['val_accuracy'], label='Validation Accuracy')\n",
    "plt.xlabel('Epoch')\n",
    "plt.ylabel('Accuracy')\n",
    "plt.ylim([0, 1])\n",
    "plt.legend(loc='lower right')\n",
    "plt.title('Training and Validation Accuracy')"
   ]
  },
  {
   "cell_type": "code",
   "execution_count": null,
   "metadata": {
    "ExecuteTime": {
     "start_time": "2024-04-01T22:16:03.707889400Z"
    }
   },
   "outputs": [],
   "source": [
    "# LeNet5 Model with data augmentation (flip and rotation)\n",
    "model_Le_and_Augment = keras.Sequential()\n",
    "  \n",
    "model_Le_and_Augment.add(layers.RandomFlip(\"horizontal\"))\n",
    "model_Le_and_Augment.add(layers.RandomRotation(0.2))\n",
    "\n",
    "model_Le_and_Augment.add(layers.Conv2D(filters=6, kernel_size=(3, 3), activation='relu', input_shape=(48,48,1)))\n",
    "model_Le_and_Augment.add(layers.AveragePooling2D())\n",
    "\n",
    "model_Le_and_Augment.add(layers.Conv2D(filters=16, kernel_size=(3, 3), activation='relu'))\n",
    "model_Le_and_Augment.add(layers.AveragePooling2D())\n",
    "\n",
    "model_Le_and_Augment.add(layers.Flatten())\n",
    "\n",
    "model_Le_and_Augment.add(layers.Dense(units=120, activation='relu'))\n",
    "model_Le_and_Augment.add(layers.Dense(units=84, activation='relu'))\n",
    "model_Le_and_Augment.add(layers.Dense(units=10, activation = 'softmax'))"
   ]
  },
  {
   "cell_type": "code",
   "execution_count": null,
   "metadata": {
    "ExecuteTime": {
     "start_time": "2024-04-01T22:16:03.710884700Z"
    }
   },
   "outputs": [],
   "source": [
    "model_Le_and_Augment.compile(optimizer=Adam(learning_rate=0.002),\n",
    "              loss=tf.keras.losses.SparseCategoricalCrossentropy(from_logits=True),\n",
    "              metrics=['accuracy'])"
   ]
  },
  {
   "cell_type": "code",
   "execution_count": null,
   "metadata": {
    "ExecuteTime": {
     "start_time": "2024-04-01T22:16:03.712883900Z"
    }
   },
   "outputs": [],
   "source": [
    "history_Le_and_Augment = model_Le_and_Augment.fit(X_train_cnn, y_train_cnn, epochs=15, \n",
    "                    validation_data=(X_test_cnn, y_test_cnn))"
   ]
  },
  {
   "cell_type": "code",
   "execution_count": null,
   "metadata": {
    "ExecuteTime": {
     "start_time": "2024-04-01T22:16:03.714388600Z"
    }
   },
   "outputs": [],
   "source": [
    "with open('./histories/history_Le_and_Augment.pickle', 'wb') as file_pi:\n",
    "    pickle.dump(history_Le_and_Augment.history, file_pi)\n",
    "with open('./histories/history_Le_and_Augment.pickle', 'rb') as file_pi:\n",
    "    pickled_history_Le_and_Augment = pickle.load(file_pi)"
   ]
  },
  {
   "cell_type": "code",
   "execution_count": null,
   "metadata": {
    "ExecuteTime": {
     "start_time": "2024-04-01T22:16:03.715395500Z"
    }
   },
   "outputs": [],
   "source": [
    "import matplotlib.pyplot as plt\n",
    "\n",
    "fig = plt.figure(figsize=(4,4), dpi=250)\n",
    "plt.plot(history_Le_and_Augment.history['accuracy'], label='Training Accuracy')\n",
    "plt.plot(history_Le_and_Augment.history['val_accuracy'], label='Validation Accuracy')\n",
    "plt.xlabel('Epoch')\n",
    "plt.ylabel('Accuracy')\n",
    "plt.ylim([0, 1])\n",
    "plt.legend(loc='lower right')\n",
    "plt.title('Training and Validation Accuracy')"
   ]
  },
  {
   "cell_type": "code",
   "execution_count": null,
   "metadata": {
    "ExecuteTime": {
     "start_time": "2024-04-01T22:16:03.717396700Z"
    }
   },
   "outputs": [],
   "source": [
    "# LeNet5 Model with data augmentation (only rotation)\n",
    "model_Le_Augment_rot = keras.Sequential()\n",
    "  \n",
    "model_Le_Augment_rot.add(layers.RandomRotation(0.2))\n",
    "\n",
    "model_Le_Augment_rot.add(layers.Conv2D(filters=6, kernel_size=(3, 3), activation='relu', input_shape=(48,48,1)))\n",
    "model_Le_Augment_rot.add(layers.AveragePooling2D())\n",
    "\n",
    "model_Le_Augment_rot.add(layers.Conv2D(filters=16, kernel_size=(3, 3), activation='relu'))\n",
    "model_Le_Augment_rot.add(layers.AveragePooling2D())\n",
    "\n",
    "model_Le_Augment_rot.add(layers.Flatten())\n",
    "\n",
    "model_Le_Augment_rot.add(layers.Dense(units=120, activation='relu'))\n",
    "model_Le_Augment_rot.add(layers.Dense(units=84, activation='relu'))\n",
    "model_Le_Augment_rot.add(layers.Dense(units=10, activation = 'softmax'))"
   ]
  },
  {
   "cell_type": "code",
   "execution_count": null,
   "metadata": {
    "ExecuteTime": {
     "start_time": "2024-04-01T22:16:03.719397900Z"
    }
   },
   "outputs": [],
   "source": [
    "model_Le_Augment_rot.compile(optimizer=Adam(learning_rate=0.003),\n",
    "              loss=tf.keras.losses.SparseCategoricalCrossentropy(from_logits=True),\n",
    "              metrics=['accuracy'])"
   ]
  },
  {
   "cell_type": "code",
   "execution_count": null,
   "metadata": {
    "ExecuteTime": {
     "start_time": "2024-04-01T22:16:03.721397Z"
    }
   },
   "outputs": [],
   "source": [
    "history_Le_Augment_rot = model_Le_Augment_rot.fit(X_train_cnn, y_train_cnn, epochs=25, \n",
    "                    validation_data=(X_test_cnn, y_test_cnn))"
   ]
  },
  {
   "cell_type": "code",
   "execution_count": null,
   "metadata": {
    "ExecuteTime": {
     "start_time": "2024-04-01T22:16:03.723901400Z"
    }
   },
   "outputs": [],
   "source": [
    "with open('./histories/history_Le_Augment_rot.pickle', 'wb') as file_pi:\n",
    "    pickle.dump(history_Le_Augment_rot.history, file_pi)\n",
    "with open('./histories/history_Le_Augment_rot.pickle', 'rb') as file_pi:\n",
    "    pickle_history_Le_Augment_rot = pickle.load(file_pi)"
   ]
  },
  {
   "cell_type": "code",
   "execution_count": null,
   "metadata": {
    "ExecuteTime": {
     "start_time": "2024-04-01T22:16:03.726912900Z"
    }
   },
   "outputs": [],
   "source": [
    "import matplotlib.pyplot as plt\n",
    "\n",
    "fig = plt.figure(figsize=(4,4), dpi=250)\n",
    "plt.plot(history_Le_Augment_rot.history['accuracy'], label='Training Accuracy')\n",
    "plt.plot(history_Le_Augment_rot.history['val_accuracy'], label='Validation Accuracy')\n",
    "plt.xlabel('Epoch')\n",
    "plt.ylabel('Accuracy')\n",
    "plt.ylim([0, 1])\n",
    "plt.legend(loc='lower right')\n",
    "plt.title('Training and Validation Accuracy')"
   ]
  },
  {
   "attachments": {},
   "cell_type": "markdown",
   "metadata": {},
   "source": [
    "### 3.5 VGG-16"
   ]
  },
  {
   "cell_type": "code",
   "execution_count": null,
   "metadata": {
    "ExecuteTime": {
     "start_time": "2024-04-01T22:16:03.729910700Z"
    }
   },
   "outputs": [],
   "source": [
    "X_train_vgg16 = []\n",
    "X_test_vgg16 = []\n",
    "# need to resize to use the VGG16 from keras\n",
    "# since our data is black and white, we copy the pixel values 3 times\n",
    "for img in X_train_cnn:\n",
    "    X_train_vgg16.append(np.repeat(img,3,axis = -1))\n",
    "for img in X_test_cnn:\n",
    "    X_test_vgg16.append(np.repeat(img,3,axis = -1))\n",
    "X_train_vgg16 = np.array(X_train_vgg16)\n",
    "X_test_vgg16 = np.array(X_test_vgg16)"
   ]
  },
  {
   "cell_type": "code",
   "execution_count": null,
   "metadata": {
    "ExecuteTime": {
     "start_time": "2024-04-01T22:16:03.731910700Z"
    }
   },
   "outputs": [],
   "source": [
    "X_train_vgg16.shape"
   ]
  },
  {
   "cell_type": "code",
   "execution_count": null,
   "metadata": {
    "ExecuteTime": {
     "start_time": "2024-04-01T22:16:03.732910300Z"
    }
   },
   "outputs": [],
   "source": [
    "X_test_vgg16.shape"
   ]
  },
  {
   "cell_type": "code",
   "execution_count": null,
   "metadata": {
    "ExecuteTime": {
     "start_time": "2024-04-01T22:16:03.733912Z"
    }
   },
   "outputs": [],
   "source": [
    "y_train.shape"
   ]
  },
  {
   "cell_type": "code",
   "execution_count": null,
   "metadata": {
    "ExecuteTime": {
     "start_time": "2024-04-01T22:16:03.735024100Z"
    }
   },
   "outputs": [],
   "source": [
    "from keras.applications import VGG16\n",
    "\n",
    "# Load the pre-trained VGG16 model\n",
    "model_16 = VGG16(weights='imagenet', include_top=False, input_shape=(48, 48, 3))\n",
    "\n",
    "# Freeze the layers of the pre-trained model so that they are not trained again during fine-tuning\n",
    "for layer in model_16.layers:\n",
    "    layer.trainable = False\n",
    "\n",
    "new_model = models.Sequential()\n",
    "new_model.add(model_16)\n",
    "# new_model.add(layers.Conv2D(filters=16, kernel_size=(3, 3), activation='relu', padding='same'))\n",
    "new_model.add(layers.Flatten())\n",
    "new_model.add(layers.Dense(256, activation='relu'))\n",
    "new_model.add(layers.Dropout(0.5))\n",
    "new_model.add(layers.Dense(7, activation='softmax'))\n",
    "\n",
    "# Compile the model\n",
    "new_model.compile(optimizer='adam', loss='categorical_crossentropy', metrics=['accuracy'])"
   ]
  },
  {
   "cell_type": "code",
   "execution_count": null,
   "metadata": {
    "ExecuteTime": {
     "start_time": "2024-04-01T22:16:03.737020800Z"
    }
   },
   "outputs": [],
   "source": [
    "X_train_vgg16.shape"
   ]
  },
  {
   "cell_type": "code",
   "execution_count": null,
   "metadata": {
    "ExecuteTime": {
     "start_time": "2024-04-01T22:16:03.738021Z"
    }
   },
   "outputs": [],
   "source": [
    "from keras.utils import to_categorical\n",
    "\n",
    "# Reshaping y_train and y_test for vgg16\n",
    "y_train_vgg16 = to_categorical(y_train_cnn, num_classes=7)\n",
    "y_test_vgg16 = to_categorical(y_test_cnn, num_classes=7)"
   ]
  },
  {
   "cell_type": "code",
   "execution_count": null,
   "metadata": {
    "ExecuteTime": {
     "start_time": "2024-04-01T22:16:03.739020200Z"
    }
   },
   "outputs": [],
   "source": [
    "y_test_cnn.shape"
   ]
  },
  {
   "cell_type": "code",
   "execution_count": null,
   "metadata": {
    "ExecuteTime": {
     "start_time": "2024-04-01T22:16:03.741020500Z"
    }
   },
   "outputs": [],
   "source": [
    "history_vgg16 = new_model.fit(X_train_vgg16, y_train_vgg16, epochs=10, \n",
    "                    validation_data=(X_test_vgg16, y_test_vgg16))"
   ]
  },
  {
   "cell_type": "code",
   "execution_count": null,
   "metadata": {
    "ExecuteTime": {
     "start_time": "2024-04-01T22:16:03.742020200Z"
    }
   },
   "outputs": [],
   "source": [
    "with open('./histories/history_vgg16.pickle', 'wb') as file_pi:\n",
    "    pickle.dump(history_vgg16.history, file_pi)\n",
    "with open('./histories/history_vgg16.pickle', 'rb') as file_pi:\n",
    "    pickle_history_vgg16 = pickle.load(file_pi)"
   ]
  },
  {
   "cell_type": "code",
   "execution_count": null,
   "metadata": {
    "ExecuteTime": {
     "start_time": "2024-04-01T22:16:03.743021600Z"
    }
   },
   "outputs": [],
   "source": [
    "\n",
    "fig = plt.figure(figsize=(4,4), dpi=250)\n",
    "plt.plot(history_vgg16.history['accuracy'], label='accuracy')\n",
    "plt.plot(history_vgg16.history['val_accuracy'], label = 'val_accuracy')\n",
    "plt.xlabel('Epoch')\n",
    "plt.ylabel('Accuracy')\n",
    "plt.ylim([0, 1])\n",
    "plt.legend(loc='lower right')"
   ]
  },
  {
   "cell_type": "code",
   "execution_count": null,
   "metadata": {
    "ExecuteTime": {
     "start_time": "2024-04-01T22:16:03.744020800Z"
    }
   },
   "outputs": [],
   "source": [
    "test_loss, test_acc = new_model.evaluate(X_test_vgg16, y_test_vgg16, verbose=2)"
   ]
  },
  {
   "attachments": {},
   "cell_type": "markdown",
   "metadata": {},
   "source": [
    "### 3.6 MobileNetV2"
   ]
  },
  {
   "cell_type": "code",
   "execution_count": null,
   "metadata": {
    "ExecuteTime": {
     "start_time": "2024-04-01T22:16:03.746135600Z"
    }
   },
   "outputs": [],
   "source": [
    "raw_data_df = pd.DataFrame(data=raw_data)\n",
    "raw_data_df['obs_type'] = tt_labels\n",
    "raw_data_df['emotion'] = emotion_labels\n",
    "raw_test = raw_data_df[raw_data_df['obs_type'] == 'test']\n",
    "raw_train = raw_data_df[raw_data_df['obs_type'] == 'train']\n",
    "X_train_raw = raw_train[feature_cols]\n",
    "X_test_raw = raw_test[feature_cols]\n",
    "y_train_raw = raw_train[\"emotion\"]\n",
    "y_test_raw = raw_test[\"emotion\"]"
   ]
  },
  {
   "cell_type": "code",
   "execution_count": null,
   "metadata": {
    "ExecuteTime": {
     "start_time": "2024-04-01T22:16:03.747130300Z"
    }
   },
   "outputs": [],
   "source": [
    "# we need to modify the dataset a bit for this model\n",
    "X_train_cnn_raw = X_train_raw.values.reshape(TRAIN_SIZE, 48, 48, 1)\n",
    "X_test_cnn_raw = X_test_raw.values.reshape(TEST_SIZE, 48, 48, 1)\n",
    "\n",
    "# encode categories\n",
    "y_train_encoded_raw = pd.get_dummies(y_train_raw)\n",
    "y_test_encoded_raw = pd.get_dummies(y_test_raw)\n",
    "\n",
    "y_train_cnn_raw = y_train_encoded_raw.values.argmax(1).reshape(TRAIN_SIZE, 1)\n",
    "y_test_cnn_raw = y_test_encoded_raw.values.argmax(1).reshape(TEST_SIZE, 1)"
   ]
  },
  {
   "cell_type": "code",
   "execution_count": null,
   "metadata": {
    "ExecuteTime": {
     "start_time": "2024-04-01T22:16:03.748131400Z"
    }
   },
   "outputs": [],
   "source": [
    "mobilenet_model = tf.keras.applications.MobileNetV2(input_shape=(IMAGE_LENGTH, IMAGE_LENGTH, 3),\n",
    "                                                    include_top=False,\n",
    "                                                    weights='imagenet')\n",
    "mobilenet_model"
   ]
  },
  {
   "cell_type": "code",
   "execution_count": null,
   "metadata": {
    "ExecuteTime": {
     "start_time": "2024-04-01T22:16:03.749131400Z"
    }
   },
   "outputs": [],
   "source": [
    "# freeze the convolutional layers\n",
    "mobilenet_model.trainable = False"
   ]
  },
  {
   "cell_type": "code",
   "execution_count": null,
   "metadata": {
    "ExecuteTime": {
     "start_time": "2024-04-01T22:16:03.751130900Z"
    }
   },
   "outputs": [],
   "source": [
    "mobilenet_model.summary()"
   ]
  },
  {
   "cell_type": "code",
   "execution_count": null,
   "metadata": {
    "ExecuteTime": {
     "start_time": "2024-04-01T22:16:03.752132500Z"
    }
   },
   "outputs": [],
   "source": [
    "inputs = tf.keras.Input(shape=(48, 48, 1))\n",
    "\n",
    "x = tf.keras.applications.mobilenet_v2.preprocess_input(inputs)\n",
    "\n",
    "# convert into rgb formatted image for MobileNet to accept it\n",
    "x = keras.layers.Conv2D(3, (3, 3), padding='same')(inputs)\n",
    "\n",
    "# start with base model\n",
    "x = mobilenet_model(x, training=False)  \n",
    "\n",
    "# add a classification head \n",
    "global_average_layer = tf.keras.layers.GlobalAveragePooling2D()\n",
    "x = global_average_layer(x)\n",
    "x = tf.keras.layers.Dropout(0.2)(x)\n",
    "\n",
    "# outputs have 7 possibilities\n",
    "outputs = tf.keras.layers.Dense(7)(x)\n",
    "\n",
    "model_mobilenet = tf.keras.Model(inputs, outputs)"
   ]
  },
  {
   "cell_type": "code",
   "execution_count": null,
   "metadata": {
    "ExecuteTime": {
     "start_time": "2024-04-01T22:16:03.753703800Z"
    }
   },
   "outputs": [],
   "source": [
    "# Settings for the model\n",
    "\n",
    "# learning rate for training the non-CNN layers\n",
    "# we'll divide this by 10 when retraining some of the MobileNetV2's CNN layers\n",
    "BASE_MNET_LR = 0.0003\n",
    "\n",
    "# epochs to train at first\n",
    "MNET_INIT_EPOCHS = 10\n",
    "\n",
    "# epochs to train for fine-tuning and retraining the CNN part of the model\n",
    "MNET_FINE_TUNE_EPOCHS = 10\n",
    "\n",
    "MNET_TOTAL_EPOCHS = MNET_INIT_EPOCHS + MNET_FINE_TUNE_EPOCHS"
   ]
  },
  {
   "cell_type": "code",
   "execution_count": null,
   "metadata": {
    "ExecuteTime": {
     "start_time": "2024-04-01T22:16:03.754644600Z"
    }
   },
   "outputs": [],
   "source": [
    "model_mobilenet.compile(optimizer=tf.keras.optimizers.Adam(learning_rate=BASE_MNET_LR),\n",
    "              loss=tf.keras.losses.BinaryCrossentropy(from_logits=True),\n",
    "              metrics=['accuracy'])"
   ]
  },
  {
   "cell_type": "code",
   "execution_count": null,
   "metadata": {
    "ExecuteTime": {
     "start_time": "2024-04-01T22:16:03.756644100Z"
    }
   },
   "outputs": [],
   "source": [
    "model_mobilenet.summary()"
   ]
  },
  {
   "cell_type": "code",
   "execution_count": null,
   "metadata": {
    "ExecuteTime": {
     "start_time": "2024-04-01T22:16:03.757646100Z"
    }
   },
   "outputs": [],
   "source": [
    "print(X_train_cnn_raw.shape)\n",
    "print(X_test_cnn_raw.shape)\n",
    "print(y_train_encoded_raw.shape)\n",
    "print(y_test_encoded_raw.shape)"
   ]
  },
  {
   "cell_type": "code",
   "execution_count": null,
   "metadata": {
    "ExecuteTime": {
     "start_time": "2024-04-01T22:16:03.758646100Z"
    }
   },
   "outputs": [],
   "source": [
    "\n",
    "history_mobile_net = model_mobilenet.fit(X_train_cnn_raw, y_train_encoded_raw, epochs=10, \n",
    "                    validation_data=(X_test_cnn_raw, y_test_encoded_raw))\n",
    "                    "
   ]
  },
  {
   "cell_type": "code",
   "execution_count": null,
   "metadata": {
    "ExecuteTime": {
     "start_time": "2024-04-01T22:16:03.759646600Z"
    }
   },
   "outputs": [],
   "source": [
    "#model.save(\"MobileNetV2_TransferLearn_Raw10\")"
   ]
  },
  {
   "cell_type": "code",
   "execution_count": null,
   "metadata": {
    "ExecuteTime": {
     "start_time": "2024-04-01T22:16:03.760643800Z"
    }
   },
   "outputs": [],
   "source": [
    "#model = keras.models.load_model(\"MobileNetV2_TransferLearn_Raw10\")"
   ]
  },
  {
   "cell_type": "code",
   "execution_count": null,
   "metadata": {
    "ExecuteTime": {
     "start_time": "2024-04-01T22:16:03.762645400Z"
    }
   },
   "outputs": [],
   "source": [
    "with open('./histories/history_mobile_net.pickle', 'wb') as file_pi:\n",
    "    pickle.dump(history_mobile_net.history, file_pi)\n",
    "with open('./histories/history_mobile_net.pickle', 'rb') as file_pi:\n",
    "    pickle_history_mobile_net = pickle.load(file_pi)"
   ]
  },
  {
   "cell_type": "code",
   "execution_count": null,
   "metadata": {
    "ExecuteTime": {
     "start_time": "2024-04-01T22:16:03.764150800Z"
    }
   },
   "outputs": [],
   "source": [
    "import matplotlib.pyplot as plt\n",
    "\n",
    "fig = plt.figure(figsize=(4,4), dpi=250)\n",
    "plt.plot(history_mobile_net.history['accuracy'], label='Training Accuracy')\n",
    "plt.plot(history_mobile_net.history['val_accuracy'], label='Validation Accuracy')\n",
    "plt.xlabel('Epoch')\n",
    "plt.ylabel('Accuracy')\n",
    "plt.ylim([0, 1])\n",
    "plt.legend(loc='lower right')\n",
    "plt.title('Training and Validation Accuracy')"
   ]
  },
  {
   "cell_type": "code",
   "execution_count": null,
   "metadata": {
    "ExecuteTime": {
     "start_time": "2024-04-01T22:16:03.765159Z"
    }
   },
   "outputs": [],
   "source": []
  },
  {
   "cell_type": "code",
   "execution_count": null,
   "metadata": {
    "ExecuteTime": {
     "start_time": "2024-04-01T22:16:03.766158800Z"
    }
   },
   "outputs": [],
   "source": [
    "# Let's try some fine-tuning of the model\n",
    "mobilenet_model.trainable = True"
   ]
  },
  {
   "cell_type": "code",
   "execution_count": null,
   "metadata": {
    "ExecuteTime": {
     "start_time": "2024-04-01T22:16:03.767441500Z"
    }
   },
   "outputs": [],
   "source": [
    "print(\"Current MobileNet layer count: \", len(mobilenet_model.layers))"
   ]
  },
  {
   "cell_type": "code",
   "execution_count": null,
   "metadata": {
    "ExecuteTime": {
     "start_time": "2024-04-01T22:16:03.768441100Z"
    }
   },
   "outputs": [],
   "source": [
    "# freeze first 100 layers and retrain the last 54\n",
    "for layer in mobilenet_model.layers[:100]:\n",
    "    layer.trainable = False"
   ]
  },
  {
   "cell_type": "code",
   "execution_count": null,
   "metadata": {
    "ExecuteTime": {
     "start_time": "2024-04-01T22:16:03.770442600Z"
    }
   },
   "outputs": [],
   "source": [
    "model_mobilenet.compile(loss=tf.keras.losses.BinaryCrossentropy(from_logits=True),\n",
    "              optimizer = tf.keras.optimizers.RMSprop(learning_rate=BASE_MNET_LR/10),\n",
    "              metrics=['accuracy'])"
   ]
  },
  {
   "cell_type": "code",
   "execution_count": null,
   "metadata": {
    "ExecuteTime": {
     "start_time": "2024-04-01T22:16:03.771441Z"
    }
   },
   "outputs": [],
   "source": [
    "model_mobilenet.summary()"
   ]
  },
  {
   "cell_type": "code",
   "execution_count": null,
   "metadata": {
    "ExecuteTime": {
     "start_time": "2024-04-01T22:16:03.772439300Z"
    }
   },
   "outputs": [],
   "source": [
    "len(model_mobilenet.trainable_variables)"
   ]
  },
  {
   "cell_type": "code",
   "execution_count": null,
   "metadata": {
    "ExecuteTime": {
     "start_time": "2024-04-01T22:16:03.773947400Z"
    }
   },
   "outputs": [],
   "source": [
    "# continue to train the model\n",
    "history_fine_tune = model_mobilenet.fit(X_train_cnn_raw, y_train_encoded_raw,\n",
    "                              epochs=MNET_TOTAL_EPOCHS,\n",
    "                              initial_epoch=history_mobile_net.epoch[-1],\n",
    "                              validation_data=(X_test_cnn_raw, y_test_encoded_raw))"
   ]
  },
  {
   "cell_type": "code",
   "execution_count": null,
   "metadata": {
    "ExecuteTime": {
     "start_time": "2024-04-01T22:16:03.774956700Z"
    }
   },
   "outputs": [],
   "source": [
    "model_mobilenet.save(\"models/MobileNetV2\")"
   ]
  },
  {
   "cell_type": "code",
   "execution_count": null,
   "metadata": {
    "ExecuteTime": {
     "start_time": "2024-04-01T22:16:03.776967600Z"
    }
   },
   "outputs": [],
   "source": [
    "\n",
    "acc = history_mobile_net.history['accuracy']\n",
    "val_acc = history_mobile_net.history['val_accuracy']\n",
    "\n",
    "acc += history_fine_tune.history['accuracy']\n",
    "val_acc += history_fine_tune.history['val_accuracy']\n",
    "\n"
   ]
  },
  {
   "cell_type": "code",
   "execution_count": null,
   "metadata": {
    "ExecuteTime": {
     "start_time": "2024-04-01T22:16:03.778963900Z"
    }
   },
   "outputs": [],
   "source": [
    "with open('./histories/history_fine_tune.pickle', 'wb') as file_pi:\n",
    "    pickle.dump(history_fine_tune.history, file_pi)\n",
    "with open('./histories/history_fine_tune.pickle', 'rb') as file_pi:\n",
    "    pickle_history_fine_tune = pickle.load(file_pi)"
   ]
  },
  {
   "cell_type": "code",
   "execution_count": null,
   "metadata": {
    "ExecuteTime": {
     "start_time": "2024-04-01T22:16:03.779964200Z"
    }
   },
   "outputs": [],
   "source": [
    "fig = plt.figure(figsize=(4,4), dpi=250)\n",
    "plt.plot(acc, label='Training Accuracy')\n",
    "plt.plot(val_acc, label='Validation Accuracy')\n",
    "plt.xlabel('Epoch')\n",
    "plt.ylabel('Accuracy')\n",
    "plt.ylim([0, 1])\n",
    "plt.plot([10,10],\n",
    "          plt.ylim(), label='Start Fine Tuning')\n",
    "plt.legend(loc='lower right')\n",
    "plt.title('Training and Validation Accuracy')"
   ]
  },
  {
   "cell_type": "code",
   "execution_count": null,
   "metadata": {
    "ExecuteTime": {
     "start_time": "2024-04-01T22:16:03.780964400Z"
    }
   },
   "outputs": [],
   "source": [
    "test_loss, test_acc = model_mobilenet.evaluate(X_test_cnn_raw, y_test_encoded_raw , verbose=2)"
   ]
  },
  {
   "attachments": {},
   "cell_type": "markdown",
   "metadata": {},
   "source": [
    "### 4. Results\n",
    "\n",
    "SVM (with PCA): 37.67%\n",
    "\n",
    "CNN (custom standard model): 50.06%\n",
    "\n",
    "ANN (no PCA): 30.86%\n",
    "\n",
    "VGG-16 (transfer learning): 43.37%\n",
    "\n",
    "MobileNetV2 (transfer learning + fine tuning): 46.80%\n",
    "\n",
    "LeNet5 (RandomRotation(0.2) Layer): 47.78%"
   ]
  },
  {
   "cell_type": "markdown",
   "metadata": {},
   "source": []
  },
  {
   "cell_type": "code",
   "execution_count": null,
   "metadata": {
    "ExecuteTime": {
     "start_time": "2024-04-01T22:16:03.782961800Z"
    }
   },
   "outputs": [],
   "source": [
    "fig = plt.figure(figsize=(4,4), dpi=250)\n",
    "plt.plot(history_vgg16.history['val_accuracy'], label = 'VGG16 val_accuracy')\n",
    "plt.plot(history_Le_Augment_rot.history['val_accuracy'], label = 'LeNet5+Augment+Rotation val_accuracy')\n",
    "plt.plot(history_Le_and_Augment.history['val_accuracy'], label = 'LeNet5+Augment val_accuracy')\n",
    "plt.plot(history_mobile_net.history['val_accuracy'], label = 'Mobile_net Fine Tuned val_accuracy')\n",
    "plt.plot(fitted_model.history['val_accuracy'], label = ' ANN val_accuracy')\n",
    "plt.plot(history_cnn.history['val_accuracy'], label = 'CNN val_accuracy')\n",
    "\n",
    "plt.xlabel('Epoch')\n",
    "plt.ylabel('Accuracy')\n",
    "plt.ylim([0, 1])\n",
    "plt.legend(loc='upper right', fontsize='x-small')"
   ]
  }
 ],
 "metadata": {
  "interpreter": {
   "hash": "aee8b7b246df8f9039afb4144a1f6fd8d2ca17a180786b69acc140d282b71a49"
  },
  "kernelspec": {
   "name": "myenv",
   "language": "python",
   "display_name": "myenv"
  },
  "language_info": {
   "codemirror_mode": {
    "name": "ipython",
    "version": 3
   },
   "file_extension": ".py",
   "mimetype": "text/x-python",
   "name": "python",
   "nbconvert_exporter": "python",
   "pygments_lexer": "ipython3",
   "version": "3.10.0"
  },
  "orig_nbformat": 4
 },
 "nbformat": 4,
 "nbformat_minor": 2
}
