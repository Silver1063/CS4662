{
 "cells": [
  {
   "cell_type": "markdown",
   "source": [
    "# Machine Learning models to predict human emotions"
   ],
   "metadata": {
    "collapsed": false
   },
   "id": "605bc9dae1a949ae"
  },
  {
   "cell_type": "code",
   "execution_count": 226,
   "outputs": [],
   "source": [
    "# import required libraries\n",
    "import numpy as np\n",
    "import pandas as pd\n",
    "import keras"
   ],
   "metadata": {
    "collapsed": false,
    "ExecuteTime": {
     "end_time": "2024-04-03T02:20:43.198095300Z",
     "start_time": "2024-04-03T02:20:42.958715800Z"
    }
   },
   "id": "64f5cd021ef53020"
  },
  {
   "cell_type": "markdown",
   "source": [
    "# 1 Data Preprocessing"
   ],
   "metadata": {
    "collapsed": false
   },
   "id": "1a5c2818b73e7eaf"
  },
  {
   "cell_type": "code",
   "execution_count": 227,
   "outputs": [
    {
     "name": "stdout",
     "output_type": "stream",
     "text": [
      "  angry: 3995\n",
      "  disgusted: 436\n",
      "  fearful: 4097\n",
      "  happy: 7215\n",
      "  neutral: 4965\n",
      "  sad: 4830\n",
      "  surprised: 3171\n",
      "files in train: 28709\n"
     ]
    }
   ],
   "source": [
    "import os \n",
    "\n",
    "train = [\"train\"]\n",
    "emotions = [\"angry\", \"disgusted\", \"fearful\", \"happy\", \"neutral\", \"sad\", \"surprised\"]\n",
    "\n",
    "for train_folder in train:\n",
    "    count = 0\n",
    "\n",
    "    # iterate through each emotion folder containing images\n",
    "    for e in emotions:\n",
    "        path = f'./{train_folder}/{e}'\n",
    "        \n",
    "        # count the number of files inside the folder\n",
    "        file_count = len([name for name in os.listdir(path) if os.path.isfile(os.path.join(path, name))])\n",
    "        count += file_count\n",
    "        print(f'  {e}: {file_count}')\n",
    "\n",
    "    print(f'files in {train_folder}: {count}')\n",
    "    print()"
   ],
   "metadata": {
    "collapsed": false,
    "ExecuteTime": {
     "end_time": "2024-04-03T02:20:47.023951900Z",
     "start_time": "2024-04-03T02:20:42.966717700Z"
    }
   },
   "id": "d649427022bc8340"
  },
  {
   "cell_type": "code",
   "execution_count": 228,
   "outputs": [],
   "source": [
    "# constants about our data\n",
    "TRAIN_SIZE = 28709\n",
    "IMAGE_LENGTH = 48\n",
    "\n",
    "DATASET_SIZE = TRAIN_SIZE\n",
    "IMAGE_PIXELS = IMAGE_LENGTH ** 2"
   ],
   "metadata": {
    "collapsed": false,
    "ExecuteTime": {
     "end_time": "2024-04-03T02:20:47.036344100Z",
     "start_time": "2024-04-03T02:20:47.022957100Z"
    }
   },
   "id": "e73d48b76e4c4658"
  },
  {
   "cell_type": "code",
   "execution_count": 229,
   "outputs": [],
   "source": [
    "import matplotlib.image as mpimg\n",
    "\n",
    "# these are the directories that we read from\n",
    "test_train = [\"train\"]\n",
    "emotions = [\"angry\", \"disgusted\", \"fearful\", \"happy\", \"neutral\", \"sad\", \"surprised\"]\n",
    "\n",
    "# initialize empty arrays; data for the pixels and different labels\n",
    "data = np.empty((DATASET_SIZE, IMAGE_PIXELS))\n",
    "tt_labels = np.empty(DATASET_SIZE, dtype=object)\n",
    "emotion_labels = np.empty(DATASET_SIZE, dtype=object)\n",
    "\n",
    "i = 0\n",
    "for tt in test_train:\n",
    "    for emotion in emotions:\n",
    "        # iterate through all the folders\n",
    "        directory = f'./{tt}/{emotion}'\n",
    "        \n",
    "        for filename in os.listdir(directory):\n",
    "            fpath = os.path.join(directory, filename)\n",
    "            \n",
    "            # flatten the image into 1d and save it to our numpy data array\n",
    "            data[i] = mpimg.imread(fpath).flatten() \n",
    "\n",
    "            emotion_labels[i] = emotion\n",
    "            i += 1"
   ],
   "metadata": {
    "collapsed": false,
    "ExecuteTime": {
     "end_time": "2024-04-03T02:20:58.760278200Z",
     "start_time": "2024-04-03T02:20:47.036344100Z"
    }
   },
   "id": "5f552f2681e84e79"
  },
  {
   "cell_type": "code",
   "execution_count": 230,
   "outputs": [
    {
     "data": {
      "text/plain": "array([[0.27450982, 0.3137255 , 0.32156864, ..., 0.41568628, 0.42745098,\n        0.32156864],\n       [0.59215689, 0.58823532, 0.57647061, ..., 0.75686276, 0.71764708,\n        0.72156864],\n       [0.45882353, 0.45490196, 0.44313726, ..., 0.18039216, 0.18431373,\n        0.19215687],\n       ...,\n       [0.03921569, 0.0627451 , 0.07450981, ..., 0.68235296, 0.62352943,\n        0.57647061],\n       [0.5529412 , 0.58039218, 0.61176473, ..., 0.86666667, 0.85490197,\n        0.85490197],\n       [0.47058824, 0.47058824, 0.48627451, ..., 0.72549021, 0.70588237,\n        0.71764708]])"
     },
     "execution_count": 230,
     "metadata": {},
     "output_type": "execute_result"
    }
   ],
   "source": [
    "data"
   ],
   "metadata": {
    "collapsed": false,
    "ExecuteTime": {
     "end_time": "2024-04-03T02:20:58.785863Z",
     "start_time": "2024-04-03T02:20:58.761282500Z"
    }
   },
   "id": "726b8c6cc2f31311"
  },
  {
   "cell_type": "code",
   "execution_count": 231,
   "outputs": [
    {
     "data": {
      "text/plain": "array([[-0.6098823 , -0.45922178, -0.40324931, ..., -0.08629622,\n        -0.05737478, -0.41127694],\n       [ 0.37236206,  0.40461636,  0.41101772, ...,  1.03874271,\n         0.89140539,  0.88666894],\n       [-0.0399381 , -0.01496221, -0.01490662, ..., -0.86218512,\n        -0.85229867, -0.83120063],\n       ...,\n       [-1.33747072, -1.24901664, -1.19246195, ...,  0.79304457,\n         0.58369294,  0.41584547],\n       [ 0.25109733,  0.37993528,  0.52376237, ...,  1.40082418,\n         1.34015273,  1.31931754],\n       [-0.00355868,  0.03439996,  0.1228924 , ...,  0.93529086,\n         0.85294134,  0.87394398]])"
     },
     "execution_count": 231,
     "metadata": {},
     "output_type": "execute_result"
    }
   ],
   "source": [
    "from sklearn import preprocessing\n",
    "\n",
    "# normalize/scale the data\n",
    "data = preprocessing.scale(data)\n",
    "data"
   ],
   "metadata": {
    "collapsed": false,
    "ExecuteTime": {
     "end_time": "2024-04-03T02:21:00.250169300Z",
     "start_time": "2024-04-03T02:20:58.778860100Z"
    }
   },
   "id": "7d6c0b8f8a5ad6f2"
  },
  {
   "cell_type": "code",
   "execution_count": 232,
   "outputs": [],
   "source": [
    "# compile the numpy arrays into a dataframe\n",
    "df = pd.DataFrame(data=data)\n",
    "df['emotion'] = emotion_labels"
   ],
   "metadata": {
    "collapsed": false,
    "ExecuteTime": {
     "end_time": "2024-04-03T02:21:00.279898400Z",
     "start_time": "2024-04-03T02:21:00.251168900Z"
    }
   },
   "id": "349fdeac8aa8e535"
  },
  {
   "cell_type": "code",
   "execution_count": 233,
   "outputs": [
    {
     "data": {
      "text/plain": "          0         1         2         3         4         5         6  \\\n0 -0.609882 -0.459222 -0.403249 -0.507367 -0.672987 -0.666437 -0.641287   \n1  0.372362  0.404616  0.411018  0.553296  0.503082  0.337040  0.055831   \n2 -0.039938 -0.014962 -0.014907 -0.162332 -0.411638 -0.733335 -0.955673   \n3  0.469374  0.515681  0.385963  0.604412  0.751363  0.711671  0.807625   \n4  1.621389  1.688033  1.751426  1.792866  1.639948  1.046163  0.575252   \n\n          7         8         9  ...      2295      2296      2297      2298  \\\n0 -0.610882 -0.759125 -0.734837  ...  1.008915  1.011680  0.352092 -0.062565   \n1  0.464802  0.889874  0.936669  ... -0.029926 -0.206637 -0.029433 -0.116214   \n2 -1.016010 -1.057651 -1.109485  ... -1.068767 -0.968085 -0.915116 -0.907534   \n3  0.758170  0.889874  1.138403  ... -0.366848 -0.220482  0.052322  0.192266   \n4  0.688321 -0.403737 -0.922161  ...  1.514297  0.347143 -0.111188 -0.116214   \n\n       2299      2300      2301      2302      2303  emotion  \n0  0.067986 -0.216423 -0.086296 -0.057375 -0.411277    angry  \n1 -0.581221  0.778775  1.038743  0.891405  0.886669    angry  \n2 -0.859452 -0.858063 -0.862185 -0.852299 -0.831201    angry  \n3  0.293221  0.320460  0.353374  0.429837  0.161346    angry  \n4  0.346217  0.582354  0.456826  0.032375 -0.054978    angry  \n\n[5 rows x 2305 columns]",
      "text/html": "<div>\n<style scoped>\n    .dataframe tbody tr th:only-of-type {\n        vertical-align: middle;\n    }\n\n    .dataframe tbody tr th {\n        vertical-align: top;\n    }\n\n    .dataframe thead th {\n        text-align: right;\n    }\n</style>\n<table border=\"1\" class=\"dataframe\">\n  <thead>\n    <tr style=\"text-align: right;\">\n      <th></th>\n      <th>0</th>\n      <th>1</th>\n      <th>2</th>\n      <th>3</th>\n      <th>4</th>\n      <th>5</th>\n      <th>6</th>\n      <th>7</th>\n      <th>8</th>\n      <th>9</th>\n      <th>...</th>\n      <th>2295</th>\n      <th>2296</th>\n      <th>2297</th>\n      <th>2298</th>\n      <th>2299</th>\n      <th>2300</th>\n      <th>2301</th>\n      <th>2302</th>\n      <th>2303</th>\n      <th>emotion</th>\n    </tr>\n  </thead>\n  <tbody>\n    <tr>\n      <th>0</th>\n      <td>-0.609882</td>\n      <td>-0.459222</td>\n      <td>-0.403249</td>\n      <td>-0.507367</td>\n      <td>-0.672987</td>\n      <td>-0.666437</td>\n      <td>-0.641287</td>\n      <td>-0.610882</td>\n      <td>-0.759125</td>\n      <td>-0.734837</td>\n      <td>...</td>\n      <td>1.008915</td>\n      <td>1.011680</td>\n      <td>0.352092</td>\n      <td>-0.062565</td>\n      <td>0.067986</td>\n      <td>-0.216423</td>\n      <td>-0.086296</td>\n      <td>-0.057375</td>\n      <td>-0.411277</td>\n      <td>angry</td>\n    </tr>\n    <tr>\n      <th>1</th>\n      <td>0.372362</td>\n      <td>0.404616</td>\n      <td>0.411018</td>\n      <td>0.553296</td>\n      <td>0.503082</td>\n      <td>0.337040</td>\n      <td>0.055831</td>\n      <td>0.464802</td>\n      <td>0.889874</td>\n      <td>0.936669</td>\n      <td>...</td>\n      <td>-0.029926</td>\n      <td>-0.206637</td>\n      <td>-0.029433</td>\n      <td>-0.116214</td>\n      <td>-0.581221</td>\n      <td>0.778775</td>\n      <td>1.038743</td>\n      <td>0.891405</td>\n      <td>0.886669</td>\n      <td>angry</td>\n    </tr>\n    <tr>\n      <th>2</th>\n      <td>-0.039938</td>\n      <td>-0.014962</td>\n      <td>-0.014907</td>\n      <td>-0.162332</td>\n      <td>-0.411638</td>\n      <td>-0.733335</td>\n      <td>-0.955673</td>\n      <td>-1.016010</td>\n      <td>-1.057651</td>\n      <td>-1.109485</td>\n      <td>...</td>\n      <td>-1.068767</td>\n      <td>-0.968085</td>\n      <td>-0.915116</td>\n      <td>-0.907534</td>\n      <td>-0.859452</td>\n      <td>-0.858063</td>\n      <td>-0.862185</td>\n      <td>-0.852299</td>\n      <td>-0.831201</td>\n      <td>angry</td>\n    </tr>\n    <tr>\n      <th>3</th>\n      <td>0.469374</td>\n      <td>0.515681</td>\n      <td>0.385963</td>\n      <td>0.604412</td>\n      <td>0.751363</td>\n      <td>0.711671</td>\n      <td>0.807625</td>\n      <td>0.758170</td>\n      <td>0.889874</td>\n      <td>1.138403</td>\n      <td>...</td>\n      <td>-0.366848</td>\n      <td>-0.220482</td>\n      <td>0.052322</td>\n      <td>0.192266</td>\n      <td>0.293221</td>\n      <td>0.320460</td>\n      <td>0.353374</td>\n      <td>0.429837</td>\n      <td>0.161346</td>\n      <td>angry</td>\n    </tr>\n    <tr>\n      <th>4</th>\n      <td>1.621389</td>\n      <td>1.688033</td>\n      <td>1.751426</td>\n      <td>1.792866</td>\n      <td>1.639948</td>\n      <td>1.046163</td>\n      <td>0.575252</td>\n      <td>0.688321</td>\n      <td>-0.403737</td>\n      <td>-0.922161</td>\n      <td>...</td>\n      <td>1.514297</td>\n      <td>0.347143</td>\n      <td>-0.111188</td>\n      <td>-0.116214</td>\n      <td>0.346217</td>\n      <td>0.582354</td>\n      <td>0.456826</td>\n      <td>0.032375</td>\n      <td>-0.054978</td>\n      <td>angry</td>\n    </tr>\n  </tbody>\n</table>\n<p>5 rows × 2305 columns</p>\n</div>"
     },
     "execution_count": 233,
     "metadata": {},
     "output_type": "execute_result"
    }
   ],
   "source": [
    "train = df\n",
    "df.head()"
   ],
   "metadata": {
    "collapsed": false,
    "ExecuteTime": {
     "end_time": "2024-04-03T02:21:00.281894600Z",
     "start_time": "2024-04-03T02:21:00.266202400Z"
    }
   },
   "id": "5d53bd6cca6be610"
  },
  {
   "cell_type": "code",
   "execution_count": 234,
   "outputs": [],
   "source": [
    "# 2. Data Preprocessing\n",
    "# Separate features and labels on our datasets \n",
    "feature_cols = [x for x in range(48*48)]\n",
    "\n",
    "X =  train[feature_cols]\n",
    "y = train[\"emotion\"]"
   ],
   "metadata": {
    "collapsed": false,
    "ExecuteTime": {
     "end_time": "2024-04-03T02:21:00.425033300Z",
     "start_time": "2024-04-03T02:21:00.281894600Z"
    }
   },
   "id": "fbfa057a9a488ede"
  },
  {
   "cell_type": "code",
   "execution_count": 235,
   "outputs": [
    {
     "data": {
      "text/plain": "0            angry\n1            angry\n2            angry\n3            angry\n4            angry\n           ...    \n28704    surprised\n28705    surprised\n28706    surprised\n28707    surprised\n28708    surprised\nName: emotion, Length: 28709, dtype: object"
     },
     "execution_count": 235,
     "metadata": {},
     "output_type": "execute_result"
    }
   ],
   "source": [
    "y"
   ],
   "metadata": {
    "collapsed": false,
    "ExecuteTime": {
     "end_time": "2024-04-03T02:21:00.443733500Z",
     "start_time": "2024-04-03T02:21:00.425033300Z"
    }
   },
   "id": "f433b17999d4a129"
  },
  {
   "cell_type": "code",
   "execution_count": 236,
   "outputs": [],
   "source": [
    "from sklearn.model_selection import train_test_split\n",
    "\n",
    "SVM_X_train, SVM_X_test, SVM_y_train, SVM_y_test = train_test_split(X, y, test_size=0.2, random_state=2)"
   ],
   "metadata": {
    "collapsed": false,
    "ExecuteTime": {
     "end_time": "2024-04-03T02:21:00.549970700Z",
     "start_time": "2024-04-03T02:21:00.439733600Z"
    }
   },
   "id": "322437f86a48ef17"
  },
  {
   "cell_type": "code",
   "execution_count": 237,
   "outputs": [
    {
     "name": "stdout",
     "output_type": "stream",
     "text": [
      "(22967,)\n",
      "(22967, 2304)\n"
     ]
    }
   ],
   "source": [
    "print(SVM_y_train.shape)\n",
    "print(SVM_X_train.shape)"
   ],
   "metadata": {
    "collapsed": false,
    "ExecuteTime": {
     "end_time": "2024-04-03T02:21:00.568945800Z",
     "start_time": "2024-04-03T02:21:00.550973200Z"
    }
   },
   "id": "c111334fa561e2d4"
  },
  {
   "cell_type": "code",
   "execution_count": 238,
   "outputs": [
    {
     "data": {
      "text/plain": "       emotion\n0            0\n1            0\n2            0\n3            0\n4            0\n...        ...\n28704        6\n28705        6\n28706        6\n28707        6\n28708        6\n\n[28709 rows x 1 columns]",
      "text/html": "<div>\n<style scoped>\n    .dataframe tbody tr th:only-of-type {\n        vertical-align: middle;\n    }\n\n    .dataframe tbody tr th {\n        vertical-align: top;\n    }\n\n    .dataframe thead th {\n        text-align: right;\n    }\n</style>\n<table border=\"1\" class=\"dataframe\">\n  <thead>\n    <tr style=\"text-align: right;\">\n      <th></th>\n      <th>emotion</th>\n    </tr>\n  </thead>\n  <tbody>\n    <tr>\n      <th>0</th>\n      <td>0</td>\n    </tr>\n    <tr>\n      <th>1</th>\n      <td>0</td>\n    </tr>\n    <tr>\n      <th>2</th>\n      <td>0</td>\n    </tr>\n    <tr>\n      <th>3</th>\n      <td>0</td>\n    </tr>\n    <tr>\n      <th>4</th>\n      <td>0</td>\n    </tr>\n    <tr>\n      <th>...</th>\n      <td>...</td>\n    </tr>\n    <tr>\n      <th>28704</th>\n      <td>6</td>\n    </tr>\n    <tr>\n      <th>28705</th>\n      <td>6</td>\n    </tr>\n    <tr>\n      <th>28706</th>\n      <td>6</td>\n    </tr>\n    <tr>\n      <th>28707</th>\n      <td>6</td>\n    </tr>\n    <tr>\n      <th>28708</th>\n      <td>6</td>\n    </tr>\n  </tbody>\n</table>\n<p>28709 rows × 1 columns</p>\n</div>"
     },
     "execution_count": 238,
     "metadata": {},
     "output_type": "execute_result"
    }
   ],
   "source": [
    "from sklearn.preprocessing import LabelEncoder\n",
    "\n",
    "# Assuming you have your labels as a list or array\n",
    "labels = [\"angry\", \"disgusted\", \"fearful\", \"happy\", \"neutral\", \"sad\", \"surprised\"]\n",
    "\n",
    "# Create a LabelEncoder instance\n",
    "encoder = LabelEncoder()\n",
    "\n",
    "# Fit the encoder on the labels\n",
    "encoder.fit(y)\n",
    "\n",
    "# Transform the labels to numerical representations\n",
    "y_encoded = encoder.transform(y)\n",
    "\n",
    "encoded_y_df = pd.DataFrame({'emotion': y_encoded})\n",
    "\n",
    "encoded_y_df"
   ],
   "metadata": {
    "collapsed": false,
    "ExecuteTime": {
     "end_time": "2024-04-03T02:21:00.610535200Z",
     "start_time": "2024-04-03T02:21:00.567936800Z"
    }
   },
   "id": "542fa7c8ea8fb440"
  },
  {
   "cell_type": "code",
   "execution_count": 239,
   "outputs": [
    {
     "name": "stdout",
     "output_type": "stream",
     "text": [
      "(20096, 2304)\n",
      "(8613, 2304)\n"
     ]
    }
   ],
   "source": [
    "\n",
    "X_train, X_test, y_train, y_test = train_test_split(X, encoded_y_df, test_size=0.3, random_state=2)\n",
    "\n",
    "X_train_3D = X_train.values.reshape(20096, 48, 48, 1)\n",
    "X_test_3D = X_test.values.reshape(8613, 48, 48, 1)\n",
    "\n",
    "print(X_train.shape)\n",
    "print(X_test.shape)"
   ],
   "metadata": {
    "collapsed": false,
    "ExecuteTime": {
     "end_time": "2024-04-03T02:21:00.706220100Z",
     "start_time": "2024-04-03T02:21:00.584463800Z"
    }
   },
   "id": "bebddbae5a444251"
  },
  {
   "cell_type": "code",
   "execution_count": 240,
   "outputs": [
    {
     "name": "stdout",
     "output_type": "stream",
     "text": [
      "(20096, 7)\n",
      "[[0. 0. 0. 0. 1. 0. 0.]\n",
      " [0. 0. 0. 0. 0. 0. 1.]\n",
      " [0. 0. 0. 1. 0. 0. 0.]\n",
      " [0. 0. 0. 0. 0. 0. 1.]\n",
      " [0. 0. 1. 0. 0. 0. 0.]\n",
      " [0. 0. 0. 0. 1. 0. 0.]\n",
      " [0. 0. 0. 0. 0. 1. 0.]\n",
      " [1. 0. 0. 0. 0. 0. 0.]\n",
      " [0. 0. 1. 0. 0. 0. 0.]\n",
      " [0. 0. 0. 0. 0. 1. 0.]]\n"
     ]
    }
   ],
   "source": [
    "from keras import utils as np_utils\n",
    "\n",
    "# OneHotEncoding for the output label:\n",
    "\n",
    "y_train_cat = np_utils.to_categorical(y_train, 7)\n",
    "y_test_cat = np_utils.to_categorical(y_test, 7)\n",
    "\n",
    "# Label after OneHotEncoding:\n",
    "print (y_train_cat.shape)\n",
    "print (y_train_cat[:10, :])"
   ],
   "metadata": {
    "collapsed": false,
    "ExecuteTime": {
     "end_time": "2024-04-03T02:21:00.725457200Z",
     "start_time": "2024-04-03T02:21:00.710937400Z"
    }
   },
   "id": "f270776499a1e97c"
  },
  {
   "cell_type": "markdown",
   "source": [
    "# 2.1 Regular ANN"
   ],
   "metadata": {
    "collapsed": false
   },
   "id": "1c40e0cecbd761bd"
  },
  {
   "cell_type": "code",
   "execution_count": 241,
   "outputs": [],
   "source": [
    "# \"Sequential\" models let us define a stack of neural network layers\n",
    "from keras import Sequential\n",
    "# import the core layers:\n",
    "from keras.layers import Dense, Dropout, Activation, Flatten\n",
    "\n",
    "\n",
    "input_size = 2304\n",
    "hidden_neurons = 500\n",
    "out_size = 7\n",
    "\n",
    "ANN_model = Sequential()\n",
    "\n",
    "# first layer: input layer\n",
    "# Input layer does not do any processing, so no need to define the input layer in this problem.\n",
    "\n",
    "# -----------------------------------------\n",
    "# second layer: hidden layer:\n",
    "ANN_model.add(Dense(hidden_neurons, input_dim = input_size))  # Neurons\n",
    "ANN_model.add(Activation('sigmoid')) # Activation\n",
    "\n",
    "# -----------------------------------------\n",
    "# third layer: hidden layer:\n",
    "ANN_model.add(Dense(hidden_neurons, input_dim = hidden_neurons))  # Neurons\n",
    "ANN_model.add(Activation('sigmoid')) # Activation\n",
    "\n",
    "# -----------------------------------------\n",
    "# fourth layer: hidden layer:\n",
    "ANN_model.add(Dense(hidden_neurons, input_dim = hidden_neurons))  # Neurons\n",
    "ANN_model.add(Activation('sigmoid')) # Activation\n",
    "\n",
    "# -----------------------------------------\n",
    "# output layer: output layer:\n",
    "ANN_model.add(Dense(out_size, input_dim = hidden_neurons))  # Neurons\n",
    "ANN_model.add(Activation('softmax')) # Activation\n",
    "\n",
    "# compile:\n",
    "ANN_model.compile(loss='categorical_crossentropy', optimizer='adam', metrics=['accuracy'])\n"
   ],
   "metadata": {
    "collapsed": false,
    "ExecuteTime": {
     "end_time": "2024-04-03T02:21:00.799795200Z",
     "start_time": "2024-04-03T02:21:00.725457200Z"
    }
   },
   "id": "bf9187430f946328"
  },
  {
   "cell_type": "code",
   "execution_count": 242,
   "outputs": [
    {
     "name": "stdout",
     "output_type": "stream",
     "text": [
      "Epoch 1/25\n",
      "421/421 [==============================] - 5s 9ms/step - loss: 1.7196 - accuracy: 0.3147 - val_loss: 1.6653 - val_accuracy: 0.3293\n",
      "Epoch 2/25\n",
      "421/421 [==============================] - 4s 9ms/step - loss: 1.6353 - accuracy: 0.3559 - val_loss: 1.6525 - val_accuracy: 0.3486\n",
      "Epoch 3/25\n",
      "421/421 [==============================] - 4s 9ms/step - loss: 1.5819 - accuracy: 0.3757 - val_loss: 1.5820 - val_accuracy: 0.3788\n",
      "Epoch 4/25\n",
      "421/421 [==============================] - 4s 9ms/step - loss: 1.5371 - accuracy: 0.3997 - val_loss: 1.5868 - val_accuracy: 0.3747\n",
      "Epoch 5/25\n",
      "421/421 [==============================] - 4s 9ms/step - loss: 1.4859 - accuracy: 0.4209 - val_loss: 1.6017 - val_accuracy: 0.3748\n",
      "Epoch 6/25\n",
      "421/421 [==============================] - 4s 9ms/step - loss: 1.4272 - accuracy: 0.4474 - val_loss: 1.5796 - val_accuracy: 0.3809\n",
      "Epoch 7/25\n",
      "421/421 [==============================] - 4s 9ms/step - loss: 1.3741 - accuracy: 0.4682 - val_loss: 1.5988 - val_accuracy: 0.3827\n",
      "Epoch 8/25\n",
      "421/421 [==============================] - 4s 9ms/step - loss: 1.3196 - accuracy: 0.4947 - val_loss: 1.6104 - val_accuracy: 0.3800\n",
      "Epoch 9/25\n",
      "421/421 [==============================] - 4s 9ms/step - loss: 1.2474 - accuracy: 0.5286 - val_loss: 1.6559 - val_accuracy: 0.3854\n",
      "Epoch 10/25\n",
      "421/421 [==============================] - 4s 9ms/step - loss: 1.1864 - accuracy: 0.5491 - val_loss: 1.6798 - val_accuracy: 0.3715\n",
      "Epoch 11/25\n",
      "421/421 [==============================] - 4s 9ms/step - loss: 1.1163 - accuracy: 0.5820 - val_loss: 1.6988 - val_accuracy: 0.3848\n",
      "Epoch 12/25\n",
      "421/421 [==============================] - 4s 9ms/step - loss: 1.0515 - accuracy: 0.6072 - val_loss: 1.7685 - val_accuracy: 0.3688\n",
      "Epoch 13/25\n",
      "421/421 [==============================] - 4s 9ms/step - loss: 0.9974 - accuracy: 0.6303 - val_loss: 1.8385 - val_accuracy: 0.3783\n",
      "Epoch 14/25\n",
      "421/421 [==============================] - 4s 9ms/step - loss: 0.9259 - accuracy: 0.6593 - val_loss: 1.9069 - val_accuracy: 0.3782\n",
      "Epoch 15/25\n",
      "421/421 [==============================] - 4s 9ms/step - loss: 0.8550 - accuracy: 0.6871 - val_loss: 1.9488 - val_accuracy: 0.3895\n",
      "Epoch 16/25\n",
      "421/421 [==============================] - 4s 9ms/step - loss: 0.8111 - accuracy: 0.7005 - val_loss: 2.1357 - val_accuracy: 0.3559\n",
      "Epoch 17/25\n",
      "421/421 [==============================] - 4s 9ms/step - loss: 0.7466 - accuracy: 0.7238 - val_loss: 2.1854 - val_accuracy: 0.3856\n",
      "Epoch 18/25\n",
      "421/421 [==============================] - 4s 9ms/step - loss: 0.6912 - accuracy: 0.7450 - val_loss: 2.2742 - val_accuracy: 0.3747\n",
      "Epoch 19/25\n",
      "421/421 [==============================] - 4s 9ms/step - loss: 0.6533 - accuracy: 0.7643 - val_loss: 2.3557 - val_accuracy: 0.3602\n",
      "Epoch 20/25\n",
      "421/421 [==============================] - 4s 9ms/step - loss: 0.6114 - accuracy: 0.7766 - val_loss: 2.4191 - val_accuracy: 0.3735\n",
      "Epoch 21/25\n",
      "421/421 [==============================] - 4s 9ms/step - loss: 0.5870 - accuracy: 0.7911 - val_loss: 2.4392 - val_accuracy: 0.3670\n",
      "Epoch 22/25\n",
      "421/421 [==============================] - 4s 9ms/step - loss: 0.5356 - accuracy: 0.8095 - val_loss: 2.5794 - val_accuracy: 0.3815\n",
      "Epoch 23/25\n",
      "421/421 [==============================] - 4s 9ms/step - loss: 0.5084 - accuracy: 0.8136 - val_loss: 2.6666 - val_accuracy: 0.3711\n",
      "Epoch 24/25\n",
      "421/421 [==============================] - 4s 9ms/step - loss: 0.4757 - accuracy: 0.8273 - val_loss: 2.7208 - val_accuracy: 0.3771\n",
      "Epoch 25/25\n",
      "421/421 [==============================] - 4s 9ms/step - loss: 0.4764 - accuracy: 0.8256 - val_loss: 2.7998 - val_accuracy: 0.3865\n"
     ]
    }
   ],
   "source": [
    "fitted_ANN_model = ANN_model.fit(X_train, y_train_cat, validation_split=0.33, batch_size=32, epochs=25, verbose=1)"
   ],
   "metadata": {
    "collapsed": false,
    "ExecuteTime": {
     "end_time": "2024-04-03T02:22:34.998233600Z",
     "start_time": "2024-04-03T02:21:00.804791800Z"
    }
   },
   "id": "f38bf323a59e715a"
  },
  {
   "cell_type": "code",
   "execution_count": 243,
   "outputs": [
    {
     "data": {
      "text/plain": "<Figure size 640x480 with 1 Axes>",
      "image/png": "[encoded data removed]"
     },
     "metadata": {},
     "output_type": "display_data"
    }
   ],
   "source": [
    "import matplotlib.pyplot as plt\n",
    "\n",
    "# summarize history for accuracy\n",
    "plt.plot(fitted_ANN_model.history['accuracy'])\n",
    "plt.plot(fitted_ANN_model.history['val_accuracy'])\n",
    "plt.title('model accuracy')\n",
    "plt.ylabel('accuracy')\n",
    "plt.xlabel('epoch')\n",
    "plt.legend(['train', 'val'], loc='upper left')\n",
    "plt.show()"
   ],
   "metadata": {
    "collapsed": false,
    "ExecuteTime": {
     "end_time": "2024-04-03T02:22:35.124765900Z",
     "start_time": "2024-04-03T02:22:35.001235800Z"
    }
   },
   "id": "5a383e7dfcbb2242"
  },
  {
   "cell_type": "code",
   "execution_count": 244,
   "outputs": [
    {
     "name": "stdout",
     "output_type": "stream",
     "text": [
      "270/270 [==============================] - 1s 2ms/step\n",
      "(8613, 7)\n"
     ]
    }
   ],
   "source": [
    "# Prediction:\n",
    "y_predict = ANN_model.predict(X_test, verbose=1)\n",
    "print (y_predict.shape)"
   ],
   "metadata": {
    "collapsed": false,
    "ExecuteTime": {
     "end_time": "2024-04-03T02:22:35.868214500Z",
     "start_time": "2024-04-03T02:22:35.122764400Z"
    }
   },
   "id": "449f00c42c6eaa55"
  },
  {
   "cell_type": "code",
   "execution_count": 245,
   "outputs": [
    {
     "name": "stdout",
     "output_type": "stream",
     "text": [
      "270/270 [==============================] - 1s 2ms/step - loss: 2.8459 - accuracy: 0.3833\n",
      "The accuracy is:  0.3832578659057617\n"
     ]
    }
   ],
   "source": [
    "score = ANN_model.evaluate(X_test, y_test_cat, verbose=1)\n",
    "print('The accuracy is: ', score[1])"
   ],
   "metadata": {
    "collapsed": false,
    "ExecuteTime": {
     "end_time": "2024-04-03T02:22:36.459411100Z",
     "start_time": "2024-04-03T02:22:35.869215500Z"
    }
   },
   "id": "ad57ce2b922d4fcd"
  },
  {
   "cell_type": "markdown",
   "source": [
    "# 2.2 Convolution Neural Network (CNN)"
   ],
   "metadata": {
    "collapsed": false
   },
   "id": "da5f61913008e994"
  },
  {
   "cell_type": "code",
   "execution_count": 246,
   "outputs": [],
   "source": [
    "import tensorflow as tf\n",
    "\n",
    "from keras import layers, models\n",
    "from keras.optimizers import Adam\n",
    "\n",
    "model_cnn = models.Sequential()\n",
    "model_cnn.add(layers.Conv2D(filters=32, kernel_size=(3, 3), activation='relu', input_shape=(IMAGE_LENGTH, IMAGE_LENGTH, 1)))\n",
    "\n",
    "model_cnn.add(layers.MaxPooling2D((2, 2)))\n",
    "model_cnn.add(layers.Conv2D(filters=64, kernel_size=(3, 3), activation='relu'))\n",
    "model_cnn.add(layers.Flatten())\n",
    "model_cnn.add(layers.Dense(48, activation='relu'))\n",
    "model_cnn.add(layers.Dense(7)) "
   ],
   "metadata": {
    "collapsed": false,
    "ExecuteTime": {
     "end_time": "2024-04-03T02:22:36.522286600Z",
     "start_time": "2024-04-03T02:22:36.460409400Z"
    }
   },
   "id": "4ff97c58558fb5f2"
  },
  {
   "cell_type": "code",
   "execution_count": 247,
   "outputs": [
    {
     "name": "stdout",
     "output_type": "stream",
     "text": [
      "Model: \"sequential_16\"\n",
      "_________________________________________________________________\n",
      " Layer (type)                Output Shape              Param #   \n",
      "=================================================================\n",
      " conv2d_12 (Conv2D)          (None, 46, 46, 32)        320       \n",
      "                                                                 \n",
      " max_pooling2d_4 (MaxPoolin  (None, 23, 23, 32)        0         \n",
      " g2D)                                                            \n",
      "                                                                 \n",
      " conv2d_13 (Conv2D)          (None, 21, 21, 64)        18496     \n",
      "                                                                 \n",
      " flatten_9 (Flatten)         (None, 28224)             0         \n",
      "                                                                 \n",
      " dense_46 (Dense)            (None, 48)                1354800   \n",
      "                                                                 \n",
      " dense_47 (Dense)            (None, 7)                 343       \n",
      "                                                                 \n",
      "=================================================================\n",
      "Total params: 1373959 (5.24 MB)\n",
      "Trainable params: 1373959 (5.24 MB)\n",
      "Non-trainable params: 0 (0.00 Byte)\n",
      "_________________________________________________________________\n"
     ]
    }
   ],
   "source": [
    "model_cnn.summary()"
   ],
   "metadata": {
    "collapsed": false,
    "ExecuteTime": {
     "end_time": "2024-04-03T02:22:36.598472300Z",
     "start_time": "2024-04-03T02:22:36.523287400Z"
    }
   },
   "id": "c73cd0aae418d9d8"
  },
  {
   "cell_type": "code",
   "execution_count": 248,
   "outputs": [
    {
     "name": "stdout",
     "output_type": "stream",
     "text": [
      "Epoch 1/10\n",
      "628/628 [==============================] - 11s 17ms/step - loss: 1.5454 - accuracy: 0.4041 - val_loss: 1.4289 - val_accuracy: 0.4619\n",
      "Epoch 2/10\n",
      "628/628 [==============================] - 11s 17ms/step - loss: 1.2852 - accuracy: 0.5144 - val_loss: 1.3569 - val_accuracy: 0.4948\n",
      "Epoch 3/10\n",
      "628/628 [==============================] - 11s 17ms/step - loss: 1.0815 - accuracy: 0.5986 - val_loss: 1.3334 - val_accuracy: 0.5024\n",
      "Epoch 4/10\n",
      "628/628 [==============================] - 11s 17ms/step - loss: 0.8462 - accuracy: 0.6890 - val_loss: 1.4313 - val_accuracy: 0.5034\n",
      "Epoch 5/10\n",
      "628/628 [==============================] - 11s 17ms/step - loss: 0.5807 - accuracy: 0.7929 - val_loss: 1.6087 - val_accuracy: 0.4959\n",
      "Epoch 6/10\n",
      "628/628 [==============================] - 11s 17ms/step - loss: 0.3592 - accuracy: 0.8775 - val_loss: 2.0954 - val_accuracy: 0.4898\n",
      "Epoch 7/10\n",
      "628/628 [==============================] - 11s 17ms/step - loss: 0.2038 - accuracy: 0.9369 - val_loss: 2.5574 - val_accuracy: 0.4752\n",
      "Epoch 8/10\n",
      "628/628 [==============================] - 11s 17ms/step - loss: 0.1284 - accuracy: 0.9625 - val_loss: 2.9631 - val_accuracy: 0.4717\n",
      "Epoch 9/10\n",
      "628/628 [==============================] - 11s 17ms/step - loss: 0.0957 - accuracy: 0.9744 - val_loss: 3.2625 - val_accuracy: 0.4718\n",
      "Epoch 10/10\n",
      "628/628 [==============================] - 11s 17ms/step - loss: 0.0950 - accuracy: 0.9726 - val_loss: 3.5225 - val_accuracy: 0.4793\n"
     ]
    }
   ],
   "source": [
    "model_cnn.compile(optimizer=Adam(learning_rate=0.001),\n",
    "              loss=tf.keras.losses.SparseCategoricalCrossentropy(from_logits=True),\n",
    "              metrics=['accuracy'])\n",
    "history_cnn = model_cnn.fit(X_train_3D, y_train, epochs=10,\n",
    "                            validation_data=(X_test_3D, y_test))"
   ],
   "metadata": {
    "collapsed": false,
    "ExecuteTime": {
     "end_time": "2024-04-03T02:24:23.574476800Z",
     "start_time": "2024-04-03T02:22:36.555382800Z"
    }
   },
   "id": "1d91c394639cf65"
  },
  {
   "cell_type": "code",
   "execution_count": 271,
   "outputs": [
    {
     "name": "stdout",
     "output_type": "stream",
     "text": [
      "Final Training Accuracy: 0.9726313948631287\n",
      "Final Validation Accuracy: 0.47927552461624146\n"
     ]
    }
   ],
   "source": [
    "# Access the final accuracy from the history object\n",
    "train_accuracy = history_cnn.history['accuracy'][-1]\n",
    "val_accuracy = history_cnn.history['val_accuracy'][-1]\n",
    "\n",
    "print(f\"Final Training Accuracy: {train_accuracy}\")\n",
    "print(f\"Final Validation Accuracy: {val_accuracy}\")"
   ],
   "metadata": {
    "collapsed": false,
    "ExecuteTime": {
     "end_time": "2024-04-03T03:23:37.117610200Z",
     "start_time": "2024-04-03T03:23:37.085623600Z"
    }
   },
   "id": "cbeefffacbf912e0"
  },
  {
   "cell_type": "code",
   "execution_count": 249,
   "outputs": [
    {
     "data": {
      "text/plain": "<matplotlib.legend.Legend at 0x25399a8ab50>"
     },
     "execution_count": 249,
     "metadata": {},
     "output_type": "execute_result"
    },
    {
     "data": {
      "text/plain": "<Figure size 500x500 with 1 Axes>",
      "image/png": "[encoded data removed]"
     },
     "metadata": {},
     "output_type": "display_data"
    }
   ],
   "source": [
    "fig = plt.figure(figsize=(2,2), dpi=250)\n",
    "plt.plot(history_cnn.history['accuracy'], label='accuracy')\n",
    "plt.plot(history_cnn.history['val_accuracy'], label = 'val_accuracy')\n",
    "plt.xlabel('Epoch')\n",
    "plt.ylabel('Accuracy')\n",
    "plt.ylim([0, 1])\n",
    "plt.legend(loc='lower right')"
   ],
   "metadata": {
    "collapsed": false,
    "ExecuteTime": {
     "end_time": "2024-04-03T02:24:23.696782600Z",
     "start_time": "2024-04-03T02:24:23.573474600Z"
    }
   },
   "id": "f1ccc4316519ad05"
  },
  {
   "cell_type": "markdown",
   "source": [
    "# 2.3 SVM Model"
   ],
   "metadata": {
    "collapsed": false
   },
   "id": "48f405a9cf805f31"
  },
  {
   "cell_type": "code",
   "execution_count": 250,
   "outputs": [],
   "source": [
    "from  sklearn.decomposition  import  PCA\n",
    "\n",
    "k = 100\n",
    "pca = PCA(n_components=k)\n",
    "\n",
    "# new datasets for after PCA\n",
    "X_train_pca = pca.fit_transform(SVM_X_train)\n",
    "X_test_pca = pca.fit_transform(SVM_X_test)"
   ],
   "metadata": {
    "collapsed": false,
    "ExecuteTime": {
     "end_time": "2024-04-03T02:24:27.587655300Z",
     "start_time": "2024-04-03T02:24:23.699791400Z"
    }
   },
   "id": "3517361d4990c107"
  },
  {
   "cell_type": "code",
   "execution_count": 251,
   "outputs": [],
   "source": [
    "from sklearn.svm import SVC\n",
    "\n",
    "svm = SVC(C=1, kernel='rbf', gamma=0.0005, random_state=1)\n",
    "svm = svm.fit(X_train_pca, SVM_y_train)"
   ],
   "metadata": {
    "collapsed": false,
    "ExecuteTime": {
     "end_time": "2024-04-03T02:25:10.734127500Z",
     "start_time": "2024-04-03T02:24:27.587655300Z"
    }
   },
   "id": "df77e345124f75c9"
  },
  {
   "cell_type": "code",
   "execution_count": 252,
   "outputs": [],
   "source": [
    "y_predict_SVM = svm.predict(X_test_pca)"
   ],
   "metadata": {
    "collapsed": false,
    "ExecuteTime": {
     "end_time": "2024-04-03T02:25:23.561311500Z",
     "start_time": "2024-04-03T02:25:10.736130300Z"
    }
   },
   "id": "a708824f0fc8c4c1"
  },
  {
   "cell_type": "code",
   "execution_count": 253,
   "outputs": [
    {
     "name": "stdout",
     "output_type": "stream",
     "text": [
      "Accuracy for SVM: 0.21839080459770116\n"
     ]
    }
   ],
   "source": [
    "from sklearn.metrics import accuracy_score\n",
    "\n",
    "print('Accuracy for SVM: ' + str(accuracy_score(SVM_y_test, y_predict_SVM)))"
   ],
   "metadata": {
    "collapsed": false,
    "ExecuteTime": {
     "end_time": "2024-04-03T02:25:23.578031200Z",
     "start_time": "2024-04-03T02:25:23.562314200Z"
    }
   },
   "id": "1dbd8c5efc8c7f13"
  },
  {
   "cell_type": "markdown",
   "source": [
    "# 2.4 VGG-16 Model"
   ],
   "metadata": {
    "collapsed": false
   },
   "id": "dabae713c2a50e12"
  },
  {
   "cell_type": "code",
   "execution_count": 254,
   "outputs": [],
   "source": [
    "X_train_vgg16 = []\n",
    "X_test_vgg16 = []\n",
    "# need to resize to use the VGG16 from keras\n",
    "# since our data is black and white, we copy the pixel values 3 times\n",
    "for img in X_train_3D:\n",
    "    X_train_vgg16.append(np.repeat(img,3,axis = -1))\n",
    "for img in X_test_3D:\n",
    "    X_test_vgg16.append(np.repeat(img,3,axis = -1))\n",
    "X_train_vgg16 = np.array(X_train_vgg16)\n",
    "X_test_vgg16 = np.array(X_test_vgg16)"
   ],
   "metadata": {
    "collapsed": false,
    "ExecuteTime": {
     "end_time": "2024-04-03T02:25:26.947153800Z",
     "start_time": "2024-04-03T02:25:23.578031200Z"
    }
   },
   "id": "ba5d32ef5fdf673a"
  },
  {
   "cell_type": "code",
   "execution_count": 255,
   "outputs": [
    {
     "data": {
      "text/plain": "(20096, 48, 48, 3)"
     },
     "execution_count": 255,
     "metadata": {},
     "output_type": "execute_result"
    }
   ],
   "source": [
    "X_train_vgg16.shape"
   ],
   "metadata": {
    "collapsed": false,
    "ExecuteTime": {
     "end_time": "2024-04-03T02:25:26.967178300Z",
     "start_time": "2024-04-03T02:25:26.949155300Z"
    }
   },
   "id": "d785667909150100"
  },
  {
   "cell_type": "code",
   "execution_count": 256,
   "outputs": [],
   "source": [
    "from keras.src.applications import VGG16\n",
    "\n",
    "# Load the pre-trained VGG16 model\n",
    "model_16 = VGG16(weights='imagenet', include_top=False, input_shape=(48, 48, 3))\n",
    "\n",
    "# Freeze the layers of the pre-trained model so that they are not trained again during fine-tuning\n",
    "for layer in model_16.layers:\n",
    "    layer.trainable = False\n",
    "\n",
    "new_model = models.Sequential()\n",
    "new_model.add(model_16)\n",
    "# new_model.add(layers.Conv2D(filters=16, kernel_size=(3, 3), activation='relu', padding='same'))\n",
    "new_model.add(layers.Flatten())\n",
    "new_model.add(layers.Dense(256, activation='relu'))\n",
    "new_model.add(layers.Dropout(0.5))\n",
    "new_model.add(layers.Dense(7, activation='softmax'))\n",
    "\n",
    "# Compile the model\n",
    "new_model.compile(optimizer='adam', loss='categorical_crossentropy', metrics=['accuracy'])"
   ],
   "metadata": {
    "collapsed": false,
    "ExecuteTime": {
     "end_time": "2024-04-03T02:25:27.538305200Z",
     "start_time": "2024-04-03T02:25:26.967178300Z"
    }
   },
   "id": "96c982c5cf417e18"
  },
  {
   "cell_type": "code",
   "execution_count": 257,
   "outputs": [
    {
     "name": "stdout",
     "output_type": "stream",
     "text": [
      "Epoch 1/10\n",
      "628/628 [==============================] - 89s 140ms/step - loss: 1.6687 - accuracy: 0.3388 - val_loss: 1.5762 - val_accuracy: 0.3864\n",
      "Epoch 2/10\n",
      "628/628 [==============================] - 87s 139ms/step - loss: 1.5687 - accuracy: 0.3882 - val_loss: 1.5390 - val_accuracy: 0.4057\n",
      "Epoch 3/10\n",
      "628/628 [==============================] - 88s 140ms/step - loss: 1.5286 - accuracy: 0.4054 - val_loss: 1.5248 - val_accuracy: 0.4145\n",
      "Epoch 4/10\n",
      "628/628 [==============================] - 88s 141ms/step - loss: 1.5014 - accuracy: 0.4187 - val_loss: 1.5133 - val_accuracy: 0.4131\n",
      "Epoch 5/10\n",
      "628/628 [==============================] - 90s 143ms/step - loss: 1.4747 - accuracy: 0.4298 - val_loss: 1.4952 - val_accuracy: 0.4220\n",
      "Epoch 6/10\n",
      "628/628 [==============================] - 90s 143ms/step - loss: 1.4536 - accuracy: 0.4395 - val_loss: 1.4961 - val_accuracy: 0.4264\n",
      "Epoch 7/10\n",
      "628/628 [==============================] - 89s 142ms/step - loss: 1.4285 - accuracy: 0.4503 - val_loss: 1.4882 - val_accuracy: 0.4324\n",
      "Epoch 8/10\n",
      "628/628 [==============================] - 90s 144ms/step - loss: 1.4109 - accuracy: 0.4608 - val_loss: 1.4821 - val_accuracy: 0.4411\n",
      "Epoch 9/10\n",
      "628/628 [==============================] - 90s 144ms/step - loss: 1.3925 - accuracy: 0.4642 - val_loss: 1.4811 - val_accuracy: 0.4368\n",
      "Epoch 10/10\n",
      "628/628 [==============================] - 90s 143ms/step - loss: 1.3688 - accuracy: 0.4740 - val_loss: 1.4808 - val_accuracy: 0.4350\n"
     ]
    }
   ],
   "source": [
    "history_vgg16 = new_model.fit(X_train_vgg16, y_train_cat, epochs=10, \n",
    "                    validation_data=(X_test_vgg16, y_test_cat))"
   ],
   "metadata": {
    "collapsed": false,
    "ExecuteTime": {
     "end_time": "2024-04-03T02:40:20.049086600Z",
     "start_time": "2024-04-03T02:25:27.541305800Z"
    }
   },
   "id": "fcba74a276e5bba9"
  },
  {
   "cell_type": "code",
   "execution_count": 269,
   "outputs": [
    {
     "name": "stdout",
     "output_type": "stream",
     "text": [
      "Final Training Accuracy: 0.47397491335868835\n",
      "Final Validation Accuracy: 0.43504005670547485\n"
     ]
    }
   ],
   "source": [
    "# Access the final accuracy from the history object\n",
    "train_accuracy = history_vgg16.history['accuracy'][-1]\n",
    "val_accuracy = history_vgg16.history['val_accuracy'][-1]\n",
    "\n",
    "print(f\"Final Training Accuracy: {train_accuracy}\")\n",
    "print(f\"Final Validation Accuracy: {val_accuracy}\")"
   ],
   "metadata": {
    "collapsed": false,
    "ExecuteTime": {
     "end_time": "2024-04-03T03:22:33.201674800Z",
     "start_time": "2024-04-03T03:22:33.144066700Z"
    }
   },
   "id": "19cf4c8e21efcc1b"
  },
  {
   "cell_type": "code",
   "execution_count": 258,
   "outputs": [
    {
     "data": {
      "text/plain": "<matplotlib.legend.Legend at 0x253c1fad040>"
     },
     "execution_count": 258,
     "metadata": {},
     "output_type": "execute_result"
    },
    {
     "data": {
      "text/plain": "<Figure size 500x500 with 1 Axes>",
      "image/png": "[encoded data removed]"
     },
     "metadata": {},
     "output_type": "display_data"
    }
   ],
   "source": [
    "fig = plt.figure(figsize=(2,2), dpi=250)\n",
    "plt.plot(history_vgg16.history['accuracy'], label='accuracy')\n",
    "plt.plot(history_vgg16.history['val_accuracy'], label = 'val_accuracy')\n",
    "plt.xlabel('Epoch')\n",
    "plt.ylabel('Accuracy')\n",
    "plt.ylim([0, 1])\n",
    "plt.legend(loc='lower right')"
   ],
   "metadata": {
    "collapsed": false,
    "ExecuteTime": {
     "end_time": "2024-04-03T02:40:20.180175700Z",
     "start_time": "2024-04-03T02:40:20.053140Z"
    }
   },
   "id": "33a754e90f5bb14"
  },
  {
   "cell_type": "code",
   "execution_count": 259,
   "outputs": [
    {
     "name": "stdout",
     "output_type": "stream",
     "text": [
      "270/270 - 25s - loss: 1.4808 - accuracy: 0.4350 - 25s/epoch - 92ms/step\n"
     ]
    }
   ],
   "source": [
    "test_loss, test_acc = new_model.evaluate(X_test_vgg16, y_test_cat, verbose=2)"
   ],
   "metadata": {
    "collapsed": false,
    "ExecuteTime": {
     "end_time": "2024-04-03T02:40:45.272870600Z",
     "start_time": "2024-04-03T02:40:20.177173200Z"
    }
   },
   "id": "b2a2df79a77c70c2"
  },
  {
   "cell_type": "markdown",
   "source": [
    "# 2.5 LeNet"
   ],
   "metadata": {
    "collapsed": false
   },
   "id": "478c808d2676056f"
  },
  {
   "cell_type": "code",
   "execution_count": 260,
   "outputs": [],
   "source": [
    "# LeNet5 Model\n",
    "model_LeNet = keras.Sequential()\n",
    "\n",
    "model_LeNet.add(layers.Conv2D(filters=6, kernel_size=(3, 3), activation='relu', input_shape=(48,48,1)))\n",
    "model_LeNet.add(layers.AveragePooling2D())\n",
    "\n",
    "model_LeNet.add(layers.Conv2D(filters=16, kernel_size=(3, 3), activation='relu'))\n",
    "model_LeNet.add(layers.AveragePooling2D())\n",
    "\n",
    "model_LeNet.add(layers.Flatten())\n",
    "\n",
    "model_LeNet.add(layers.Dense(units=120, activation='relu'))\n",
    "model_LeNet.add(layers.Dense(units=84, activation='relu'))\n",
    "model_LeNet.add(layers.Dense(units=10, activation = 'softmax'))"
   ],
   "metadata": {
    "collapsed": false,
    "ExecuteTime": {
     "end_time": "2024-04-03T02:40:45.337793600Z",
     "start_time": "2024-04-03T02:40:45.272870600Z"
    }
   },
   "id": "10fa9a486853be24"
  },
  {
   "cell_type": "code",
   "execution_count": 261,
   "outputs": [
    {
     "name": "stdout",
     "output_type": "stream",
     "text": [
      "Model: \"sequential_18\"\n",
      "_________________________________________________________________\n",
      " Layer (type)                Output Shape              Param #   \n",
      "=================================================================\n",
      " conv2d_14 (Conv2D)          (None, 46, 46, 6)         60        \n",
      "                                                                 \n",
      " average_pooling2d_4 (Avera  (None, 23, 23, 6)         0         \n",
      " gePooling2D)                                                    \n",
      "                                                                 \n",
      " conv2d_15 (Conv2D)          (None, 21, 21, 16)        880       \n",
      "                                                                 \n",
      " average_pooling2d_5 (Avera  (None, 10, 10, 16)        0         \n",
      " gePooling2D)                                                    \n",
      "                                                                 \n",
      " flatten_11 (Flatten)        (None, 1600)              0         \n",
      "                                                                 \n",
      " dense_50 (Dense)            (None, 120)               192120    \n",
      "                                                                 \n",
      " dense_51 (Dense)            (None, 84)                10164     \n",
      "                                                                 \n",
      " dense_52 (Dense)            (None, 10)                850       \n",
      "                                                                 \n",
      "=================================================================\n",
      "Total params: 204074 (797.16 KB)\n",
      "Trainable params: 204074 (797.16 KB)\n",
      "Non-trainable params: 0 (0.00 Byte)\n",
      "_________________________________________________________________\n"
     ]
    }
   ],
   "source": [
    "model_LeNet.summary()"
   ],
   "metadata": {
    "collapsed": false,
    "ExecuteTime": {
     "end_time": "2024-04-03T02:40:45.411136500Z",
     "start_time": "2024-04-03T02:40:45.336790900Z"
    }
   },
   "id": "55c5fc85c9d1de7c"
  },
  {
   "cell_type": "code",
   "execution_count": 262,
   "outputs": [],
   "source": [
    "model_LeNet.compile(optimizer=Adam(learning_rate=0.001),\n",
    "              loss=tf.keras.losses.SparseCategoricalCrossentropy(),\n",
    "              metrics=['accuracy'], run_eagerly=True)"
   ],
   "metadata": {
    "collapsed": false,
    "ExecuteTime": {
     "end_time": "2024-04-03T02:40:45.420656200Z",
     "start_time": "2024-04-03T02:40:45.368554100Z"
    }
   },
   "id": "a7307b81a92f68f3"
  },
  {
   "cell_type": "code",
   "execution_count": 263,
   "outputs": [
    {
     "name": "stdout",
     "output_type": "stream",
     "text": [
      "Epoch 1/10\n",
      "628/628 [==============================] - 24s 39ms/step - loss: 1.6632 - accuracy: 0.3482 - val_loss: 1.5763 - val_accuracy: 0.3956\n",
      "Epoch 2/10\n",
      "628/628 [==============================] - 24s 38ms/step - loss: 1.4815 - accuracy: 0.4279 - val_loss: 1.4838 - val_accuracy: 0.4179\n",
      "Epoch 3/10\n",
      "628/628 [==============================] - 24s 38ms/step - loss: 1.3766 - accuracy: 0.4713 - val_loss: 1.4429 - val_accuracy: 0.4400\n",
      "Epoch 4/10\n",
      "628/628 [==============================] - 24s 38ms/step - loss: 1.2916 - accuracy: 0.5056 - val_loss: 1.3935 - val_accuracy: 0.4605\n",
      "Epoch 5/10\n",
      "628/628 [==============================] - 24s 38ms/step - loss: 1.2194 - accuracy: 0.5345 - val_loss: 1.3563 - val_accuracy: 0.4774\n",
      "Epoch 6/10\n",
      "628/628 [==============================] - 24s 38ms/step - loss: 1.1428 - accuracy: 0.5696 - val_loss: 1.3631 - val_accuracy: 0.4886\n",
      "Epoch 7/10\n",
      "628/628 [==============================] - 24s 38ms/step - loss: 1.0715 - accuracy: 0.5960 - val_loss: 1.3695 - val_accuracy: 0.4876\n",
      "Epoch 8/10\n",
      "628/628 [==============================] - 24s 38ms/step - loss: 0.9924 - accuracy: 0.6250 - val_loss: 1.4064 - val_accuracy: 0.4963\n",
      "Epoch 9/10\n",
      "628/628 [==============================] - 24s 38ms/step - loss: 0.9082 - accuracy: 0.6661 - val_loss: 1.4825 - val_accuracy: 0.4801\n",
      "Epoch 10/10\n",
      "628/628 [==============================] - 24s 38ms/step - loss: 0.8205 - accuracy: 0.6967 - val_loss: 1.5373 - val_accuracy: 0.4853\n"
     ]
    }
   ],
   "source": [
    "history_LeNet = model_LeNet.fit(X_train_3D, y_train, epochs=10, \n",
    "                    validation_data=(X_test_3D, y_test))"
   ],
   "metadata": {
    "collapsed": false,
    "ExecuteTime": {
     "end_time": "2024-04-03T02:44:46.655286900Z",
     "start_time": "2024-04-03T02:40:45.383594600Z"
    }
   },
   "id": "b00566d808096a25"
  },
  {
   "cell_type": "code",
   "execution_count": 268,
   "outputs": [
    {
     "name": "stdout",
     "output_type": "stream",
     "text": [
      "Final Training Accuracy: 0.6967058181762695\n",
      "Final Validation Accuracy: 0.48531290888786316\n"
     ]
    }
   ],
   "source": [
    "# Access the final accuracy from the history object\n",
    "train_accuracy = history_LeNet.history['accuracy'][-1]\n",
    "val_accuracy = history_LeNet.history['val_accuracy'][-1]\n",
    "\n",
    "print(f\"Final Training Accuracy: {train_accuracy}\")\n",
    "print(f\"Final Validation Accuracy: {val_accuracy}\")"
   ],
   "metadata": {
    "collapsed": false,
    "ExecuteTime": {
     "end_time": "2024-04-03T03:21:45.269446100Z",
     "start_time": "2024-04-03T03:21:45.230366900Z"
    }
   },
   "id": "8b22356f355d0c8c"
  },
  {
   "cell_type": "code",
   "execution_count": 270,
   "outputs": [
    {
     "data": {
      "text/plain": "Text(0.5, 1.0, 'Training and Validation Accuracy')"
     },
     "execution_count": 270,
     "metadata": {},
     "output_type": "execute_result"
    },
    {
     "data": {
      "text/plain": "<Figure size 500x500 with 1 Axes>",
      "image/png": "[encoded data removed]"
     },
     "metadata": {},
     "output_type": "display_data"
    }
   ],
   "source": [
    "fig = plt.figure(figsize=(2,2), dpi=250)\n",
    "plt.plot(history_LeNet.history['accuracy'], label='Training Accuracy')\n",
    "plt.plot(history_LeNet.history['val_accuracy'], label='Validation Accuracy')\n",
    "plt.xlabel('Epoch')\n",
    "plt.ylabel('Accuracy')\n",
    "plt.ylim([0, 1])\n",
    "plt.legend(loc='lower right')\n",
    "plt.title('Training and Validation Accuracy')"
   ],
   "metadata": {
    "collapsed": false,
    "ExecuteTime": {
     "end_time": "2024-04-03T03:22:45.317344300Z",
     "start_time": "2024-04-03T03:22:45.168474600Z"
    }
   },
   "id": "3b8cbc397845c417"
  }
 ],
 "metadata": {
  "kernelspec": {
   "name": "myenv",
   "language": "python",
   "display_name": "myenv"
  },
  "language_info": {
   "codemirror_mode": {
    "name": "ipython",
    "version": 2
   },
   "file_extension": ".py",
   "mimetype": "text/x-python",
   "name": "python",
   "nbconvert_exporter": "python",
   "pygments_lexer": "ipython2",
   "version": "2.7.6"
  }
 },
 "nbformat": 4,
 "nbformat_minor": 5
}
